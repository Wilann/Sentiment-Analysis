{
 "cells": [
  {
   "cell_type": "markdown",
   "metadata": {},
   "source": [
    "# Creating a Sentiment Analysis Web App\n",
    "## Using PyTorch and SageMaker\n",
    "\n",
    "_Deep Learning Nanodegree Program | Deployment_\n",
    "\n",
    "---\n",
    "\n",
    "Now that we have a basic understanding of how SageMaker works we will try to use it to construct a complete project from end to end. Our goal will be to have a simple web page which a user can use to enter a movie review. The web page will then send the review off to our deployed model which will predict the sentiment of the entered review.\n",
    "\n",
    "## Instructions\n",
    "\n",
    "Some template code has already been provided for you, and you will need to implement additional functionality to successfully complete this notebook. You will not need to modify the included code beyond what is requested. Sections that begin with '**TODO**' in the header indicate that you need to complete or implement some portion within them. Instructions will be provided for each section and the specifics of the implementation are marked in the code block with a `# TODO: ...` comment. Please be sure to read the instructions carefully!\n",
    "\n",
    "In addition to implementing code, there will be questions for you to answer which relate to the task and your implementation. Each section where you will answer a question is preceded by a '**Question:**' header. Carefully read each question and provide your answer below the '**Answer:**' header by editing the Markdown cell.\n",
    "\n",
    "> **Note**: Code and Markdown cells can be executed using the **Shift+Enter** keyboard shortcut. In addition, a cell can be edited by typically clicking it (double-click for Markdown cells) or by pressing **Enter** while it is highlighted.\n",
    "\n",
    "## General Outline\n",
    "\n",
    "Recall the general outline for SageMaker projects using a notebook instance.\n",
    "\n",
    "1. Download or otherwise retrieve the data.\n",
    "2. Process / Prepare the data.\n",
    "3. Upload the processed data to S3.\n",
    "4. Train a chosen model.\n",
    "5. Test the trained model (typically using a batch transform job).\n",
    "6. Deploy the trained model.\n",
    "7. Use the deployed model.\n",
    "\n",
    "For this project, you will be following the steps in the general outline with some modifications. \n",
    "\n",
    "First, you will not be testing the model in its own step. You will still be testing the model, however, you will do it by deploying your model and then using the deployed model by sending the test data to it. One of the reasons for doing this is so that you can make sure that your deployed model is working correctly before moving forward.\n",
    "\n",
    "In addition, you will deploy and use your trained model a second time. In the second iteration you will customize the way that your trained model is deployed by including some of your own code. In addition, your newly deployed model will be used in the sentiment analysis web app."
   ]
  },
  {
   "cell_type": "markdown",
   "metadata": {},
   "source": [
    "## Step 1: Downloading the data\n",
    "\n",
    "As in the XGBoost in SageMaker notebook, we will be using the [IMDb dataset](http://ai.stanford.edu/~amaas/data/sentiment/)\n",
    "\n",
    "> Maas, Andrew L., et al. [Learning Word Vectors for Sentiment Analysis](http://ai.stanford.edu/~amaas/data/sentiment/). In _Proceedings of the 49th Annual Meeting of the Association for Computational Linguistics: Human Language Technologies_. Association for Computational Linguistics, 2011."
   ]
  },
  {
   "cell_type": "code",
   "execution_count": 1,
   "metadata": {},
   "outputs": [
    {
     "name": "stdout",
     "output_type": "stream",
     "text": [
      "mkdir: cannot create directory ‘../data’: File exists\n",
      "--2020-03-20 15:16:59--  http://ai.stanford.edu/~amaas/data/sentiment/aclImdb_v1.tar.gz\n",
      "Resolving ai.stanford.edu (ai.stanford.edu)... 171.64.68.10\n",
      "Connecting to ai.stanford.edu (ai.stanford.edu)|171.64.68.10|:80... connected.\n",
      "HTTP request sent, awaiting response... 200 OK\n",
      "Length: 84125825 (80M) [application/x-gzip]\n",
      "Saving to: ‘../data/aclImdb_v1.tar.gz’\n",
      "\n",
      "../data/aclImdb_v1. 100%[===================>]  80.23M  18.8MB/s    in 5.9s    \n",
      "\n",
      "2020-03-20 15:17:05 (13.5 MB/s) - ‘../data/aclImdb_v1.tar.gz’ saved [84125825/84125825]\n",
      "\n"
     ]
    }
   ],
   "source": [
    "%mkdir ../data\n",
    "!wget -O ../data/aclImdb_v1.tar.gz http://ai.stanford.edu/~amaas/data/sentiment/aclImdb_v1.tar.gz\n",
    "!tar -zxf ../data/aclImdb_v1.tar.gz -C ../data"
   ]
  },
  {
   "cell_type": "markdown",
   "metadata": {},
   "source": [
    "## Step 2: Preparing and Processing the data\n",
    "\n",
    "Also, as in the XGBoost notebook, we will be doing some initial data processing. The first few steps are the same as in the XGBoost example. To begin with, we will read in each of the reviews and combine them into a single input structure. Then, we will split the dataset into a training set and a testing set."
   ]
  },
  {
   "cell_type": "code",
   "execution_count": 2,
   "metadata": {},
   "outputs": [],
   "source": [
    "import os\n",
    "import glob\n",
    "\n",
    "def read_imdb_data(data_dir='../data/aclImdb'):\n",
    "    data = {}\n",
    "    labels = {}\n",
    "    \n",
    "    for data_type in ['train', 'test']:\n",
    "        data[data_type] = {}\n",
    "        labels[data_type] = {}\n",
    "        \n",
    "        for sentiment in ['pos', 'neg']:\n",
    "            data[data_type][sentiment] = []\n",
    "            labels[data_type][sentiment] = []\n",
    "            \n",
    "            path = os.path.join(data_dir, data_type, sentiment, '*.txt')\n",
    "            files = glob.glob(path)\n",
    "            \n",
    "            for f in files:\n",
    "                with open(f) as review:\n",
    "                    data[data_type][sentiment].append(review.read())\n",
    "                    # Here we represent a positive review by '1' and a negative review by '0'\n",
    "                    labels[data_type][sentiment].append(1 if sentiment == 'pos' else 0)\n",
    "                    \n",
    "            assert len(data[data_type][sentiment]) == len(labels[data_type][sentiment]), \\\n",
    "                    \"{}/{} data size does not match labels size\".format(data_type, sentiment)\n",
    "                \n",
    "    return data, labels"
   ]
  },
  {
   "cell_type": "code",
   "execution_count": 3,
   "metadata": {},
   "outputs": [
    {
     "name": "stdout",
     "output_type": "stream",
     "text": [
      "IMDB reviews: train = 12500 pos / 12500 neg, test = 12500 pos / 12500 neg\n"
     ]
    }
   ],
   "source": [
    "data, labels = read_imdb_data()\n",
    "print(\"IMDB reviews: train = {} pos / {} neg, test = {} pos / {} neg\".format(\n",
    "            len(data['train']['pos']), len(data['train']['neg']),\n",
    "            len(data['test']['pos']), len(data['test']['neg'])))"
   ]
  },
  {
   "cell_type": "markdown",
   "metadata": {},
   "source": [
    "Now that we've read the raw training and testing data from the downloaded dataset, we will combine the positive and negative reviews and shuffle the resulting records."
   ]
  },
  {
   "cell_type": "code",
   "execution_count": 4,
   "metadata": {},
   "outputs": [],
   "source": [
    "from sklearn.utils import shuffle\n",
    "\n",
    "def prepare_imdb_data(data, labels):\n",
    "    \"\"\"Prepare training and test sets from IMDb movie reviews.\"\"\"\n",
    "    \n",
    "    #Combine positive and negative reviews and labels\n",
    "    data_train = data['train']['pos'] + data['train']['neg']\n",
    "    data_test = data['test']['pos'] + data['test']['neg']\n",
    "    labels_train = labels['train']['pos'] + labels['train']['neg']\n",
    "    labels_test = labels['test']['pos'] + labels['test']['neg']\n",
    "    \n",
    "    #Shuffle reviews and corresponding labels within training and test sets\n",
    "    data_train, labels_train = shuffle(data_train, labels_train)\n",
    "    data_test, labels_test = shuffle(data_test, labels_test)\n",
    "    \n",
    "    # Return a unified training data, test data, training labels, test labets\n",
    "    return data_train, data_test, labels_train, labels_test"
   ]
  },
  {
   "cell_type": "code",
   "execution_count": 5,
   "metadata": {},
   "outputs": [
    {
     "name": "stdout",
     "output_type": "stream",
     "text": [
      "IMDb reviews (combined): train = 25000, test = 25000\n"
     ]
    }
   ],
   "source": [
    "train_X, test_X, train_y, test_y = prepare_imdb_data(data, labels)\n",
    "print(\"IMDb reviews (combined): train = {}, test = {}\".format(len(train_X), len(test_X)))"
   ]
  },
  {
   "cell_type": "markdown",
   "metadata": {},
   "source": [
    "Now that we have our training and testing sets unified and prepared, we should do a quick check and see an example of the data our model will be trained on. This is generally a good idea as it allows you to see how each of the further processing steps affects the reviews and it also ensures that the data has been loaded correctly."
   ]
  },
  {
   "cell_type": "code",
   "execution_count": 6,
   "metadata": {},
   "outputs": [
    {
     "name": "stdout",
     "output_type": "stream",
     "text": [
      "French production in which leading film directors from 11 countries were invited to create 11-minute short films conveying their reflections on the events of September 11.<br /><br />The film segments vary widely in content and quality. Two allude to U.S. complicity in terrorist acts (in Chile against Allende, who died on September 11, 1973, depicted in the segment by British director Ken Loach; and in Palestine by U.S.-backed Israelis, shown in the segment from Egyptian director Youssef Chahine). Two more recall other destructive acts (a Palestinian suicide bombing in Tel Aviv, shot by Israeli director Amos Gitan; the Japanese \"holy war\" against the west in WW II, by Shohei Imamura).<br /><br />Ironies abound in several stories. Shadows that darken the New York City apartment of a grieving old man suddenly disappear as the World Trade towers telescope to the ground in Sean Penn's piece, bringing the man momentary joy. But in this bright light he can finally see that his wife is really gone. In Mira Nair's film, based on a real incident, a missing young man, also in New York City, the son of a Pakistani family, is first presumed to be a fugitive terrorist, but later he proves to a hero who sacrificed himself trying to save others in the towers.<br /><br />There are poignant moments dotted throughout. Loach has his exiled Chilean man quote St. Augustine, to the effect that hope is built of anger and courage: anger at the way things are, courage to change them. Imamura tells us that there is no such thing as a holy war. Samira Makhmalbaf shows a teacher with her very young Afghan schoolchildren, exiled in Iran, trying to tell them about the events that have just transpired in New York. But they are understandably more impressed with a major event in their refugee camp, where two men have fallen into a deep well, one killed, the other sustaining a broken leg. This is comprehensible tragedy on a grand scale for the 6 year olds. <br /><br />Idrissa Ouedraogo, from Burkina Faso, creates a drama in which the son of an ailing woman spots Osama bin Laden in their village and gathers his buddies to help capture the fugitive terrorist, in order to get the $25 million U. S. reward. He tells his friends not to let any of the adults know their plans, for the older folks would merely waste the money on cars and cigarettes, while he plans to help his mother and others who are sick and destitute.<br /><br />It is Mexican director Alejandro Gonzalez Inarritu (maker of \"Amores Perros\") who provides by far the most powerful and chilling segment, one that, for the most part, shows only a darkened screen with audio tape loops of chanting and voices and occasional thudding sounds. Brief visual flashes gradually permit us to see bodies falling from the high floors of the towers, and it dawns on us that the thuds are these bodies hitting the ground. The sequence ends with elegiac orchestral music and a still shot, bearing a phrase first shown only in Arabic, then with a translation added: \"Does God's light guide us or blind us?\" (In various languages with English subtitles) Grade: 8/10 (B+). (Seen on 10/31/04). If you'd like to read more of my reviews, send me a message for directions to my websites.\n",
      "1\n"
     ]
    }
   ],
   "source": [
    "print(train_X[100])\n",
    "print(train_y[100])"
   ]
  },
  {
   "cell_type": "markdown",
   "metadata": {},
   "source": [
    "The first step in processing the reviews is to make sure that any html tags that appear should be removed. In addition we wish to tokenize our input, that way words such as *entertained* and *entertaining* are considered the same with regard to sentiment analysis."
   ]
  },
  {
   "cell_type": "code",
   "execution_count": 7,
   "metadata": {},
   "outputs": [],
   "source": [
    "import nltk\n",
    "from nltk.corpus import stopwords\n",
    "from nltk.stem.porter import *\n",
    "\n",
    "import re\n",
    "from bs4 import BeautifulSoup\n",
    "\n",
    "def review_to_words(review):\n",
    "    nltk.download(\"stopwords\", quiet=True)\n",
    "    stemmer = PorterStemmer()\n",
    "    \n",
    "    text = BeautifulSoup(review, \"html.parser\").get_text() # Remove HTML tags\n",
    "    text = re.sub(r\"[^a-zA-Z0-9]\", \" \", text.lower()) # Convert to lower case\n",
    "    words = text.split() # Split string into words\n",
    "    words = [w for w in words if w not in stopwords.words(\"english\")] # Remove stopwords\n",
    "    words = [PorterStemmer().stem(w) for w in words] # stem\n",
    "    \n",
    "    return words"
   ]
  },
  {
   "cell_type": "markdown",
   "metadata": {},
   "source": [
    "The `review_to_words` method defined above uses `BeautifulSoup` to remove any html tags that appear and uses the `nltk` package to tokenize the reviews. As a check to ensure we know how everything is working, try applying `review_to_words` to one of the reviews in the training set."
   ]
  },
  {
   "cell_type": "code",
   "execution_count": 10,
   "metadata": {},
   "outputs": [
    {
     "data": {
      "text/plain": [
       "['french',\n",
       " 'product',\n",
       " 'lead',\n",
       " 'film',\n",
       " 'director',\n",
       " '11',\n",
       " 'countri',\n",
       " 'invit',\n",
       " 'creat',\n",
       " '11',\n",
       " 'minut',\n",
       " 'short',\n",
       " 'film',\n",
       " 'convey',\n",
       " 'reflect',\n",
       " 'event',\n",
       " 'septemb',\n",
       " '11',\n",
       " 'film',\n",
       " 'segment',\n",
       " 'vari',\n",
       " 'wide',\n",
       " 'content',\n",
       " 'qualiti',\n",
       " 'two',\n",
       " 'allud',\n",
       " 'u',\n",
       " 'complic',\n",
       " 'terrorist',\n",
       " 'act',\n",
       " 'chile',\n",
       " 'allend',\n",
       " 'die',\n",
       " 'septemb',\n",
       " '11',\n",
       " '1973',\n",
       " 'depict',\n",
       " 'segment',\n",
       " 'british',\n",
       " 'director',\n",
       " 'ken',\n",
       " 'loach',\n",
       " 'palestin',\n",
       " 'u',\n",
       " 'back',\n",
       " 'isra',\n",
       " 'shown',\n",
       " 'segment',\n",
       " 'egyptian',\n",
       " 'director',\n",
       " 'youssef',\n",
       " 'chahin',\n",
       " 'two',\n",
       " 'recal',\n",
       " 'destruct',\n",
       " 'act',\n",
       " 'palestinian',\n",
       " 'suicid',\n",
       " 'bomb',\n",
       " 'tel',\n",
       " 'aviv',\n",
       " 'shot',\n",
       " 'isra',\n",
       " 'director',\n",
       " 'amo',\n",
       " 'gitan',\n",
       " 'japanes',\n",
       " 'holi',\n",
       " 'war',\n",
       " 'west',\n",
       " 'ww',\n",
       " 'ii',\n",
       " 'shohei',\n",
       " 'imamura',\n",
       " 'ironi',\n",
       " 'abound',\n",
       " 'sever',\n",
       " 'stori',\n",
       " 'shadow',\n",
       " 'darken',\n",
       " 'new',\n",
       " 'york',\n",
       " 'citi',\n",
       " 'apart',\n",
       " 'griev',\n",
       " 'old',\n",
       " 'man',\n",
       " 'suddenli',\n",
       " 'disappear',\n",
       " 'world',\n",
       " 'trade',\n",
       " 'tower',\n",
       " 'telescop',\n",
       " 'ground',\n",
       " 'sean',\n",
       " 'penn',\n",
       " 'piec',\n",
       " 'bring',\n",
       " 'man',\n",
       " 'momentari',\n",
       " 'joy',\n",
       " 'bright',\n",
       " 'light',\n",
       " 'final',\n",
       " 'see',\n",
       " 'wife',\n",
       " 'realli',\n",
       " 'gone',\n",
       " 'mira',\n",
       " 'nair',\n",
       " 'film',\n",
       " 'base',\n",
       " 'real',\n",
       " 'incid',\n",
       " 'miss',\n",
       " 'young',\n",
       " 'man',\n",
       " 'also',\n",
       " 'new',\n",
       " 'york',\n",
       " 'citi',\n",
       " 'son',\n",
       " 'pakistani',\n",
       " 'famili',\n",
       " 'first',\n",
       " 'presum',\n",
       " 'fugit',\n",
       " 'terrorist',\n",
       " 'later',\n",
       " 'prove',\n",
       " 'hero',\n",
       " 'sacrif',\n",
       " 'tri',\n",
       " 'save',\n",
       " 'other',\n",
       " 'tower',\n",
       " 'poignant',\n",
       " 'moment',\n",
       " 'dot',\n",
       " 'throughout',\n",
       " 'loach',\n",
       " 'exil',\n",
       " 'chilean',\n",
       " 'man',\n",
       " 'quot',\n",
       " 'st',\n",
       " 'augustin',\n",
       " 'effect',\n",
       " 'hope',\n",
       " 'built',\n",
       " 'anger',\n",
       " 'courag',\n",
       " 'anger',\n",
       " 'way',\n",
       " 'thing',\n",
       " 'courag',\n",
       " 'chang',\n",
       " 'imamura',\n",
       " 'tell',\n",
       " 'us',\n",
       " 'thing',\n",
       " 'holi',\n",
       " 'war',\n",
       " 'samira',\n",
       " 'makhmalbaf',\n",
       " 'show',\n",
       " 'teacher',\n",
       " 'young',\n",
       " 'afghan',\n",
       " 'schoolchildren',\n",
       " 'exil',\n",
       " 'iran',\n",
       " 'tri',\n",
       " 'tell',\n",
       " 'event',\n",
       " 'transpir',\n",
       " 'new',\n",
       " 'york',\n",
       " 'understand',\n",
       " 'impress',\n",
       " 'major',\n",
       " 'event',\n",
       " 'refuge',\n",
       " 'camp',\n",
       " 'two',\n",
       " 'men',\n",
       " 'fallen',\n",
       " 'deep',\n",
       " 'well',\n",
       " 'one',\n",
       " 'kill',\n",
       " 'sustain',\n",
       " 'broken',\n",
       " 'leg',\n",
       " 'comprehens',\n",
       " 'tragedi',\n",
       " 'grand',\n",
       " 'scale',\n",
       " '6',\n",
       " 'year',\n",
       " 'old',\n",
       " 'idrissa',\n",
       " 'ouedraogo',\n",
       " 'burkina',\n",
       " 'faso',\n",
       " 'creat',\n",
       " 'drama',\n",
       " 'son',\n",
       " 'ail',\n",
       " 'woman',\n",
       " 'spot',\n",
       " 'osama',\n",
       " 'bin',\n",
       " 'laden',\n",
       " 'villag',\n",
       " 'gather',\n",
       " 'buddi',\n",
       " 'help',\n",
       " 'captur',\n",
       " 'fugit',\n",
       " 'terrorist',\n",
       " 'order',\n",
       " 'get',\n",
       " '25',\n",
       " 'million',\n",
       " 'u',\n",
       " 'reward',\n",
       " 'tell',\n",
       " 'friend',\n",
       " 'let',\n",
       " 'adult',\n",
       " 'know',\n",
       " 'plan',\n",
       " 'older',\n",
       " 'folk',\n",
       " 'would',\n",
       " 'mere',\n",
       " 'wast',\n",
       " 'money',\n",
       " 'car',\n",
       " 'cigarett',\n",
       " 'plan',\n",
       " 'help',\n",
       " 'mother',\n",
       " 'other',\n",
       " 'sick',\n",
       " 'destitut',\n",
       " 'mexican',\n",
       " 'director',\n",
       " 'alejandro',\n",
       " 'gonzalez',\n",
       " 'inarritu',\n",
       " 'maker',\n",
       " 'amor',\n",
       " 'perro',\n",
       " 'provid',\n",
       " 'far',\n",
       " 'power',\n",
       " 'chill',\n",
       " 'segment',\n",
       " 'one',\n",
       " 'part',\n",
       " 'show',\n",
       " 'darken',\n",
       " 'screen',\n",
       " 'audio',\n",
       " 'tape',\n",
       " 'loop',\n",
       " 'chant',\n",
       " 'voic',\n",
       " 'occasion',\n",
       " 'thud',\n",
       " 'sound',\n",
       " 'brief',\n",
       " 'visual',\n",
       " 'flash',\n",
       " 'gradual',\n",
       " 'permit',\n",
       " 'us',\n",
       " 'see',\n",
       " 'bodi',\n",
       " 'fall',\n",
       " 'high',\n",
       " 'floor',\n",
       " 'tower',\n",
       " 'dawn',\n",
       " 'us',\n",
       " 'thud',\n",
       " 'bodi',\n",
       " 'hit',\n",
       " 'ground',\n",
       " 'sequenc',\n",
       " 'end',\n",
       " 'elegiac',\n",
       " 'orchestr',\n",
       " 'music',\n",
       " 'still',\n",
       " 'shot',\n",
       " 'bear',\n",
       " 'phrase',\n",
       " 'first',\n",
       " 'shown',\n",
       " 'arab',\n",
       " 'translat',\n",
       " 'ad',\n",
       " 'god',\n",
       " 'light',\n",
       " 'guid',\n",
       " 'us',\n",
       " 'blind',\n",
       " 'us',\n",
       " 'variou',\n",
       " 'languag',\n",
       " 'english',\n",
       " 'subtitl',\n",
       " 'grade',\n",
       " '8',\n",
       " '10',\n",
       " 'b',\n",
       " 'seen',\n",
       " '10',\n",
       " '31',\n",
       " '04',\n",
       " 'like',\n",
       " 'read',\n",
       " 'review',\n",
       " 'send',\n",
       " 'messag',\n",
       " 'direct',\n",
       " 'websit']"
      ]
     },
     "execution_count": 10,
     "metadata": {},
     "output_type": "execute_result"
    }
   ],
   "source": [
    "# TODO: Apply review_to_words to a review (train_X[100] or any other review)\n",
    "review_to_words(train_X[100])"
   ]
  },
  {
   "cell_type": "markdown",
   "metadata": {},
   "source": [
    "**Question:** Above we mentioned that `review_to_words` method removes html formatting and allows us to tokenize the words found in a review, for example, converting *entertained* and *entertaining* into *entertain* so that they are treated as though they are the same word. What else, if anything, does this method do to the input?"
   ]
  },
  {
   "cell_type": "markdown",
   "metadata": {},
   "source": [
    "**Answer:** `review_to_words` also turns all letters into lowercase, splits the entire review into individual words, and removes all stopwords"
   ]
  },
  {
   "cell_type": "markdown",
   "metadata": {},
   "source": [
    "The method below applies the `review_to_words` method to each of the reviews in the training and testing datasets. In addition it caches the results. This is because performing this processing step can take a long time. This way if you are unable to complete the notebook in the current session, you can come back without needing to process the data a second time."
   ]
  },
  {
   "cell_type": "code",
   "execution_count": 11,
   "metadata": {},
   "outputs": [],
   "source": [
    "import pickle\n",
    "\n",
    "cache_dir = os.path.join(\"../cache\", \"sentiment_analysis\")  # where to store cache files\n",
    "os.makedirs(cache_dir, exist_ok=True)  # ensure cache directory exists\n",
    "\n",
    "def preprocess_data(data_train, data_test, labels_train, labels_test,\n",
    "                    cache_dir=cache_dir, cache_file=\"preprocessed_data.pkl\"):\n",
    "    \"\"\"Convert each review to words; read from cache if available.\"\"\"\n",
    "\n",
    "    # If cache_file is not None, try to read from it first\n",
    "    cache_data = None\n",
    "    if cache_file is not None:\n",
    "        try:\n",
    "            with open(os.path.join(cache_dir, cache_file), \"rb\") as f:\n",
    "                cache_data = pickle.load(f)\n",
    "            print(\"Read preprocessed data from cache file:\", cache_file)\n",
    "        except:\n",
    "            pass  # unable to read from cache, but that's okay\n",
    "    \n",
    "    # If cache is missing, then do the heavy lifting\n",
    "    if cache_data is None:\n",
    "        # Preprocess training and test data to obtain words for each review\n",
    "        #words_train = list(map(review_to_words, data_train))\n",
    "        #words_test = list(map(review_to_words, data_test))\n",
    "        words_train = [review_to_words(review) for review in data_train]\n",
    "        words_test = [review_to_words(review) for review in data_test]\n",
    "        \n",
    "        # Write to cache file for future runs\n",
    "        if cache_file is not None:\n",
    "            cache_data = dict(words_train=words_train, words_test=words_test,\n",
    "                              labels_train=labels_train, labels_test=labels_test)\n",
    "            with open(os.path.join(cache_dir, cache_file), \"wb\") as f:\n",
    "                pickle.dump(cache_data, f)\n",
    "            print(\"Wrote preprocessed data to cache file:\", cache_file)\n",
    "    else:\n",
    "        # Unpack data loaded from cache file\n",
    "        words_train, words_test, labels_train, labels_test = (cache_data['words_train'],\n",
    "                cache_data['words_test'], cache_data['labels_train'], cache_data['labels_test'])\n",
    "    \n",
    "    return words_train, words_test, labels_train, labels_test"
   ]
  },
  {
   "cell_type": "code",
   "execution_count": 12,
   "metadata": {},
   "outputs": [
    {
     "name": "stdout",
     "output_type": "stream",
     "text": [
      "Read preprocessed data from cache file: preprocessed_data.pkl\n"
     ]
    }
   ],
   "source": [
    "# Preprocess data\n",
    "train_X, test_X, train_y, test_y = preprocess_data(train_X, test_X, train_y, test_y)"
   ]
  },
  {
   "cell_type": "markdown",
   "metadata": {},
   "source": [
    "## Transform the data\n",
    "\n",
    "In the XGBoost notebook we transformed the data from its word representation to a bag-of-words feature representation. For the model we are going to construct in this notebook we will construct a feature representation which is very similar. To start, we will represent each word as an integer. Of course, some of the words that appear in the reviews occur very infrequently and so likely don't contain much information for the purposes of sentiment analysis. The way we will deal with this problem is that we will fix the size of our working vocabulary and we will only include the words that appear most frequently. We will then combine all of the infrequent words into a single category and, in our case, we will label it as `1`.\n",
    "\n",
    "Since we will be using a recurrent neural network, it will be convenient if the length of each review is the same. To do this, we will fix a size for our reviews and then pad short reviews with the category 'no word' (which we will label `0`) and truncate long reviews."
   ]
  },
  {
   "cell_type": "markdown",
   "metadata": {},
   "source": [
    "### (TODO) Create a word dictionary\n",
    "\n",
    "To begin with, we need to construct a way to map words that appear in the reviews to integers. Here we fix the size of our vocabulary (including the 'no word' and 'infrequent' categories) to be `5000` but you may wish to change this to see how it affects the model.\n",
    "\n",
    "> **TODO:** Complete the implementation for the `build_dict()` method below. Note that even though the vocab_size is set to `5000`, we only want to construct a mapping for the most frequently appearing `4998` words. This is because we want to reserve the special labels `0` for 'no word' and `1` for 'infrequent word'."
   ]
  },
  {
   "cell_type": "code",
   "execution_count": 66,
   "metadata": {},
   "outputs": [],
   "source": [
    "def mergesort(items, item_counts):\n",
    "    '''\n",
    "    Performs mergesort (from greatest to least) on items\n",
    "    \n",
    "    Args:\n",
    "        items (list): List of words to sort \n",
    "        item_counts (dict): Mapping of item to number of items (format is item: count)\n",
    "    \n",
    "    Returns:\n",
    "        A list of items sorted from greatest to least \n",
    "    '''\n",
    "    \n",
    "    if len(items) <= 1:\n",
    "        return items\n",
    "    \n",
    "    mid = len(items) // 2\n",
    "    left = items[:mid]\n",
    "    right = items[mid:]\n",
    "    \n",
    "    left = mergesort(left, item_counts)\n",
    "    right = mergesort(right, item_counts)\n",
    "    \n",
    "    return merge(left, right, item_counts)\n",
    "\n",
    "def merge(left, right, item_counts):\n",
    "    '''Helper function for mergesort'''\n",
    "    \n",
    "    merged = []\n",
    "    left_index = 0\n",
    "    right_index = 0\n",
    "    \n",
    "    while left_index < len(left) and right_index < len(right):\n",
    "        \n",
    "        if item_counts[left[left_index]] > item_counts[right[right_index]]:\n",
    "            merged.append(left[left_index])\n",
    "            left_index += 1\n",
    "        \n",
    "        else:\n",
    "            merged.append(right[right_index])\n",
    "            right_index += 1\n",
    "    \n",
    "    merged += left[left_index:]\n",
    "    merged += right[right_index:]\n",
    "    \n",
    "    return merged"
   ]
  },
  {
   "cell_type": "code",
   "execution_count": 77,
   "metadata": {},
   "outputs": [],
   "source": [
    "import numpy as np\n",
    "\n",
    "def build_dict(data, vocab_size = 5000):\n",
    "    \"\"\"Construct and return a dictionary mapping each of the most frequently appearing words to a unique integer.\"\"\"\n",
    "    \n",
    "    # TODO: Determine how often each word appears in `data`. Note that `data` is a list of sentences and that a\n",
    "    #       sentence is a list of words.    \n",
    "    \n",
    "    word_count = {} # Stores the words that appear in the reviews along with how often they occur (word: count)\n",
    "    for sentence in data:\n",
    "        for word in sentence:\n",
    "            if word in word_count:\n",
    "                word_count[word] += 1\n",
    "            else:\n",
    "                word_count[word] = 1\n",
    "    \n",
    "    # TODO: Sort the words found in `data` so that sorted_words[0] is the most frequently appearing word and\n",
    "    #       sorted_words[-1] is the least frequently appearing word.\n",
    "    \n",
    "    sorted_words = list(word_count.keys())\n",
    "    sorted_words = mergesort(sorted_words, word_count)\n",
    "    \n",
    "    # Build a dictionary that translates words into integers\n",
    "    word_dict = {} \n",
    "    for idx, word in enumerate(sorted_words[:vocab_size - 2]): # The -2 is so that we save room for the 'no word'\n",
    "        word_dict[word] = idx + 2                              # 'infrequent' labels\n",
    "        \n",
    "    return word_dict"
   ]
  },
  {
   "cell_type": "code",
   "execution_count": 78,
   "metadata": {},
   "outputs": [
    {
     "name": "stdout",
     "output_type": "stream",
     "text": [
      "{'movi': 2, 'film': 3, 'one': 4, 'like': 5, 'time': 6, 'good': 7, 'make': 8, 'charact': 9, 'get': 10, 'see': 11, 'watch': 12, 'stori': 13, 'even': 14, 'would': 15, 'realli': 16, 'well': 17, 'scene': 18, 'look': 19, 'show': 20, 'much': 21, 'end': 22, 'peopl': 23, 'bad': 24, 'go': 25, 'great': 26, 'also': 27, 'first': 28, 'love': 29, 'think': 30, 'way': 31, 'act': 32, 'play': 33, 'made': 34, 'thing': 35, 'could': 36, 'know': 37, 'say': 38, 'seem': 39, 'work': 40, 'plot': 41, 'two': 42, 'actor': 43, 'year': 44, 'come': 45, 'mani': 46, 'seen': 47, 'take': 48, 'want': 49, 'life': 50, 'never': 51, 'littl': 52, 'best': 53, 'tri': 54, 'man': 55, 'ever': 56, 'give': 57, 'better': 58, 'still': 59, 'perform': 60, 'find': 61, 'feel': 62, 'part': 63, 'back': 64, 'use': 65, 'someth': 66, 'director': 67, 'actual': 68, 'interest': 69, 'lot': 70, 'real': 71, 'old': 72, 'cast': 73, 'though': 74, 'live': 75, 'star': 76, 'enjoy': 77, 'guy': 78, 'anoth': 79, 'new': 80, 'role': 81, 'noth': 82, '10': 83, 'funni': 84, 'music': 85, 'point': 86, 'start': 87, 'set': 88, 'girl': 89, 'origin': 90, 'day': 91, 'world': 92, 'everi': 93, 'believ': 94, 'turn': 95, 'quit': 96, 'us': 97, 'direct': 98, 'thought': 99, 'fact': 100, 'minut': 101, 'horror': 102, 'kill': 103, 'action': 104, 'comedi': 105, 'pretti': 106, 'young': 107, 'wonder': 108, 'happen': 109, 'around': 110, 'got': 111, 'effect': 112, 'right': 113, 'long': 114, 'howev': 115, 'big': 116, 'line': 117, 'famili': 118, 'enough': 119, 'seri': 120, 'may': 121, 'need': 122, 'fan': 123, 'bit': 124, 'script': 125, 'beauti': 126, 'person': 127, 'becom': 128, 'without': 129, 'must': 130, 'alway': 131, 'friend': 132, 'tell': 133, 'reason': 134, 'saw': 135, 'last': 136, 'final': 137, 'kid': 138, 'almost': 139, 'put': 140, 'least': 141, 'sure': 142, 'done': 143, 'whole': 144, 'place': 145, 'complet': 146, 'kind': 147, 'expect': 148, 'differ': 149, 'shot': 150, 'far': 151, 'mean': 152, 'anyth': 153, 'book': 154, 'laugh': 155, 'might': 156, 'name': 157, 'sinc': 158, 'begin': 159, '2': 160, 'probabl': 161, 'woman': 162, 'help': 163, 'entertain': 164, 'let': 165, 'screen': 166, 'call': 167, 'tv': 168, 'moment': 169, 'away': 170, 'read': 171, 'yet': 172, 'rather': 173, 'worst': 174, 'run': 175, 'fun': 176, 'lead': 177, 'hard': 178, 'audienc': 179, 'idea': 180, 'anyon': 181, 'episod': 182, 'american': 183, 'found': 184, 'appear': 185, 'bore': 186, 'especi': 187, 'although': 188, 'hope': 189, 'cours': 190, 'keep': 191, 'anim': 192, 'job': 193, 'goe': 194, 'move': 195, 'sens': 196, 'version': 197, 'dvd': 198, 'war': 199, 'money': 200, 'someon': 201, 'mind': 202, 'mayb': 203, 'problem': 204, 'true': 205, 'hous': 206, 'everyth': 207, 'nice': 208, 'second': 209, 'rate': 210, 'three': 211, 'night': 212, 'face': 213, 'follow': 214, 'recommend': 215, 'main': 216, 'product': 217, 'worth': 218, 'leav': 219, 'human': 220, 'special': 221, 'excel': 222, 'togeth': 223, 'wast': 224, 'everyon': 225, 'sound': 226, 'john': 227, 'hand': 228, '1': 229, 'father': 230, 'later': 231, 'eye': 232, 'said': 233, 'view': 234, 'instead': 235, 'review': 236, 'boy': 237, 'high': 238, 'hour': 239, 'miss': 240, 'talk': 241, 'classic': 242, 'wife': 243, 'understand': 244, 'left': 245, 'care': 246, 'black': 247, 'death': 248, 'open': 249, 'murder': 250, 'write': 251, 'half': 252, 'head': 253, 'rememb': 254, 'chang': 255, 'viewer': 256, 'fight': 257, 'gener': 258, 'surpris': 259, 'includ': 260, 'short': 261, 'die': 262, 'fall': 263, 'less': 264, 'els': 265, 'entir': 266, 'piec': 267, 'involv': 268, 'pictur': 269, 'simpli': 270, 'home': 271, 'power': 272, 'top': 273, 'total': 274, 'usual': 275, 'budget': 276, 'attempt': 277, 'suppos': 278, 'releas': 279, 'hollywood': 280, 'terribl': 281, 'song': 282, 'men': 283, 'possibl': 284, 'featur': 285, 'portray': 286, 'disappoint': 287, 'poor': 288, '3': 289, 'coupl': 290, 'stupid': 291, 'camera': 292, 'dead': 293, 'wrong': 294, 'produc': 295, 'low': 296, 'video': 297, 'either': 298, 'aw': 299, 'definit': 300, 'except': 301, 'rest': 302, 'given': 303, 'absolut': 304, 'women': 305, 'lack': 306, 'word': 307, 'writer': 308, 'titl': 309, 'talent': 310, 'decid': 311, 'full': 312, 'perfect': 313, 'along': 314, 'style': 315, 'close': 316, 'truli': 317, 'school': 318, 'save': 319, 'emot': 320, 'age': 321, 'sex': 322, 'next': 323, 'bring': 324, 'mr': 325, 'case': 326, 'killer': 327, 'heart': 328, 'comment': 329, 'sort': 330, 'creat': 331, 'perhap': 332, 'came': 333, 'brother': 334, 'sever': 335, 'joke': 336, 'art': 337, 'dialogu': 338, 'game': 339, 'small': 340, 'base': 341, 'flick': 342, 'written': 343, 'sequenc': 344, 'meet': 345, 'earli': 346, 'often': 347, 'other': 348, 'mother': 349, 'develop': 350, 'humor': 351, 'actress': 352, 'consid': 353, 'dark': 354, 'guess': 355, 'amaz': 356, 'unfortun': 357, 'lost': 358, 'light': 359, 'exampl': 360, 'cinema': 361, 'drama': 362, 'ye': 363, 'white': 364, 'experi': 365, 'imagin': 366, 'mention': 367, 'stop': 368, 'natur': 369, 'forc': 370, 'manag': 371, 'felt': 372, 'cut': 373, 'present': 374, 'children': 375, 'fail': 376, 'son': 377, 'car': 378, 'support': 379, 'qualiti': 380, 'ask': 381, 'hit': 382, 'side': 383, 'voic': 384, 'extrem': 385, 'impress': 386, 'evil': 387, 'wors': 388, 'went': 389, 'stand': 390, 'certainli': 391, 'basic': 392, 'oh': 393, 'overal': 394, 'favorit': 395, 'horribl': 396, 'mysteri': 397, 'number': 398, 'type': 399, 'danc': 400, 'wait': 401, 'hero': 402, '5': 403, 'alreadi': 404, 'learn': 405, 'matter': 406, '4': 407, 'michael': 408, 'genr': 409, 'fine': 410, 'despit': 411, 'throughout': 412, 'walk': 413, 'success': 414, 'histori': 415, 'question': 416, 'zombi': 417, 'town': 418, 'relationship': 419, 'realiz': 420, 'child': 421, 'past': 422, 'daughter': 423, 'late': 424, 'b': 425, 'wish': 426, 'credit': 427, 'hate': 428, 'event': 429, 'theme': 430, 'touch': 431, 'citi': 432, 'today': 433, 'sometim': 434, 'behind': 435, 'god': 436, 'twist': 437, 'sit': 438, 'annoy': 439, 'deal': 440, 'stay': 441, 'abl': 442, 'rent': 443, 'pleas': 444, 'edit': 445, 'blood': 446, 'deserv': 447, 'anyway': 448, 'comic': 449, 'appar': 450, 'soon': 451, 'gave': 452, 'etc': 453, 'level': 454, 'slow': 455, 'chanc': 456, 'score': 457, 'bodi': 458, 'brilliant': 459, 'incred': 460, 'figur': 461, 'situat': 462, 'major': 463, 'self': 464, 'stuff': 465, 'decent': 466, 'element': 467, 'return': 468, 'dream': 469, 'obvious': 470, 'continu': 471, 'order': 472, 'pace': 473, 'ridicul': 474, 'happi': 475, 'add': 476, 'highli': 477, 'group': 478, 'thank': 479, 'ladi': 480, 'novel': 481, 'speak': 482, 'pain': 483, 'career': 484, 'shoot': 485, 'strang': 486, 'heard': 487, 'sad': 488, 'husband': 489, 'polic': 490, 'import': 491, 'break': 492, 'took': 493, 'cannot': 494, 'strong': 495, 'robert': 496, 'predict': 497, 'violenc': 498, 'hilari': 499, 'recent': 500, 'countri': 501, 'known': 502, 'particularli': 503, 'pick': 504, 'documentari': 505, 'season': 506, 'critic': 507, 'jame': 508, 'compar': 509, 'obviou': 510, 'alon': 511, 'told': 512, 'state': 513, 'rock': 514, 'visual': 515, 'exist': 516, 'offer': 517, 'theater': 518, 'opinion': 519, 'gore': 520, 'crap': 521, 'hold': 522, 'result': 523, 'hear': 524, 'room': 525, 'realiti': 526, 'effort': 527, 'clich': 528, 'thriller': 529, 'caus': 530, 'sequel': 531, 'explain': 532, 'serious': 533, 'king': 534, 'local': 535, 'ago': 536, 'hell': 537, 'none': 538, 'note': 539, 'allow': 540, 'sister': 541, 'david': 542, 'simpl': 543, 'femal': 544, 'deliv': 545, 'ok': 546, 'convinc': 547, 'class': 548, 'check': 549, 'suspens': 550, 'win': 551, 'oscar': 552, 'buy': 553, 'huge': 554, 'valu': 555, 'sexual': 556, 'scari': 557, 'cool': 558, 'excit': 559, 'similar': 560, 'exactli': 561, 'provid': 562, 'apart': 563, 'shown': 564, 'avoid': 565, 'seriou': 566, 'english': 567, 'taken': 568, 'whose': 569, 'cinematographi': 570, 'shock': 571, 'polit': 572, 'spoiler': 573, 'offic': 574, 'across': 575, 'middl': 576, 'pass': 577, 'street': 578, 'messag': 579, 'somewhat': 580, 'charm': 581, 'silli': 582, 'modern': 583, 'confus': 584, 'filmmak': 585, 'form': 586, 'tale': 587, 'singl': 588, 'jack': 589, 'mostli': 590, 'carri': 591, 'attent': 592, 'william': 593, 'sing': 594, 'five': 595, 'subject': 596, 'prove': 597, 'richard': 598, 'team': 599, 'stage': 600, 'cop': 601, 'unlik': 602, 'georg': 603, 'monster': 604, 'televis': 605, 'earth': 606, 'villain': 607, 'cover': 608, 'pay': 609, 'marri': 610, 'toward': 611, 'build': 612, 'parent': 613, 'pull': 614, 'due': 615, 'respect': 616, 'fill': 617, 'four': 618, 'dialog': 619, 'remind': 620, 'futur': 621, 'weak': 622, 'typic': 623, '7': 624, 'cheap': 625, 'intellig': 626, 'british': 627, 'atmospher': 628, 'clearli': 629, '80': 630, 'dog': 631, 'paul': 632, 'non': 633, 'knew': 634, '8': 635, 'fast': 636, 'artist': 637, 'crime': 638, 'easili': 639, 'escap': 640, 'doubt': 641, 'adult': 642, 'detail': 643, 'date': 644, 'fire': 645, 'member': 646, 'romant': 647, 'drive': 648, 'gun': 649, 'straight': 650, 'fit': 651, 'beyond': 652, 'attack': 653, 'imag': 654, 'upon': 655, 'posit': 656, 'whether': 657, 'peter': 658, 'fantast': 659, 'appreci': 660, 'aspect': 661, 'captur': 662, 'ten': 663, 'plan': 664, 'discov': 665, 'remain': 666, 'near': 667, 'period': 668, 'air': 669, 'realist': 670, 'mark': 671, 'red': 672, 'dull': 673, 'adapt': 674, 'within': 675, 'lose': 676, 'spend': 677, 'color': 678, 'materi': 679, 'chase': 680, 'mari': 681, 'storylin': 682, 'forget': 683, 'bunch': 684, 'clear': 685, 'lee': 686, 'victim': 687, 'nearli': 688, 'box': 689, 'york': 690, 'inspir': 691, 'match': 692, 'mess': 693, 'finish': 694, 'standard': 695, 'easi': 696, 'truth': 697, 'busi': 698, 'suffer': 699, 'dramat': 700, 'space': 701, 'bill': 702, 'western': 703, 'e': 704, 'list': 705, 'battl': 706, 'notic': 707, 'de': 708, 'french': 709, 'ad': 710, '9': 711, 'tom': 712, 'larg': 713, 'among': 714, 'eventu': 715, 'train': 716, 'accept': 717, 'agre': 718, 'soundtrack': 719, 'spirit': 720, 'third': 721, 'teenag': 722, 'soldier': 723, 'adventur': 724, 'suggest': 725, 'drug': 726, 'sorri': 727, 'famou': 728, 'normal': 729, 'cri': 730, 'babi': 731, 'troubl': 732, 'ultim': 733, 'contain': 734, 'certain': 735, 'cultur': 736, 'romanc': 737, 'rare': 738, 'lame': 739, 'somehow': 740, 'disney': 741, 'mix': 742, 'gone': 743, 'cartoon': 744, 'student': 745, 'fear': 746, 'reveal': 747, 'kept': 748, 'suck': 749, 'attract': 750, 'appeal': 751, 'premis': 752, 'design': 753, 'secret': 754, 'greatest': 755, 'shame': 756, 'throw': 757, 'copi': 758, 'scare': 759, 'wit': 760, 'admit': 761, 'america': 762, 'brought': 763, 'relat': 764, 'particular': 765, 'screenplay': 766, 'whatev': 767, 'pure': 768, '70': 769, 'averag': 770, 'harri': 771, 'master': 772, 'describ': 773, 'male': 774, 'treat': 775, '20': 776, 'fantasi': 777, 'issu': 778, 'warn': 779, 'inde': 780, 'forward': 781, 'background': 782, 'free': 783, 'project': 784, 'japanes': 785, 'memor': 786, 'poorli': 787, 'award': 788, 'locat': 789, 'potenti': 790, 'amus': 791, 'struggl': 792, 'magic': 793, 'weird': 794, 'societi': 795, 'okay': 796, 'accent': 797, 'imdb': 798, 'doctor': 799, 'hot': 800, 'water': 801, 'dr': 802, '30': 803, 'alien': 804, 'express': 805, 'odd': 806, 'crazi': 807, 'choic': 808, 'studio': 809, 'fiction': 810, 'control': 811, 'becam': 812, 'masterpiec': 813, 'fli': 814, 'difficult': 815, 'joe': 816, 'scream': 817, 'costum': 818, 'lover': 819, 'refer': 820, 'uniqu': 821, 'remak': 822, 'vampir': 823, 'girlfriend': 824, 'prison': 825, 'execut': 826, 'wear': 827, 'jump': 828, 'wood': 829, 'unless': 830, 'creepi': 831, 'cheesi': 832, 'superb': 833, 'otherwis': 834, 'parti': 835, 'roll': 836, 'ghost': 837, 'mad': 838, 'public': 839, 'depict': 840, 'week': 841, 'earlier': 842, 'jane': 843, 'moral': 844, 'badli': 845, 'fi': 846, 'dumb': 847, 'grow': 848, 'flaw': 849, 'sci': 850, 'deep': 851, 'cat': 852, 'maker': 853, 'connect': 854, 'footag': 855, 'older': 856, 'bother': 857, 'plenti': 858, 'outsid': 859, 'stick': 860, 'gay': 861, 'catch': 862, 'plu': 863, 'co': 864, 'popular': 865, 'equal': 866, 'social': 867, 'quickli': 868, 'disturb': 869, 'perfectli': 870, 'dress': 871, 'era': 872, '90': 873, 'mistak': 874, 'lie': 875, 'previou': 876, 'ride': 877, 'combin': 878, 'band': 879, 'concept': 880, 'surviv': 881, 'answer': 882, 'rich': 883, 'front': 884, 'sweet': 885, 'christma': 886, 'insid': 887, 'eat': 888, 'concern': 889, 'bare': 890, 'listen': 891, 'ben': 892, 'beat': 893, 'c': 894, 'term': 895, 'serv': 896, 'la': 897, 'german': 898, 'meant': 899, 'stereotyp': 900, 'hardli': 901, 'innoc': 902, 'law': 903, 'desper': 904, 'memori': 905, 'promis': 906, 'intent': 907, 'cute': 908, 'variou': 909, 'inform': 910, 'steal': 911, 'brain': 912, 'post': 913, 'tone': 914, 'island': 915, 'amount': 916, 'nuditi': 917, 'track': 918, 'compani': 919, 'store': 920, 'claim': 921, 'hair': 922, 'flat': 923, '50': 924, 'land': 925, 'univers': 926, 'danger': 927, 'scott': 928, 'kick': 929, 'fairli': 930, 'player': 931, 'plain': 932, 'crew': 933, 'step': 934, 'toni': 935, 'share': 936, 'centuri': 937, 'tast': 938, 'achiev': 939, 'engag': 940, 'travel': 941, 'cold': 942, 'rip': 943, 'suit': 944, 'record': 945, 'sadli': 946, 'manner': 947, 'tension': 948, 'wrote': 949, 'spot': 950, 'intens': 951, 'fascin': 952, 'familiar': 953, 'depth': 954, 'remark': 955, 'burn': 956, 'destroy': 957, 'histor': 958, 'sleep': 959, 'purpos': 960, 'languag': 961, 'ruin': 962, 'ignor': 963, 'delight': 964, 'unbeliev': 965, 'italian': 966, 'collect': 967, 'abil': 968, 'soul': 969, 'clever': 970, 'detect': 971, 'violent': 972, 'rape': 973, 'reach': 974, 'door': 975, 'scienc': 976, 'trash': 977, 'liter': 978, 'reveng': 979, 'caught': 980, 'commun': 981, 'creatur': 982, 'approach': 983, 'trip': 984, 'fashion': 985, 'intrigu': 986, 'paint': 987, 'skill': 988, 'introduc': 989, 'complex': 990, 'channel': 991, 'camp': 992, 'christian': 993, 'extra': 994, 'hole': 995, 'ann': 996, 'immedi': 997, 'limit': 998, 'mental': 999, 'comput': 1000, 'mere': 1001, 'slightli': 1002, '6': 1003, 'million': 1004, 'conclus': 1005, 'slasher': 1006, 'imposs': 1007, 'suddenli': 1008, 'teen': 1009, 'neither': 1010, 'crimin': 1011, 'nation': 1012, 'physic': 1013, 'spent': 1014, 'respons': 1015, 'planet': 1016, 'receiv': 1017, 'fake': 1018, 'blue': 1019, 'sick': 1020, 'bizarr': 1021, 'embarrass': 1022, 'indian': 1023, 'ring': 1024, '15': 1025, 'pop': 1026, 'drop': 1027, 'drag': 1028, 'haunt': 1029, 'suspect': 1030, 'pointless': 1031, 'edg': 1032, 'search': 1033, 'handl': 1034, 'common': 1035, 'biggest': 1036, 'faith': 1037, 'arriv': 1038, 'hurt': 1039, 'technic': 1040, 'angel': 1041, 'genuin': 1042, 'dad': 1043, 'solid': 1044, 'f': 1045, 'awesom': 1046, 'colleg': 1047, 'former': 1048, 'focu': 1049, 'van': 1050, 'count': 1051, 'tear': 1052, 'heavi': 1053, 'wall': 1054, 'rais': 1055, 'visit': 1056, 'laughabl': 1057, 'younger': 1058, 'excus': 1059, 'fair': 1060, 'sign': 1061, 'cult': 1062, 'tough': 1063, 'motion': 1064, 'key': 1065, 'super': 1066, 'desir': 1067, 'stun': 1068, 'addit': 1069, 'cloth': 1070, 'exploit': 1071, 'smith': 1072, 'tortur': 1073, 'davi': 1074, 'race': 1075, 'author': 1076, 'cross': 1077, 'jim': 1078, 'consist': 1079, 'focus': 1080, 'compel': 1081, 'minor': 1082, 'pathet': 1083, 'chemistri': 1084, 'commit': 1085, 'park': 1086, 'obsess': 1087, 'frank': 1088, 'tradit': 1089, 'grade': 1090, 'asid': 1091, '60': 1092, 'brutal': 1093, 'steve': 1094, 'somewher': 1095, 'u': 1096, 'depress': 1097, 'opportun': 1098, 'grant': 1099, 'explor': 1100, 'rule': 1101, 'honest': 1102, 'besid': 1103, 'anti': 1104, 'dub': 1105, 'intend': 1106, 'trailer': 1107, 'bar': 1108, 'west': 1109, 'scientist': 1110, 'regard': 1111, 'longer': 1112, 'decad': 1113, 'judg': 1114, 'silent': 1115, 'armi': 1116, 'creativ': 1117, 'wild': 1118, 'g': 1119, 'south': 1120, 'stewart': 1121, 'draw': 1122, 'road': 1123, 'govern': 1124, 'ex': 1125, 'boss': 1126, 'practic': 1127, 'club': 1128, 'festiv': 1129, 'gang': 1130, 'motiv': 1131, 'surprisingli': 1132, 'green': 1133, 'london': 1134, 'page': 1135, 'redeem': 1136, 'idiot': 1137, 'militari': 1138, 'aliv': 1139, 'machin': 1140, 'display': 1141, 'thrill': 1142, 'repeat': 1143, 'nobodi': 1144, 'folk': 1145, 'yeah': 1146, '100': 1147, '40': 1148, 'journey': 1149, 'garbag': 1150, 'tire': 1151, 'ground': 1152, 'smile': 1153, 'mood': 1154, 'bought': 1155, 'cost': 1156, 'sam': 1157, 'stone': 1158, 'noir': 1159, 'mouth': 1160, 'agent': 1161, 'terrif': 1162, 'utterli': 1163, 'requir': 1164, 'area': 1165, 'sexi': 1166, 'honestli': 1167, 'geniu': 1168, 'report': 1169, 'investig': 1170, 'glad': 1171, 'humour': 1172, 'enter': 1173, 'serial': 1174, 'occasion': 1175, 'passion': 1176, 'narr': 1177, 'climax': 1178, 'marriag': 1179, 'industri': 1180, 'studi': 1181, 'charli': 1182, 'ship': 1183, 'demon': 1184, 'nowher': 1185, 'center': 1186, 'hors': 1187, 'bear': 1188, 'loos': 1189, 'hang': 1190, 'wow': 1191, 'graphic': 1192, 'admir': 1193, 'giant': 1194, 'send': 1195, 'loud': 1196, 'damn': 1197, 'profession': 1198, 'nake': 1199, 'subtl': 1200, 'rel': 1201, 'blow': 1202, 'bottom': 1203, 'insult': 1204, 'batman': 1205, 'doubl': 1206, 'boyfriend': 1207, 'kelli': 1208, 'r': 1209, 'initi': 1210, 'frame': 1211, 'opera': 1212, 'gem': 1213, 'cinemat': 1214, 'challeng': 1215, 'drawn': 1216, 'church': 1217, 'affect': 1218, 'fulli': 1219, 'seek': 1220, 'nightmar': 1221, 'j': 1222, 'evid': 1223, 'l': 1224, 'conflict': 1225, 'essenti': 1226, 'arm': 1227, 'christoph': 1228, 'grace': 1229, 'wind': 1230, 'henri': 1231, 'assum': 1232, 'narrat': 1233, 'witch': 1234, 'hunt': 1235, 'push': 1236, 'chri': 1237, 'wise': 1238, 'nomin': 1239, 'repres': 1240, 'month': 1241, 'hide': 1242, 'affair': 1243, 'sceneri': 1244, 'avail': 1245, 'thu': 1246, 'bond': 1247, 'smart': 1248, 'justic': 1249, 'interview': 1250, 'flashback': 1251, 'outstand': 1252, 'constantli': 1253, 'presenc': 1254, 'satisfi': 1255, 'bed': 1256, 'central': 1257, 'iron': 1258, 'sell': 1259, 'content': 1260, 'gag': 1261, 'everybodi': 1262, 'hotel': 1263, 'slowli': 1264, 'hire': 1265, 'system': 1266, 'individu': 1267, 'charl': 1268, 'adam': 1269, 'thrown': 1270, 'hey': 1271, 'allen': 1272, 'jone': 1273, 'mediocr': 1274, 'billi': 1275, 'lesson': 1276, 'ray': 1277, 'photographi': 1278, 'cameo': 1279, 'pari': 1280, 'fellow': 1281, 'strike': 1282, 'absurd': 1283, 'brief': 1284, 'rise': 1285, 'independ': 1286, 'neg': 1287, 'impact': 1288, 'phone': 1289, 'model': 1290, 'ill': 1291, 'born': 1292, 'angl': 1293, 'fresh': 1294, 'spoil': 1295, 'likabl': 1296, 'abus': 1297, 'discuss': 1298, 'hill': 1299, 'sight': 1300, 'ahead': 1301, 'sent': 1302, 'photograph': 1303, 'logic': 1304, 'shine': 1305, 'occur': 1306, 'blame': 1307, 'mainli': 1308, 'bruce': 1309, 'commerci': 1310, 'skip': 1311, 'forev': 1312, 'surround': 1313, 'teacher': 1314, 'held': 1315, 'segment': 1316, 'blond': 1317, 'zero': 1318, 'trap': 1319, 'summer': 1320, 'resembl': 1321, 'satir': 1322, 'six': 1323, 'fool': 1324, 'queen': 1325, 'ball': 1326, 'tragedi': 1327, 'twice': 1328, 'sub': 1329, 'pack': 1330, 'reaction': 1331, 'bomb': 1332, 'will': 1333, 'protagonist': 1334, 'hospit': 1335, 'mile': 1336, 'sport': 1337, 'jerri': 1338, 'trust': 1339, 'vote': 1340, 'drink': 1341, 'mom': 1342, 'encount': 1343, 'plane': 1344, 'station': 1345, 'current': 1346, 'al': 1347, 'program': 1348, 'martin': 1349, 'celebr': 1350, 'choos': 1351, 'join': 1352, 'lord': 1353, 'tragic': 1354, 'round': 1355, 'favourit': 1356, 'field': 1357, 'robot': 1358, 'vision': 1359, 'jean': 1360, 'arthur': 1361, 'tie': 1362, 'roger': 1363, 'random': 1364, 'fortun': 1365, 'intern': 1366, 'psycholog': 1367, 'dread': 1368, 'improv': 1369, 'epic': 1370, 'prefer': 1371, 'nonsens': 1372, 'highlight': 1373, 'pleasur': 1374, 'legend': 1375, 'formula': 1376, '11': 1377, 'dollar': 1378, 'tape': 1379, 'fox': 1380, 'thin': 1381, 'wide': 1382, 'porn': 1383, 'gorgeou': 1384, 'object': 1385, 'buddi': 1386, 'influenc': 1387, 'ugli': 1388, 'prepar': 1389, 'ii': 1390, 'nasti': 1391, 'supposedli': 1392, 'reflect': 1393, 'progress': 1394, 'warm': 1395, 'worthi': 1396, 'youth': 1397, 'latter': 1398, 'unusu': 1399, 'length': 1400, 'crash': 1401, 'shop': 1402, 'seven': 1403, 'superior': 1404, 'childhood': 1405, 'theatr': 1406, 'remot': 1407, 'paid': 1408, 'pilot': 1409, 'funniest': 1410, 'disgust': 1411, 'trick': 1412, 'convers': 1413, 'fell': 1414, 'castl': 1415, 'rob': 1416, 'disast': 1417, 'gangster': 1418, 'establish': 1419, 'mine': 1420, 'ident': 1421, 'heaven': 1422, 'disappear': 1423, 'suicid': 1424, 'singer': 1425, 'decis': 1426, 'forgotten': 1427, 'tend': 1428, 'mask': 1429, 'heroin': 1430, 'brian': 1431, 'partner': 1432, 'recogn': 1433, 'desert': 1434, 'alan': 1435, 'sky': 1436, 'ms': 1437, 'p': 1438, 'thoroughli': 1439, 'stuck': 1440, 'accur': 1441, 'replac': 1442, 'market': 1443, 'uncl': 1444, 'eddi': 1445, 'andi': 1446, 'clue': 1447, 'danni': 1448, 'seemingli': 1449, 'commentari': 1450, 'jackson': 1451, 'devil': 1452, 'therefor': 1453, 'that': 1454, 'pair': 1455, 'refus': 1456, 'ed': 1457, 'fate': 1458, 'river': 1459, 'fault': 1460, 'accid': 1461, 'unit': 1462, 'afraid': 1463, 'tune': 1464, 'hidden': 1465, 'clean': 1466, 'russian': 1467, 'stephen': 1468, 'captain': 1469, 'quick': 1470, 'irrit': 1471, 'readi': 1472, 'instanc': 1473, 'convey': 1474, 'test': 1475, 'european': 1476, 'insan': 1477, 'daniel': 1478, 'frustrat': 1479, 'wed': 1480, 'food': 1481, 'chines': 1482, 'rescu': 1483, '1950': 1484, 'lock': 1485, 'dirti': 1486, 'angri': 1487, 'joy': 1488, 'price': 1489, 'steven': 1490, 'bland': 1491, 'cage': 1492, 'rang': 1493, 'anymor': 1494, 'wooden': 1495, 'n': 1496, 'rush': 1497, 'news': 1498, 'jason': 1499, 'martial': 1500, 'twenti': 1501, 'led': 1502, '12': 1503, 'worri': 1504, 'board': 1505, 'hunter': 1506, 'cgi': 1507, 'symbol': 1508, 'transform': 1509, 'onto': 1510, 'x': 1511, 'piti': 1512, 'johnni': 1513, 'sentiment': 1514, 'invent': 1515, 'explan': 1516, 'attitud': 1517, 'process': 1518, 'awar': 1519, 'owner': 1520, 'aim': 1521, 'necessari': 1522, 'energi': 1523, 'floor': 1524, 'target': 1525, 'favor': 1526, 'religi': 1527, 'opposit': 1528, 'chick': 1529, 'window': 1530, 'blind': 1531, 'insight': 1532, 'movement': 1533, 'research': 1534, 'mountain': 1535, 'deepli': 1536, 'possess': 1537, 'comparison': 1538, 'whatsoev': 1539, 'grand': 1540, 'comed': 1541, 'rain': 1542, 'mid': 1543, 'shadow': 1544, 'began': 1545, 'bank': 1546, 'parodi': 1547, 'princ': 1548, 'pre': 1549, 'friendship': 1550, 'taylor': 1551, 'credibl': 1552, 'weapon': 1553, 'flesh': 1554, 'teach': 1555, 'dougla': 1556, 'terror': 1557, 'protect': 1558, 'hint': 1559, 'bloodi': 1560, 'marvel': 1561, 'superman': 1562, 'watchabl': 1563, 'accord': 1564, 'anybodi': 1565, 'load': 1566, 'drunk': 1567, 'leader': 1568, 'brown': 1569, 'freddi': 1570, 'jeff': 1571, 'seat': 1572, 'appropri': 1573, 'tim': 1574, 'hitler': 1575, 'villag': 1576, 'unknown': 1577, 'knock': 1578, 'keaton': 1579, 'charg': 1580, 'england': 1581, 'unnecessari': 1582, 'empti': 1583, 'enemi': 1584, 'media': 1585, 'craft': 1586, 'perspect': 1587, 'dare': 1588, 'strength': 1589, 'utter': 1590, 'wave': 1591, 'buck': 1592, 'contrast': 1593, 'ford': 1594, 'nativ': 1595, 'correct': 1596, 'kiss': 1597, 'knowledg': 1598, 'soap': 1599, 'chill': 1600, 'distract': 1601, 'anywher': 1602, 'speed': 1603, 'magnific': 1604, 'nazi': 1605, 'ice': 1606, 'fred': 1607, 'mission': 1608, '1980': 1609, 'breath': 1610, 'joan': 1611, 'jr': 1612, 'crowd': 1613, 'moon': 1614, 'kate': 1615, '000': 1616, 'soft': 1617, 'frighten': 1618, 'nick': 1619, 'dick': 1620, 'hundr': 1621, 'dan': 1622, 'somebodi': 1623, 'simon': 1624, 'radio': 1625, 'dozen': 1626, 'shakespear': 1627, 'thousand': 1628, 'loss': 1629, 'andrew': 1630, 'academi': 1631, 'quot': 1632, 'root': 1633, 'sum': 1634, 'account': 1635, 'vehicl': 1636, 'behavior': 1637, 'leg': 1638, 'convent': 1639, '1970': 1640, 'regular': 1641, 'gold': 1642, 'pretenti': 1643, 'worker': 1644, 'demand': 1645, 'compet': 1646, 'notabl': 1647, 'interpret': 1648, 'explos': 1649, 'candi': 1650, 'stretch': 1651, 'japan': 1652, 'lynch': 1653, 'privat': 1654, 'constant': 1655, 'tarzan': 1656, 'debut': 1657, 'prais': 1658, 'revolv': 1659, 'translat': 1660, 'sea': 1661, 'spi': 1662, 'ass': 1663, 'threaten': 1664, 'failur': 1665, 'franc': 1666, 'technolog': 1667, 'jesu': 1668, 'sat': 1669, 'quiet': 1670, 'kevin': 1671, 'punch': 1672, 'aid': 1673, 'higher': 1674, 'toy': 1675, 'met': 1676, 'vh': 1677, 'interact': 1678, 'abandon': 1679, 'mike': 1680, 'command': 1681, 'bet': 1682, 'separ': 1683, 'confront': 1684, 'belong': 1685, 'techniqu': 1686, 'servic': 1687, 'stunt': 1688, 'site': 1689, 'gotten': 1690, 'recal': 1691, 'cabl': 1692, 'foot': 1693, 'freak': 1694, 'bug': 1695, 'bright': 1696, 'capabl': 1697, 'african': 1698, 'fu': 1699, 'jimmi': 1700, 'succeed': 1701, 'clark': 1702, 'boat': 1703, 'stock': 1704, 'fat': 1705, 'presid': 1706, 'spanish': 1707, 'gene': 1708, 'structur': 1709, 'kidnap': 1710, 'paper': 1711, 'belief': 1712, 'factor': 1713, 'whilst': 1714, 'educ': 1715, 'realism': 1716, 'realis': 1717, 'bob': 1718, 'witti': 1719, 'complic': 1720, 'tree': 1721, 'attend': 1722, 'finest': 1723, 'santa': 1724, 'assist': 1725, 'broken': 1726, 'determin': 1727, 'v': 1728, 'up': 1729, 'depart': 1730, 'smoke': 1731, 'observ': 1732, 'fame': 1733, 'domin': 1734, 'lewi': 1735, 'routin': 1736, 'hat': 1737, 'rubbish': 1738, 'oper': 1739, 'foreign': 1740, 'lone': 1741, 'kinda': 1742, 'safe': 1743, 'advanc': 1744, 'hook': 1745, 'morgan': 1746, 'numer': 1747, 'rank': 1748, 'civil': 1749, 'werewolf': 1750, 'washington': 1751, 'vs': 1752, 'shape': 1753, 'rose': 1754, 'shallow': 1755, 'gari': 1756, 'morn': 1757, 'ordinari': 1758, 'accomplish': 1759, 'winner': 1760, 'kong': 1761, 'peac': 1762, 'virtual': 1763, 'whenev': 1764, 'grab': 1765, 'h': 1766, 'luck': 1767, 'offens': 1768, 'patient': 1769, 'activ': 1770, 'contriv': 1771, 'welcom': 1772, 'unfunni': 1773, 'complain': 1774, 'bigger': 1775, 'dimension': 1776, 'pretend': 1777, 'trek': 1778, 'con': 1779, 'cain': 1780, 'dri': 1781, 'eric': 1782, 'code': 1783, 'flash': 1784, 'wake': 1785, 'lesbian': 1786, 'statu': 1787, 'manipul': 1788, 'albert': 1789, 'corrupt': 1790, 'guard': 1791, 'dancer': 1792, 'signific': 1793, 'gain': 1794, 'context': 1795, 'awkward': 1796, 'speech': 1797, 'sourc': 1798, '13': 1799, 'sean': 1800, 'corni': 1801, 'anthoni': 1802, 'psycho': 1803, 'clip': 1804, 'w': 1805, 'theatric': 1806, 'reli': 1807, 'religion': 1808, 'curiou': 1809, 'priest': 1810, 'advic': 1811, 'flow': 1812, 'addict': 1813, 'howard': 1814, 'skin': 1815, 'secur': 1816, 'jennif': 1817, 'asian': 1818, 'specif': 1819, 'golden': 1820, 'core': 1821, 'promot': 1822, 'luke': 1823, 'comfort': 1824, 'organ': 1825, 'cheat': 1826, 'lucki': 1827, 'cash': 1828, 'associ': 1829, 'dislik': 1830, 'lower': 1831, 'wing': 1832, 'regret': 1833, 'frankli': 1834, 'balanc': 1835, 'spell': 1836, 'frequent': 1837, 'devic': 1838, 'contribut': 1839, 'degre': 1840, 'print': 1841, 'sake': 1842, 'forgiv': 1843, 'lake': 1844, 'thoma': 1845, 'mass': 1846, 'betti': 1847, 'unexpect': 1848, 'gordon': 1849, 'crack': 1850, 'unfold': 1851, 'categori': 1852, 'construct': 1853, 'depend': 1854, 'invit': 1855, 'grown': 1856, 'amateur': 1857, 'walter': 1858, 'intellectu': 1859, 'condit': 1860, 'honor': 1861, 'anna': 1862, 'grew': 1863, 'matur': 1864, 'sudden': 1865, 'sole': 1866, 'mirror': 1867, 'spectacular': 1868, 'veteran': 1869, 'overli': 1870, 'card': 1871, 'grip': 1872, 'demonstr': 1873, 'experienc': 1874, 'gift': 1875, 'meanwhil': 1876, 'robin': 1877, 'liner': 1878, 'freedom': 1879, 'unabl': 1880, 'oliv': 1881, 'subtitl': 1882, 'circumst': 1883, 'theori': 1884, 'drew': 1885, 'section': 1886, 'crappi': 1887, 'colour': 1888, 'sheriff': 1889, 'brilliantli': 1890, 'pile': 1891, 'path': 1892, 'altern': 1893, 'matt': 1894, 'parker': 1895, 'sheer': 1896, 'laughter': 1897, 'cook': 1898, 'relief': 1899, 'sinatra': 1900, 'defin': 1901, 'lawyer': 1902, 'hall': 1903, 'accident': 1904, 'treatment': 1905, 'wander': 1906, 'captiv': 1907, 'hank': 1908, 'dragon': 1909, 'gratuit': 1910, 'moor': 1911, 'halloween': 1912, 'jacki': 1913, 'broadway': 1914, 'k': 1915, 'cowboy': 1916, 'barbara': 1917, 'kung': 1918, 'wound': 1919, 'unintent': 1920, 'wayn': 1921, 'statement': 1922, 'canadian': 1923, 'winter': 1924, 'surreal': 1925, 'spoof': 1926, 'fare': 1927, 'gonna': 1928, 'treasur': 1929, 'compos': 1930, 'cheer': 1931, 'fish': 1932, 'woodi': 1933, 'victor': 1934, 'sensit': 1935, 'emerg': 1936, 'unrealist': 1937, 'sympathet': 1938, 'ran': 1939, 'driven': 1940, 'neighbor': 1941, 'menac': 1942, 'overlook': 1943, 'topic': 1944, 'authent': 1945, 'glass': 1946, 'expos': 1947, 'gross': 1948, 'chief': 1949, 'ancient': 1950, 'handsom': 1951, 'michel': 1952, 'cinderella': 1953, 'contemporari': 1954, 'nevertheless': 1955, 'network': 1956, 'built': 1957, 'comedian': 1958, 'stranger': 1959, 'pleasant': 1960, 'feet': 1961, 'russel': 1962, 'consider': 1963, 'letter': 1964, 'endless': 1965, 'miser': 1966, 'blockbust': 1967, 'earn': 1968, 'gori': 1969, 'underr': 1970, 'brook': 1971, 'solv': 1972, 'switch': 1973, 'victoria': 1974, 'virgin': 1975, 'joseph': 1976, 'bullet': 1977, 'convict': 1978, 'edward': 1979, 'chosen': 1980, 'scale': 1981, 'cynic': 1982, 'scenario': 1983, '0': 1984, 'alex': 1985, 'sword': 1986, 'outrag': 1987, 'gut': 1988, 'curs': 1989, 'com': 1990, 'uk': 1991, 'wrap': 1992, 'driver': 1993, 'substanc': 1994, 'monkey': 1995, 'juli': 1996, 'proper': 1997, 'screenwrit': 1998, 'remov': 1999, 'bird': 2000, 'indic': 2001, 'court': 2002, 'par': 2003, 'inevit': 2004, 'nanci': 2005, 'grave': 2006, 'advertis': 2007, 'naiv': 2008, 'rental': 2009, 'loser': 2010, 'roy': 2011, 'consequ': 2012, 'germani': 2013, 'slap': 2014, 'brave': 2015, 'fatal': 2016, 'invis': 2017, 'le': 2018, 'bridg': 2019, 'anger': 2020, 'footbal': 2021, 'ador': 2022, 'loui': 2023, 'provok': 2024, 'chan': 2025, 'alcohol': 2026, 'anderson': 2027, 'willi': 2028, 'professor': 2029, 'ryan': 2030, 'stumbl': 2031, '1930': 2032, 'australian': 2033, 'sharp': 2034, 'patrick': 2035, 'assassin': 2036, 'bat': 2037, 'ape': 2038, 'saturday': 2039, 'eight': 2040, 'heck': 2041, 'liber': 2042, 'cell': 2043, 'refresh': 2044, 'lousi': 2045, 'amateurish': 2046, 'deni': 2047, 'trilog': 2048, 'strongli': 2049, 'sin': 2050, 'justifi': 2051, 'resid': 2052, 'san': 2053, 'vagu': 2054, 'terrifi': 2055, 'mini': 2056, 'defeat': 2057, 'sympathi': 2058, 'reput': 2059, 'indi': 2060, 'creator': 2061, 'endur': 2062, 'expert': 2063, 'prevent': 2064, 'tediou': 2065, 'task': 2066, 'tabl': 2067, 'basebal': 2068, 'trial': 2069, 'employ': 2070, 'che': 2071, 'offend': 2072, 'rival': 2073, 'imit': 2074, 'pitch': 2075, 'max': 2076, 'fairi': 2077, 'dig': 2078, 'weekend': 2079, 'complaint': 2080, 'europ': 2081, 'beach': 2082, 'murphi': 2083, 'risk': 2084, 'purchas': 2085, 'format': 2086, 'titan': 2087, 'glimps': 2088, 'reminisc': 2089, 'harsh': 2090, 'tini': 2091, 'bite': 2092, 'powel': 2093, 'nois': 2094, 'hype': 2095, '14': 2096, 'asleep': 2097, 'strip': 2098, 'north': 2099, 'till': 2100, 'fals': 2101, 'prime': 2102, 'africa': 2103, 'revel': 2104, 'destruct': 2105, 'descript': 2106, 'texa': 2107, 'surfac': 2108, 'excess': 2109, 'semi': 2110, 'inner': 2111, 'sitcom': 2112, 'uninterest': 2113, 'spin': 2114, 'arrest': 2115, 'dinosaur': 2116, 'massiv': 2117, 'twin': 2118, 'argu': 2119, 'controversi': 2120, 'makeup': 2121, 'hitchcock': 2122, 'maintain': 2123, 'melodrama': 2124, 'insist': 2125, 'expens': 2126, 'ludicr': 2127, 'ideal': 2128, 'reject': 2129, 'kim': 2130, 'stare': 2131, 'columbo': 2132, 'host': 2133, 'supernatur': 2134, 'press': 2135, 'ga': 2136, 'atroci': 2137, 'ala': 2138, 'erot': 2139, 'forest': 2140, 'subplot': 2141, 'nail': 2142, 'presum': 2143, 'dude': 2144, 'notch': 2145, 'cant': 2146, 'identifi': 2147, 'character': 2148, 'forgett': 2149, 'plagu': 2150, 'crude': 2151, 'method': 2152, 'guest': 2153, 'closer': 2154, 'beast': 2155, 'princess': 2156, 'foster': 2157, 'landscap': 2158, 'border': 2159, 'ear': 2160, 'lion': 2161, 'storytel': 2162, 'previous': 2163, 'accus': 2164, 'jungl': 2165, 'bound': 2166, 'pacino': 2167, 'damag': 2168, 'birth': 2169, 'urban': 2170, 'aunt': 2171, 'emma': 2172, 'nude': 2173, 'doll': 2174, 'jess': 2175, 'thirti': 2176, 'guid': 2177, 'chose': 2178, 'propaganda': 2179, '25': 2180, 'warrior': 2181, 'pet': 2182, 'whoever': 2183, 'mainstream': 2184, 'mate': 2185, 'upset': 2186, 'gritti': 2187, 'exact': 2188, 'size': 2189, 'merit': 2190, 'latest': 2191, 'cooper': 2192, 'poster': 2193, 'friday': 2194, 'deadli': 2195, 'ton': 2196, 'sun': 2197, 'citizen': 2198, 'corps': 2199, 'wilson': 2200, 'popul': 2201, 'rough': 2202, 'contest': 2203, '1990': 2204, 'settl': 2205, 'buff': 2206, 'warner': 2207, 'blend': 2208, 'contact': 2209, 'metal': 2210, 'pitt': 2211, 'mgm': 2212, 'alic': 2213, 'widow': 2214, 'environ': 2215, 'select': 2216, 'overcom': 2217, 'bu': 2218, 'rat': 2219, 'guilti': 2220, 'particip': 2221, 'revolut': 2222, 'lift': 2223, 'ted': 2224, 'link': 2225, 'johnson': 2226, 'matrix': 2227, 'corpor': 2228, 'afternoon': 2229, 'moron': 2230, 'accompani': 2231, '1960': 2232, 'prostitut': 2233, 'corner': 2234, 'exagger': 2235, 'multipl': 2236, 'instal': 2237, 'doom': 2238, 'sincer': 2239, 'friendli': 2240, 'clair': 2241, 'holm': 2242, 'leagu': 2243, 'hood': 2244, 'blah': 2245, 'lugosi': 2246, 'grim': 2247, 'sunday': 2248, 'junk': 2249, 'string': 2250, 'hip': 2251, 'defend': 2252, 'examin': 2253, 'irish': 2254, 'campi': 2255, 'advis': 2256, 'aka': 2257, 'varieti': 2258, 'tight': 2259, 'rachel': 2260, 'shut': 2261, 'pro': 2262, 'shake': 2263, 'confid': 2264, 'icon': 2265, 'mexican': 2266, 'denni': 2267, 'sullivan': 2268, 'jaw': 2269, 'goal': 2270, 'attach': 2271, 'directli': 2272, 'medic': 2273, 'duke': 2274, 'dean': 2275, 'terrorist': 2276, 'truck': 2277, 'prior': 2278, 'breast': 2279, 'sentenc': 2280, 'legendari': 2281, 'sarah': 2282, 'bourn': 2283, 'courag': 2284, 'vietnam': 2285, 'donald': 2286, 'split': 2287, 'proceed': 2288, 'nose': 2289, 'entri': 2290, 'hong': 2291, 'behav': 2292, 'yell': 2293, 'un': 2294, 'confess': 2295, 'buri': 2296, 'concentr': 2297, 'swim': 2298, 'crush': 2299, 'unconvinc': 2300, 'gather': 2301, 'stolen': 2302, 'forth': 2303, 'everywher': 2304, 'jerk': 2305, 'lifetim': 2306, 'borrow': 2307, 'deliveri': 2308, 'turkey': 2309, 'lip': 2310, 'julia': 2311, 'california': 2312, 'spite': 2313, 'pan': 2314, 'hoffman': 2315, 'proud': 2316, 'offici': 2317, 'flight': 2318, 'china': 2319, 'reward': 2320, 'downright': 2321, 'quest': 2322, 'freeman': 2323, 'inept': 2324, 'worthwhil': 2325, 'fade': 2326, 'sir': 2327, 'jon': 2328, 'lazi': 2329, 'jail': 2330, 'fabul': 2331, 'sink': 2332, 'encourag': 2333, 'betray': 2334, 'notori': 2335, 'branagh': 2336, 'relev': 2337, 'storm': 2338, 'teeth': 2339, 'lisa': 2340, 'imageri': 2341, 'bag': 2342, 'cousin': 2343, 'retard': 2344, 'survivor': 2345, 'shower': 2346, 'bell': 2347, 'susan': 2348, 'finger': 2349, 'shark': 2350, 'hugh': 2351, 'bride': 2352, 'mexico': 2353, 'trade': 2354, 'summari': 2355, 'alright': 2356, 'stab': 2357, 'tremend': 2358, 'toler': 2359, 'facial': 2360, 'quirki': 2361, 'bitter': 2362, 'von': 2363, 'ha': 2364, 'blown': 2365, 'hyster': 2366, 'pose': 2367, 'larri': 2368, 'address': 2369, 'ned': 2370, 'christ': 2371, 'cruel': 2372, 'scheme': 2373, 'ron': 2374, 'afterward': 2375, 'bone': 2376, 'traci': 2377, 'screw': 2378, 'pursu': 2379, 'feed': 2380, 'snake': 2381, 'distinct': 2382, 'beg': 2383, 'swear': 2384, 'tour': 2385, 'thumb': 2386, 'raw': 2387, 'mechan': 2388, 'obscur': 2389, 'photo': 2390, 'stomach': 2391, 'chair': 2392, 'occas': 2393, 'cabin': 2394, 'heavili': 2395, 'resist': 2396, 'chain': 2397, 'render': 2398, 'necessarili': 2399, 'sidney': 2400, 'hardi': 2401, 'gruesom': 2402, 'southern': 2403, 'argument': 2404, 'holiday': 2405, 'understood': 2406, 'indulg': 2407, 'philip': 2408, 'racist': 2409, 'india': 2410, 'satan': 2411, 'belov': 2412, 'lay': 2413, 'midnight': 2414, 'tongu': 2415, 'fourth': 2416, 'stalk': 2417, 'obnoxi': 2418, 'integr': 2419, 'pregnant': 2420, 'outfit': 2421, 'forgot': 2422, 'inhabit': 2423, 'restor': 2424, '17': 2425, 'garden': 2426, 'slapstick': 2427, 'ticket': 2428, 'carol': 2429, 'magazin': 2430, 'deeper': 2431, 'brad': 2432, 'lincoln': 2433, 'incid': 2434, 'shoe': 2435, 'devot': 2436, 'sandler': 2437, 'disbelief': 2438, 'divorc': 2439, 'benefit': 2440, 'maria': 2441, 'lili': 2442, 'anticip': 2443, 'guarante': 2444, 'underground': 2445, 'elizabeth': 2446, 'princip': 2447, 'slave': 2448, 'capit': 2449, 'greater': 2450, 'explod': 2451, 'creation': 2452, 'cring': 2453, 'amazingli': 2454, 'bbc': 2455, 'mildli': 2456, 'extraordinari': 2457, 'introduct': 2458, 'halfway': 2459, 'lesli': 2460, 'funnier': 2461, 'text': 2462, 'advantag': 2463, 'wreck': 2464, 'extent': 2465, 'enhanc': 2466, 'tap': 2467, 'overwhelm': 2468, 'punish': 2469, 'transfer': 2470, 'horrif': 2471, 'jessica': 2472, 'lo': 2473, 'lane': 2474, 'error': 2475, 'deliber': 2476, 'plant': 2477, 'east': 2478, 'preview': 2479, 'dynam': 2480, 'miller': 2481, 'basi': 2482, 'appli': 2483, 'vincent': 2484, 'ensu': 2485, 'vacat': 2486, 'miscast': 2487, 'homosexu': 2488, 'sophist': 2489, '2000': 2490, 'extend': 2491, 'reed': 2492, 'spoken': 2493, 'mansion': 2494, 'sleazi': 2495, 'uncomfort': 2496, 'elev': 2497, 'measur': 2498, 'steel': 2499, 'via': 2500, 'bollywood': 2501, 'stanley': 2502, 'fix': 2503, 'blair': 2504, 'daili': 2505, 'beer': 2506, 'assign': 2507, 'hippi': 2508, 'overact': 2509, 'cathol': 2510, 'goofi': 2511, 'conceiv': 2512, 'breathtak': 2513, 'mous': 2514, 'alter': 2515, 'savag': 2516, 'dentist': 2517, 'melt': 2518, 'oppos': 2519, 'carpent': 2520, 'everyday': 2521, 'properli': 2522, 'sacrific': 2523, 'succe': 2524, 'burt': 2525, 'subsequ': 2526, 'nowaday': 2527, 'inspector': 2528, 'circl': 2529, 'block': 2530, 'neck': 2531, 'massacr': 2532, 'laura': 2533, 'seagal': 2534, 'pool': 2535, 'lesser': 2536, 'grey': 2537, 'concert': 2538, 'fay': 2539, 'christi': 2540, 'mob': 2541, 'portrait': 2542, 'fallen': 2543, 'access': 2544, 'competit': 2545, 'jewish': 2546, 'relax': 2547, 'chees': 2548, 'react': 2549, 'sinist': 2550, 'jake': 2551, 'isol': 2552, 'usa': 2553, 'spiritu': 2554, 'creep': 2555, 'immens': 2556, 'nine': 2557, 'stink': 2558, 'chop': 2559, 'appal': 2560, 'suitabl': 2561, '2006': 2562, 'lyric': 2563, 'nonetheless': 2564, 'ironi': 2565, 'luci': 2566, 'navi': 2567, 'franchis': 2568, 'nut': 2569, 'retir': 2570, 'sold': 2571, 'showcas': 2572, 'adopt': 2573, 'reduc': 2574, 'spring': 2575, 'user': 2576, 'rage': 2577, 'shirt': 2578, 'needless': 2579, 'stanwyck': 2580, 'bulli': 2581, 'uninspir': 2582, 'per': 2583, 'jay': 2584, 'digit': 2585, 'zone': 2586, 'nurs': 2587, 'bath': 2588, 'asham': 2589, '1940': 2590, 'sutherland': 2591, 'broadcast': 2592, 'illustr': 2593, 'laid': 2594, 'oddli': 2595, 'amongst': 2596, 'upper': 2597, '2001': 2598, 'brando': 2599, 'disguis': 2600, 'stylish': 2601, 'aspir': 2602, 'baker': 2603, 'fulfil': 2604, 'throat': 2605, 'wwii': 2606, 'pride': 2607, 'thief': 2608, 'nobl': 2609, 'endear': 2610, '18': 2611, 'wanna': 2612, 'impli': 2613, 'neighborhood': 2614, 'pound': 2615, 'em': 2616, 'rochest': 2617, 'bo': 2618, 'tens': 2619, 'dawn': 2620, 'bett': 2621, '16': 2622, 'prop': 2623, 'distribut': 2624, 'shift': 2625, 'coher': 2626, 'cinematograph': 2627, 'shoulder': 2628, 'albeit': 2629, 'dinner': 2630, 'diseas': 2631, 'matthau': 2632, 'wash': 2633, 'poignant': 2634, 'forti': 2635, 'knife': 2636, 'function': 2637, 'rebel': 2638, 'contract': 2639, 'snow': 2640, 'surf': 2641, 'shout': 2642, 'silenc': 2643, 'elvira': 2644, 'widmark': 2645, 'cancel': 2646, 'instinct': 2647, 'proof': 2648, 'chuck': 2649, 'duti': 2650, 'henc': 2651, 'horrend': 2652, 'reunion': 2653, 'cannib': 2654, 'derek': 2655, 'eeri': 2656, 'height': 2657, 'heat': 2658, 'mindless': 2659, 'silver': 2660, 'internet': 2661, 'spielberg': 2662, 'musician': 2663, 'etern': 2664, 'pie': 2665, 'neat': 2666, 'glori': 2667, 'absorb': 2668, 'greatli': 2669, 'alik': 2670, 'mill': 2671, 'repetit': 2672, 'incoher': 2673, 'elvi': 2674, 'torn': 2675, 'innov': 2676, 'premier': 2677, 'announc': 2678, 'blank': 2679, 'itali': 2680, 'crisi': 2681, 'horrifi': 2682, 'trite': 2683, 'wealthi': 2684, 'burton': 2685, 'bang': 2686, 'redempt': 2687, 'nelson': 2688, 'lovabl': 2689, 'homag': 2690, 'britain': 2691, 'infam': 2692, 'precis': 2693, 'diamond': 2694, 'racism': 2695, 'fbi': 2696, 'chaplin': 2697, 'pat': 2698, 'resolut': 2699, 'hammer': 2700, 'happili': 2701, 'wilder': 2702, 'helen': 2703, 'streisand': 2704, 'dedic': 2705, 'ensembl': 2706, 'flop': 2707, 'parallel': 2708, 'conclud': 2709, 'carter': 2710, 'broke': 2711, 'st': 2712, 'disagre': 2713, 'mar': 2714, 'cube': 2715, 'oil': 2716, 'factori': 2717, 'triumph': 2718, 'plastic': 2719, 'vega': 2720, 'rocket': 2721, 'weight': 2722, 'row': 2723, 'own': 2724, 'bush': 2725, 'climb': 2726, 'chuckl': 2727, 'fighter': 2728, 'march': 2729, 'luca': 2730, 'enorm': 2731, 'boot': 2732, 'thug': 2733, 'spare': 2734, 'mst3k': 2735, 'dane': 2736, 'sensibl': 2737, 'unforgett': 2738, 'meaning': 2739, 'kurt': 2740, 'wherea': 2741, 'dump': 2742, 'lust': 2743, 'karloff': 2744, 'rap': 2745, 'engin': 2746, 'arnold': 2747, 'stress': 2748, 'caricatur': 2749, 'butt': 2750, 'difficulti': 2751, 'brand': 2752, 'bobbi': 2753, 'adequ': 2754, 'dear': 2755, 'fifti': 2756, 'threat': 2757, 'hamlet': 2758, 'polish': 2759, 'secretari': 2760, 'arrog': 2761, 'journalist': 2762, 'elabor': 2763, 'flynn': 2764, 'ego': 2765, 'fest': 2766, 'homeless': 2767, 'barri': 2768, 'ralph': 2769, 'swing': 2770, 'resort': 2771, 'simpson': 2772, 'puppet': 2773, 'float': 2774, 'arrang': 2775, 'conspiraci': 2776, 'induc': 2777, 'tool': 2778, 'grate': 2779, 'unbear': 2780, 'spike': 2781, 'fanci': 2782, 'phillip': 2783, 'boll': 2784, 'pig': 2785, 'cruis': 2786, 'muppet': 2787, 'choreograph': 2788, 'basement': 2789, 'exercis': 2790, 'guilt': 2791, 'tribut': 2792, 'scarecrow': 2793, 'document': 2794, 'korean': 2795, 'medium': 2796, '24': 2797, 'puzzl': 2798, 'slip': 2799, 'tower': 2800, 'file': 2801, 'ward': 2802, 'fianc': 2803, 'babe': 2804, 'stan': 2805, 'ham': 2806, 'item': 2807, 'toilet': 2808, 'editor': 2809, 'layer': 2810, 'superfici': 2811, 'spark': 2812, 'persona': 2813, 'transit': 2814, 'philosoph': 2815, 'catherin': 2816, 'glover': 2817, 'territori': 2818, 'denzel': 2819, 'inexplic': 2820, 'slaughter': 2821, 'portion': 2822, 'doc': 2823, 'librari': 2824, 'orient': 2825, 'minim': 2826, 'assur': 2827, 'larger': 2828, 'pg': 2829, 'sneak': 2830, 'jeremi': 2831, 'jet': 2832, 'wolf': 2833, 'dorothi': 2834, 'walken': 2835, 'curti': 2836, 'boredom': 2837, 'ban': 2838, 'financi': 2839, 'shi': 2840, 'owe': 2841, 'profound': 2842, 'metaphor': 2843, 'ambigu': 2844, 'backdrop': 2845, 'eleph': 2846, 'whale': 2847, 'cusack': 2848, 'hudson': 2849, 'multi': 2850, 'gadget': 2851, 'union': 2852, 'rave': 2853, 'viru': 2854, 'notion': 2855, 'stiff': 2856, 'ultra': 2857, '2005': 2858, 'birthday': 2859, 'hack': 2860, 'elsewher': 2861, 'implaus': 2862, 'superhero': 2863, 'eva': 2864, 'afford': 2865, 'poison': 2866, 'reader': 2867, 'squar': 2868, 'bibl': 2869, 'hawk': 2870, 'eastwood': 2871, 'disc': 2872, 'urg': 2873, 'lloyd': 2874, 'canada': 2875, '1st': 2876, 'slight': 2877, 'pad': 2878, 'distanc': 2879, 'deriv': 2880, 'newspap': 2881, 'skit': 2882, 'button': 2883, 'essenc': 2884, 'heston': 2885, 'charisma': 2886, 'drown': 2887, 'huh': 2888, 'spread': 2889, 'montag': 2890, 'restaur': 2891, 'health': 2892, 'cure': 2893, 'sadist': 2894, 'muslim': 2895, 'invest': 2896, 'estat': 2897, 'peak': 2898, 'scoobi': 2899, 'dealt': 2900, 'maniac': 2901, 'fetch': 2902, 'lab': 2903, 'gradual': 2904, 'companion': 2905, 'godfath': 2906, 'servant': 2907, 'miik': 2908, 'ritter': 2909, 'countless': 2910, 'subtleti': 2911, 'alli': 2912, 'tea': 2913, 'gothic': 2914, 'cup': 2915, 'kane': 2916, 'iii': 2917, 'briefli': 2918, 'electr': 2919, 'charismat': 2920, 'elect': 2921, 'salli': 2922, 'heroic': 2923, 'reel': 2924, 'toss': 2925, 'admittedli': 2926, 'nuanc': 2927, 'wannab': 2928, 'ingredi': 2929, 'bud': 2930, 'grandmoth': 2931, 'resourc': 2932, 'cole': 2933, 'neil': 2934, 'tender': 2935, 'carrey': 2936, 'punk': 2937, 'dawson': 2938, 'mild': 2939, 'shall': 2940, 'pauli': 2941, 'kubrick': 2942, 'reev': 2943, 'stood': 2944, 'gate': 2945, 'poverti': 2946, 'pit': 2947, 'label': 2948, 'mafia': 2949, 'stronger': 2950, 'astair': 2951, 'assault': 2952, 'smooth': 2953, 'updat': 2954, 'useless': 2955, 'cardboard': 2956, 'terri': 2957, 'fond': 2958, 'easier': 2959, 'cox': 2960, 'smash': 2961, 'bakshi': 2962, 'ian': 2963, 'outcom': 2964, 'tag': 2965, 'burst': 2966, 'rex': 2967, 'fist': 2968, 'resolv': 2969, 'exchang': 2970, 'samurai': 2971, 'vulner': 2972, 'vari': 2973, 'divers': 2974, 'melodramat': 2975, 'increasingli': 2976, '2002': 2977, 'coincid': 2978, 'qualifi': 2979, 'sketch': 2980, 'reynold': 2981, 'luckili': 2982, 'templ': 2983, 'suspend': 2984, 'conveni': 2985, 'be': 2986, 'blast': 2987, 'scratch': 2988, 'insert': 2989, 'brillianc': 2990, 'tame': 2991, 'meat': 2992, 'matthew': 2993, 'gotta': 2994, 'coach': 2995, 'walker': 2996, 'nuclear': 2997, 'fisher': 2998, 'farm': 2999, 'ambiti': 3000, 'strictli': 3001, 'seventi': 3002, 'hamilton': 3003, 'pin': 3004, 'jami': 3005, 'soprano': 3006, 'ninja': 3007, 'grasp': 3008, 'joey': 3009, 'cave': 3010, 'recreat': 3011, 'struck': 3012, 'instantli': 3013, 'discoveri': 3014, 'clock': 3015, 'eccentr': 3016, 'kudo': 3017, 'monk': 3018, 'closet': 3019, 'revers': 3020, 'spooki': 3021, 'convolut': 3022, 'worthless': 3023, 'butcher': 3024, 'brosnan': 3025, 'empir': 3026, 'timeless': 3027, 'evok': 3028, 'declar': 3029, 'partli': 3030, 'communist': 3031, 'miracl': 3032, 'wipe': 3033, 'pal': 3034, 'gray': 3035, 'selfish': 3036, 'mitchel': 3037, 'clown': 3038, 'eighti': 3039, 'seller': 3040, 'inconsist': 3041, 'bleak': 3042, 'sidekick': 3043, 'sloppi': 3044, 'cliff': 3045, 'norman': 3046, 'importantli': 3047, 'fifteen': 3048, 'seed': 3049, 'stoog': 3050, 'destin': 3051, 'chew': 3052, 'lifestyl': 3053, 'aforement': 3054, 'australia': 3055, 'farc': 3056, 'cheek': 3057, 'flawless': 3058, 'psychiatrist': 3059, 'ho': 3060, 'debat': 3061, 'superbl': 3062, 'enthusiast': 3063, '45': 3064, 'websit': 3065, 'piano': 3066, 'soviet': 3067, 'slice': 3068, 'bash': 3069, 'incompet': 3070, 'anni': 3071, 'dire': 3072, 'emili': 3073, 'pressur': 3074, 'splatter': 3075, 'wick': 3076, 'abc': 3077, 'drivel': 3078, 'regardless': 3079, 'akshay': 3080, 'dash': 3081, 'wrestl': 3082, 'kitchen': 3083, 'directori': 3084, 'lou': 3085, 'distant': 3086, 'blob': 3087, 'glow': 3088, 'dave': 3089, 'artifici': 3090, 'chapter': 3091, 'duo': 3092, 'jar': 3093, 'doo': 3094, 'ken': 3095, 'seduc': 3096, 'helicopt': 3097, 'judi': 3098, 'pleasantli': 3099, 'boil': 3100, 'recov': 3101, 'cameron': 3102, 'curios': 3103, 'suppli': 3104, 'cagney': 3105, 'flower': 3106, 'beaten': 3107, 'cia': 3108, 'mann': 3109, 'increas': 3110, 'prize': 3111, 'francisco': 3112, 'drunken': 3113, 'craven': 3114, 'combat': 3115, 'eleg': 3116, 'perri': 3117, 'goldberg': 3118, 'glenn': 3119, 'panic': 3120, 'craig': 3121, 'hop': 3122, 'ellen': 3123, 'favour': 3124, 'laurel': 3125, 'turner': 3126, 'web': 3127, 'splendid': 3128, 'psychot': 3129, 'ranger': 3130, 'shortli': 3131, 'alexand': 3132, 'philosophi': 3133, 'gandhi': 3134, 'plausibl': 3135, 'min': 3136, '20th': 3137, 'greek': 3138, 'hatr': 3139, 'falk': 3140, 'wizard': 3141, 'gentl': 3142, 'modesti': 3143, 'graduat': 3144, 'rid': 3145, 'fx': 3146, 'ruth': 3147, 'slightest': 3148, 'flip': 3149, 'jealou': 3150, 'felix': 3151, 'legal': 3152, 'holi': 3153, 'futurist': 3154, 'fund': 3155, 'manhattan': 3156, 'tall': 3157, 'lend': 3158, 'dracula': 3159, 'unpleas': 3160, 'preciou': 3161, 'ocean': 3162, 'harm': 3163, 'knight': 3164, 'we': 3165, 'tank': 3166, 'forbidden': 3167, 'giallo': 3168, 'nod': 3169, 'childish': 3170, 'scientif': 3171, 'ami': 3172, 'thread': 3173, 'reviv': 3174, 'overdon': 3175, 'mock': 3176, 'digniti': 3177, 'bless': 3178, 'explicit': 3179, 'mel': 3180, 'unwatch': 3181, 'elderli': 3182, 'margaret': 3183, 'broad': 3184, 'eve': 3185, 'awaken': 3186, 'thick': 3187, 'yesterday': 3188, 'pirat': 3189, 'nerv': 3190, '2004': 3191, 'fever': 3192, 'verhoeven': 3193, 'awe': 3194, '99': 3195, 'repeatedli': 3196, 'torment': 3197, 'launch': 3198, 'uniform': 3199, 'absenc': 3200, 'ambit': 3201, 'eas': 3202, 'politician': 3203, 'acclaim': 3204, 'custom': 3205, 'rivet': 3206, 'timothi': 3207, 'publish': 3208, 'romero': 3209, 'kay': 3210, 'stiller': 3211, 'automat': 3212, 'ah': 3213, 'roman': 3214, 'griffith': 3215, 'lean': 3216, 'bin': 3217, 'royal': 3218, 'homicid': 3219, 'pulp': 3220, 'wallac': 3221, 'transport': 3222, 'sunshin': 3223, 'antic': 3224, 'gabriel': 3225, 'foul': 3226, 'crook': 3227, 'purpl': 3228, 'warren': 3229, 'pierc': 3230, 'darker': 3231, 'phrase': 3232, 'tomato': 3233, 'stinker': 3234, 'bathroom': 3235, 'termin': 3236, 'marin': 3237, '2003': 3238, 'viciou': 3239, 'li': 3240, 'coloni': 3241, 'q': 3242, 'album': 3243, 'evolv': 3244, 'saint': 3245, 'brazil': 3246, 'prom': 3247, 'sixti': 3248, 'ought': 3249, 'eyr': 3250, 'donna': 3251, 'contrari': 3252, 'juvenil': 3253, 'karen': 3254, 'kenneth': 3255, 'awak': 3256, 'choreographi': 3257, 'hollow': 3258, 'horrid': 3259, 'pray': 3260, 'revolutionari': 3261, 'rambo': 3262, 'packag': 3263, 'mildr': 3264, 'ramon': 3265, 'candid': 3266, 'option': 3267, 'blade': 3268, 'beatti': 3269, 'nerd': 3270, 'stole': 3271, 'conserv': 3272, 'twelv': 3273, 'ireland': 3274, 'dose': 3275, 'mummi': 3276, 'defi': 3277, 'boast': 3278, 'kapoor': 3279, 'overr': 3280, 'fulci': 3281, 'jazz': 3282, 'astonish': 3283, 'collabor': 3284, 'altman': 3285, 'trio': 3286, 'natali': 3287, 'protest': 3288, 'flame': 3289, 'funer': 3290, 'global': 3291, 'kirk': 3292, 'detract': 3293, 'confirm': 3294, 'mystic': 3295, 'shade': 3296, 'whip': 3297, 'nicholson': 3298, 'spit': 3299, 'bull': 3300, 'delici': 3301, 'destini': 3302, 'racial': 3303, 'yellow': 3304, 'enterpris': 3305, 'blake': 3306, 'audio': 3307, 'tommi': 3308, 'bottl': 3309, 'leap': 3310, 'harder': 3311, 'inherit': 3312, 'todd': 3313, 'popcorn': 3314, 'staff': 3315, 'bedroom': 3316, 'fonda': 3317, 'pseudo': 3318, 'vivid': 3319, 'merci': 3320, 'threw': 3321, 'enchant': 3322, 'swedish': 3323, 'visibl': 3324, 'meaningless': 3325, 'reunit': 3326, 'altogeth': 3327, 'adolesc': 3328, 'neo': 3329, 'atlanti': 3330, 'exhibit': 3331, 'synopsi': 3332, 'await': 3333, 'crocodil': 3334, 'edi': 3335, 'leonard': 3336, 'madonna': 3337, 'ruthless': 3338, 'roommat': 3339, 'lawrenc': 3340, 'bust': 3341, 'fanat': 3342, 'respond': 3343, 'moodi': 3344, 'reserv': 3345, 'decor': 3346, 'voight': 3347, 'wire': 3348, 'jew': 3349, 'befriend': 3350, 'uneven': 3351, 'suspici': 3352, 'lemmon': 3353, 'kennedi': 3354, 'tip': 3355, 'holli': 3356, 'centr': 3357, 'unsettl': 3358, 'palma': 3359, 'clumsi': 3360, 'bargain': 3361, 'chao': 3362, 'dimens': 3363, 'ventur': 3364, 'carl': 3365, 'garner': 3366, 'incident': 3367, 'audit': 3368, 'bradi': 3369, 'clint': 3370, 'rural': 3371, 'voyag': 3372, 'abysm': 3373, 'bold': 3374, '2007': 3375, 'ant': 3376, 'mall': 3377, 'troop': 3378, 'lit': 3379, 'cari': 3380, 'neglect': 3381, 'immigr': 3382, 'hart': 3383, 'imperson': 3384, 'timon': 3385, '2nd': 3386, 'daddi': 3387, 'wealth': 3388, 'acknowledg': 3389, 'echo': 3390, 'cuba': 3391, 'characterist': 3392, 'trail': 3393, 'tiger': 3394, 'nearbi': 3395, 'humili': 3396, 'cd': 3397, 'elimin': 3398, 'versu': 3399, 'poetic': 3400, 'paus': 3401, 'jeffrey': 3402, 'infect': 3403, 'collaps': 3404, 'marshal': 3405, 'homer': 3406, 'prejudic': 3407, 'mickey': 3408, 'pun': 3409, 'domest': 3410, 'mistaken': 3411, 'celluloid': 3412, 'solo': 3413, 'saga': 3414, 'repuls': 3415, 'harvey': 3416, 'olivi': 3417, 'ginger': 3418, 'assembl': 3419, '1996': 3420, 'chest': 3421, 'gear': 3422, 'apolog': 3423, 'undoubtedli': 3424, 'inappropri': 3425, 'tribe': 3426, 'hbo': 3427, 'pant': 3428, 'interrupt': 3429, 'sore': 3430, 'coat': 3431, 'leon': 3432, 'cake': 3433, 'inan': 3434, 'coffe': 3435, 'promin': 3436, 'milk': 3437, 'equip': 3438, 'brooklyn': 3439, 'polanski': 3440, 'pot': 3441, 'instant': 3442, 'maggi': 3443, 'solut': 3444, 'jenni': 3445, 'retain': 3446, 'humbl': 3447, 'highest': 3448, 'vulgar': 3449, 'exot': 3450, 'consum': 3451, 'institut': 3452, 'colleagu': 3453, 'colonel': 3454, 'aveng': 3455, 'pen': 3456, 'trace': 3457, 'devast': 3458, 'airplan': 3459, 'embrac': 3460, 'florida': 3461, 'furthermor': 3462, 'primari': 3463, 'godzilla': 3464, 'strain': 3465, 'bowl': 3466, 'wive': 3467, 'poke': 3468, 'gender': 3469, 'sale': 3470, 'seduct': 3471, 'linda': 3472, 'dian': 3473, 'principl': 3474, 'rick': 3475, '1999': 3476, 'outer': 3477, 'disabl': 3478, 'smaller': 3479, 'illog': 3480, 'descend': 3481, '3rd': 3482, 'cope': 3483, 'ya': 3484, 'dutch': 3485, 'gundam': 3486, 'yard': 3487, 'mixtur': 3488, 'lol': 3489, 'dud': 3490, 'dive': 3491, 'inferior': 3492, 'blatant': 3493, 'secondli': 3494, 'scope': 3495, 'glamor': 3496, 'gloriou': 3497, 'predecessor': 3498, 'vast': 3499, 'bubbl': 3500, 'rabbit': 3501, 'hal': 3502, 'beneath': 3503, 'devoid': 3504, 'primarili': 3505, 'cue': 3506, 'domino': 3507, 'grinch': 3508, 'april': 3509, 'arab': 3510, 'countrysid': 3511, 'garbo': 3512, 'disjoint': 3513, 'shelf': 3514, 'shirley': 3515, 'z': 3516, 'senseless': 3517, 'alert': 3518, 'myer': 3519, 'streep': 3520, 'trademark': 3521, 'et': 3522, 'hideou': 3523, 'simplist': 3524, 'pearl': 3525, 'breed': 3526, 'aggress': 3527, 'alfr': 3528, 'casual': 3529, 'invas': 3530, 'talki': 3531, 'museum': 3532, 'mayor': 3533, 'robberi': 3534, 'uwe': 3535, 'hardcor': 3536, 'stack': 3537, 'illeg': 3538, 'maci': 3539, 'stir': 3540, 'mail': 3541, 'oz': 3542, 'defens': 3543, 'loyal': 3544, 'robinson': 3545, 'rendit': 3546, 'boom': 3547, 'obtain': 3548, 'disgrac': 3549, 'acid': 3550, 'sh': 3551, 'unhappi': 3552, 'slide': 3553, 'applaud': 3554, 'vanish': 3555, 'stellar': 3556, 'hopeless': 3557, 'khan': 3558, 'experiment': 3559, 'rifl': 3560, 'berlin': 3561, 'scroog': 3562, 'dicken': 3563, 'tenant': 3564, 'wont': 3565, 'incomprehens': 3566, 'span': 3567, 'emphasi': 3568, 'tempt': 3569, 'blew': 3570, 'spider': 3571, 'psychic': 3572, 'dismiss': 3573, 'topless': 3574, 'fri': 3575, 'diana': 3576, 'counter': 3577, 'grandfath': 3578, 'soccer': 3579, 'hartley': 3580, 'amanda': 3581, 'recruit': 3582, 'declin': 3583, 'craze': 3584, 'justin': 3585, 'faster': 3586, 'niro': 3587, 'resurrect': 3588, 'riot': 3589, 'revolt': 3590, 'bitch': 3591, 'shaw': 3592, 'porno': 3593, 'ration': 3594, 'lumet': 3595, 'ethnic': 3596, 'shed': 3597, 'wet': 3598, 'parad': 3599, 'woo': 3600, 'sympath': 3601, 'goer': 3602, 'trashi': 3603, 'sibl': 3604, 'intim': 3605, 'rider': 3606, '00': 3607, 'slick': 3608, 'worm': 3609, 'steam': 3610, 'weakest': 3611, 'ensur': 3612, 'lena': 3613, 'farmer': 3614, 'region': 3615, 'nephew': 3616, 'honesti': 3617, 'jonathan': 3618, 'commend': 3619, 'biographi': 3620, 'partial': 3621, 'wheel': 3622, 'wendi': 3623, 'mario': 3624, 'immort': 3625, 'eager': 3626, 'hopper': 3627, 'unreal': 3628, 'ballet': 3629, 'gap': 3630, 'patriot': 3631, 'feminist': 3632, 'dealer': 3633, 'andr': 3634, 'hesit': 3635, 'enlighten': 3636, 'choru': 3637, 'macarthur': 3638, 'prequel': 3639, 'victori': 3640, 'hung': 3641, 'owen': 3642, 'vice': 3643, 'psychopath': 3644, 'blunt': 3645, 'util': 3646, 'mutant': 3647, 'similarli': 3648, 'properti': 3649, 'repress': 3650, 'franco': 3651, 'skull': 3652, 'nostalg': 3653, 'morri': 3654, 'sandra': 3655, 'composit': 3656, 'snap': 3657, 'charlott': 3658, 'sappi': 3659, 'wore': 3660, 'safeti': 3661, 'confin': 3662, 'kingdom': 3663, 'leo': 3664, 'drum': 3665, 'kyle': 3666, 'campbel': 3667, 'bergman': 3668, 'dalton': 3669, 'compens': 3670, 'acquir': 3671, 'speci': 3672, 'rope': 3673, 'montana': 3674, 'valuabl': 3675, 'rocki': 3676, 'drain': 3677, 'despair': 3678, 'latin': 3679, 'heartbreak': 3680, '1972': 3681, 'emperor': 3682, 'dust': 3683, 'bumbl': 3684, 'hyde': 3685, 'compass': 3686, 'miseri': 3687, 'del': 3688, 'snl': 3689, 'farrel': 3690, 'whoopi': 3691, 'strand': 3692, 'repli': 3693, 'thru': 3694, 'deed': 3695, 'cg': 3696, 'pattern': 3697, 'tail': 3698, 'nervou': 3699, 'exit': 3700, 'tad': 3701, 'rambl': 3702, 'recycl': 3703, 'bonu': 3704, 'bow': 3705, 'carradin': 3706, 'wacki': 3707, 'slug': 3708, 'rapist': 3709, 'airport': 3710, 'downhil': 3711, 'tonight': 3712, 'chess': 3713, 'roth': 3714, 'percept': 3715, 'mistress': 3716, 'orson': 3717, 'martian': 3718, 'contempl': 3719, 'romp': 3720, 'gal': 3721, 'radic': 3722, '35': 3723, 'olli': 3724, 'gimmick': 3725, 'rotten': 3726, 'bleed': 3727, 'oppress': 3728, 'pour': 3729, 'da': 3730, 'pervert': 3731, 'pursuit': 3732, 'pervers': 3733, 'taught': 3734, 'tooth': 3735, 'shelley': 3736, 'stilt': 3737, 'arc': 3738, 'melodi': 3739, 'paltrow': 3740, 'preach': 3741, 'champion': 3742, 'belt': 3743, 'unpredict': 3744, 'dazzl': 3745, 'arguabl': 3746, 'programm': 3747, '1983': 3748, 'heal': 3749, 'attorney': 3750, 'mislead': 3751, 'slash': 3752, 'edgar': 3753, 'banal': 3754, 'tackl': 3755, 'passeng': 3756, 'poem': 3757, 'conneri': 3758, 'vocal': 3759, 'vengeanc': 3760, 'uplift': 3761, 'maid': 3762, 'marti': 3763, 'tiresom': 3764, 'bela': 3765, 'duval': 3766, 'graham': 3767, 'gambl': 3768, 'dixon': 3769, 'franki': 3770, 'orang': 3771, 'sensat': 3772, 'cleverli': 3773, 'chicken': 3774, 'mesmer': 3775, 'employe': 3776, 'virginia': 3777, 'raymond': 3778, 'rubi': 3779, 'closest': 3780, 'plight': 3781, 'extens': 3782, 'iran': 3783, 'lundgren': 3784, 'amitabh': 3785, 'pokemon': 3786, 'tube': 3787, '1968': 3788, 'crystal': 3789, 'mute': 3790, 'quarter': 3791, 'climact': 3792, 'numb': 3793, 'giggl': 3794, 'yawn': 3795, 'inject': 3796, 'volum': 3797, 'gerard': 3798, 'abraham': 3799, 'paranoia': 3800, 'engross': 3801, 'convincingli': 3802, 'swallow': 3803, 'profan': 3804, 'secretli': 3805, 'clone': 3806, 'monologu': 3807, 'outing': 3808, 'sirk': 3809, 'scottish': 3810, 'bay': 3811, 'calm': 3812, 'habit': 3813, 'whine': 3814, 'suffic': 3815, 'junior': 3816, 'richardson': 3817, 'nichola': 3818, 'earl': 3819, 'im': 3820, 'poetri': 3821, 'surpass': 3822, 'austen': 3823, 'spock': 3824, 'lowest': 3825, 'franci': 3826, 'underst': 3827, 'chicago': 3828, 'trend': 3829, 'fed': 3830, 'abort': 3831, 'grotesqu': 3832, 'profess': 3833, 'expand': 3834, 'backward': 3835, 'ethan': 3836, 'septemb': 3837, 'bend': 3838, 'meander': 3839, 'dispos': 3840, 'taxi': 3841, 'frankenstein': 3842, 'plod': 3843, 'linger': 3844, 'nostalgia': 3845, 'mundan': 3846, 'cannon': 3847, 'rant': 3848, 'instrument': 3849, 'simplic': 3850, 'greedi': 3851, 'descent': 3852, 'lure': 3853, 'econom': 3854, 'der': 3855, 'literatur': 3856, 'stallon': 3857, 'myth': 3858, 'household': 3859, 'tourist': 3860, 'dysfunct': 3861, 'waitress': 3862, 'eugen': 3863, 'muddl': 3864, 'spoke': 3865, 'sue': 3866, 'catchi': 3867, 'compliment': 3868, 'hum': 3869, 'rubber': 3870, 'phantom': 3871, 'damon': 3872, 'occupi': 3873, 'recognis': 3874, 'bacal': 3875, 'equival': 3876, 'carel': 3877, 'louis': 3878, 'hello': 3879, 'stale': 3880, 'eaten': 3881, 'omen': 3882, 'duck': 3883, 'lang': 3884, 'irrelev': 3885, 'cent': 3886, 'june': 3887, 'deaf': 3888, 'molli': 3889, 'furi': 3890, 'recognit': 3891, 'dement': 3892, 'phoni': 3893, 'randi': 3894, 'coast': 3895, 'mankind': 3896, 'firstli': 3897, 'flee': 3898, 'mortal': 3899, 'dictat': 3900, 'alongsid': 3901, 'map': 3902, 'sissi': 3903, 'crucial': 3904, 'insur': 3905, 'labor': 3906, 'reign': 3907, 'cyborg': 3908, 'wisdom': 3909, 'grayson': 3910, 'rude': 3911, '1973': 3912, 'daisi': 3913, 'onlin': 3914, 'biko': 3915, 'loyalti': 3916, 'drake': 3917, 'bump': 3918, 'lengthi': 3919, 'blackmail': 3920, 'newli': 3921, 'ashley': 3922, 'bike': 3923, 'rooney': 3924, 'likewis': 3925, 'antwon': 3926, 'dreari': 3927, 'damm': 3928, 'twilight': 3929, 'freez': 3930, 'distinguish': 3931, 'buffalo': 3932, 'heel': 3933, 'prey': 3934, 'sailor': 3935, 'interior': 3936, 'unorigin': 3937, 'proce': 3938, 'basketbal': 3939, 'tunnel': 3940, 'approv': 3941, 'keith': 3942, 'worn': 3943, 'butler': 3944, 'inher': 3945, 'emphas': 3946, 'exposur': 3947, 'pink': 3948, 'chronicl': 3949, 'boxer': 3950, 'startl': 3951, 'incorpor': 3952, 'provoc': 3953, 'attribut': 3954, 'barrymor': 3955, 'nineti': 3956, 'baddi': 3957, 'vein': 3958, 'analysi': 3959, 'ridden': 3960, 'othello': 3961, 'nicol': 3962, 'carla': 3963, 'bunni': 3964, 'improvis': 3965, 'hypnot': 3966, 'simmon': 3967, 'julian': 3968, 'substitut': 3969, 'elm': 3970, 'underli': 3971, 'mormon': 3972, 'belushi': 3973, 'millionair': 3974, 'er': 3975, 'degrad': 3976, 'mighti': 3977, 'meyer': 3978, 'condemn': 3979, 'walsh': 3980, 'indiffer': 3981, 'barrel': 3982, 'meg': 3983, 'drift': 3984, 'fleet': 3985, 'undeni': 3986, 'unrel': 3987, 'robbin': 3988, 'stalker': 3989, 'predat': 3990, 'rukh': 3991, 'disord': 3992, 'dolph': 3993, 'alarm': 3994, 'mtv': 3995, 'hay': 3996, '3d': 3997, 'roof': 3998, 'alison': 3999, 'marion': 4000, 'nyc': 4001, 'vital': 4002, 'errol': 4003, 'agenda': 4004, 'reid': 4005, 'watson': 4006, 'priceless': 4007, 'greed': 4008, 'firm': 4009, 'shove': 4010, 'unawar': 4011, 'edgi': 4012, 'enthusiasm': 4013, 'warmth': 4014, 'lampoon': 4015, 'novak': 4016, 'exquisit': 4017, 'palac': 4018, 'drip': 4019, 'zizek': 4020, 'valentin': 4021, 'ponder': 4022, 'unleash': 4023, 'beatl': 4024, 'eastern': 4025, '1933': 4026, 'spain': 4027, 'israel': 4028, 'iraq': 4029, 'glanc': 4030, 'orlean': 4031, 'peck': 4032, 'nun': 4033, 'testament': 4034, 'thompson': 4035, 'crown': 4036, 'session': 4037, 'championship': 4038, 'simultan': 4039, 'petti': 4040, 'cassidi': 4041, 'sergeant': 4042, 'gestur': 4043, 'randomli': 4044, 'distort': 4045, 'pamela': 4046, 'angela': 4047, 'showdown': 4048, 'what': 4049, 'minimum': 4050, 'campaign': 4051, '13th': 4052, 'profit': 4053, 'coup': 4054, 'peril': 4055, 'preserv': 4056, 'fido': 4057, 'gentleman': 4058, 'miyazaki': 4059, 'restrain': 4060, 'cream': 4061, 'stroke': 4062, 'scotland': 4063, 'sabrina': 4064, 'cooki': 4065, 'crawl': 4066, 'regist': 4067, 'mon': 4068, 'perpetu': 4069, 'buster': 4070, 'kurosawa': 4071, 'bro': 4072, 'din': 4073, 'climat': 4074, 'calib': 4075, 'rout': 4076, 'quinn': 4077, 'travesti': 4078, 'empathi': 4079, 'brenda': 4080, 'valley': 4081, 'unimagin': 4082, 'realm': 4083, 'crow': 4084, 'shootout': 4085, 'jan': 4086, 'han': 4087, 'exposit': 4088, 'contradict': 4089, 'stake': 4090, 'reson': 4091, 'wig': 4092, 'represent': 4093, '1984': 4094, 'crawford': 4095, 'baldwin': 4096, 'unseen': 4097, 'ross': 4098, 'ustinov': 4099, 'unsatisfi': 4100, 'traumat': 4101, 'passabl': 4102, 'absent': 4103, '1997': 4104, 'perceiv': 4105, 'wax': 4106, 'pole': 4107, 'painter': 4108, 'delic': 4109, 'stargat': 4110, 'shoddi': 4111, 'fuller': 4112, 'monoton': 4113, 'geek': 4114, 'warrant': 4115, 'mclaglen': 4116, 'femm': 4117, 'josh': 4118, 'soderbergh': 4119, 'censor': 4120, 'cloud': 4121, 'derang': 4122, 'meryl': 4123, 'spacey': 4124, 'darren': 4125, 'dana': 4126, 'distress': 4127, 'compromis': 4128, 'shaki': 4129, '1987': 4130, 'greg': 4131, 'tacki': 4132, 'sammi': 4133, 'businessman': 4134, 'abomin': 4135, 'demis': 4136, 'sucker': 4137, 'pretens': 4138, 'antonioni': 4139, 'exclus': 4140, 'wholli': 4141, 'dee': 4142, 'correctli': 4143, 'clash': 4144, 'anchor': 4145, '1993': 4146, 'polici': 4147, 'unravel': 4148, 'seal': 4149, 'valid': 4150, 'norm': 4151, 'fenc': 4152, 'accuraci': 4153, 'expedit': 4154, 'reluct': 4155, 'furiou': 4156, 'jewel': 4157, 'verbal': 4158, 'fog': 4159, 'deniro': 4160, 'judgment': 4161, 'deceas': 4162, 'sid': 4163, 'uncov': 4164, 'nathan': 4165, 'click': 4166, 'primit': 4167, 'kumar': 4168, 'tech': 4169, 'tarantino': 4170, 'austin': 4171, 'sunni': 4172, 'tax': 4173, 'wretch': 4174, 'bake': 4175, 'logan': 4176, 'fabric': 4177, 'clerk': 4178, 'fought': 4179, 'enforc': 4180, 'conduct': 4181, 'joel': 4182, 'pocket': 4183, 'dreck': 4184, 'fart': 4185, 'seldom': 4186, 'sustain': 4187, 'vanc': 4188, 'unfair': 4189, 'shanghai': 4190, 'patienc': 4191, 'trait': 4192, 'wang': 4193, 'alec': 4194, 'debt': 4195, '3000': 4196, 'roller': 4197, 'crippl': 4198, 'malon': 4199, 'murray': 4200, '1971': 4201, 'behold': 4202, 'ritual': 4203, 'nicola': 4204, 'temper': 4205, 'sand': 4206, '1995': 4207, 'sheet': 4208, 'darn': 4209, 'hallucin': 4210, 'mode': 4211, '2008': 4212, 'slam': 4213, 'robber': 4214, 'isabel': 4215, 'grief': 4216, 'bias': 4217, 'outlin': 4218, 'technicolor': 4219, 'stark': 4220, 'rita': 4221, 'scriptwrit': 4222, 'preposter': 4223, 'legaci': 4224, 'soup': 4225, 'despis': 4226, 'preston': 4227, 'conscious': 4228, 'pete': 4229, 'schedul': 4230, 'divid': 4231, 'shell': 4232, 'canyon': 4233, 'critiqu': 4234, 'clau': 4235, 'sweep': 4236, 'stuart': 4237, 'helpless': 4238, 'fundament': 4239, 'phil': 4240, 'bridget': 4241, 'guitar': 4242, 'penni': 4243, 'exhaust': 4244, 'tactic': 4245, 'squad': 4246, 'runner': 4247, 'restrict': 4248, 'gregori': 4249, 'consciou': 4250, 'drove': 4251, 'kansa': 4252, 'vomit': 4253, 'sentinel': 4254, 'propos': 4255, 'rear': 4256, 'culmin': 4257, 'jacket': 4258, 'flair': 4259, 'delv': 4260, 'alicia': 4261, 'newman': 4262, 'inabl': 4263, 'palanc': 4264, 'connor': 4265, 'lacklust': 4266, 'implic': 4267, 'jodi': 4268, 'sniper': 4269, 'cigarett': 4270, 'marc': 4271, 'boyl': 4272, 'russia': 4273, 'alley': 4274, 'rehash': 4275, 'liberti': 4276, 'agenc': 4277, 'passag': 4278, 'bloom': 4279, 'downey': 4280, 'sugar': 4281, 'invad': 4282, 'unexpectedli': 4283, 'aesthet': 4284, 'asylum': 4285, 'cap': 4286, 'rod': 4287, 'vet': 4288, 'ladder': 4289, 'rampag': 4290, 'mccoy': 4291, '22': 4292, 'improb': 4293, 'delet': 4294, 'kolchak': 4295, 'tendenc': 4296, 'feat': 4297, 'tripe': 4298, 'karl': 4299, 'pale': 4300, 'bacon': 4301, 'behaviour': 4302, 'lush': 4303, 'chainsaw': 4304, 'arrow': 4305, 'horn': 4306, 'yeti': 4307, 'wrench': 4308, '1936': 4309, 'rehears': 4310, 'foxx': 4311, 'awhil': 4312, 'sharon': 4313, 'weav': 4314, 'filler': 4315, 'amazon': 4316, 'wagner': 4317, 'coaster': 4318, 'conscienc': 4319, 'visitor': 4320, 'thunderbird': 4321, 'aristocrat': 4322, 'tasteless': 4323, '19th': 4324, 'underneath': 4325, 'hungri': 4326, 'el': 4327, 'spice': 4328, 'prank': 4329, 'elit': 4330, 'hackney': 4331, 'shortcom': 4332, 'globe': 4333, 'basing': 4334, '1920': 4335, 'suspicion': 4336, 'financ': 4337, 'tomorrow': 4338, 'suffici': 4339, 'minu': 4340, 'rumor': 4341, 'paradis': 4342, 'scoop': 4343, 'stream': 4344, '1978': 4345, 'lurk': 4346, 'newcom': 4347, 'fright': 4348, 'sung': 4349, 'paramount': 4350, 'wildli': 4351, '1988': 4352, 'rhythm': 4353, 'hulk': 4354, 'loneli': 4355, '1989': 4356, 'wwe': 4357, 'ingeni': 4358, 'quietli': 4359, '75': 4360, 'leigh': 4361, 'chamberlain': 4362, 'paxton': 4363, 'grudg': 4364, 'bread': 4365, 'lectur': 4366, 'standout': 4367, 'hopkin': 4368, 'abrupt': 4369, 'dirt': 4370, 'penn': 4371, 'curli': 4372, 'impos': 4373, 'straightforward': 4374, 'worship': 4375, 'springer': 4376, 'cancer': 4377, 'secondari': 4378, '1939': 4379, 'choppi': 4380, 'smell': 4381, 'brit': 4382, 'recogniz': 4383, 'minist': 4384, 'counterpart': 4385, 'literari': 4386, 'beverli': 4387, 'immers': 4388, 'inmat': 4389, 'iv': 4390, 'tierney': 4391, 'posey': 4392, 'entranc': 4393, 'en': 4394, 'naughti': 4395, 'couch': 4396, 'rub': 4397, 'teas': 4398, 'ram': 4399, 'heist': 4400, 'chavez': 4401, 'atroc': 4402, 'missil': 4403, 'cattl': 4404, 'esther': 4405, 'sublim': 4406, 'skeptic': 4407, 'misguid': 4408, 'quaid': 4409, 'lindsay': 4410, 'variat': 4411, 'geni': 4412, 'convert': 4413, 'attenborough': 4414, 'watcher': 4415, 'clan': 4416, '1986': 4417, 'transcend': 4418, 'laurenc': 4419, 'nemesi': 4420, 'enthral': 4421, 'sassi': 4422, 'net': 4423, 'heartfelt': 4424, 'duel': 4425, 'entitl': 4426, 'nolan': 4427, 'morbid': 4428, 'moreov': 4429, 'ratso': 4430, 'injuri': 4431, 'yearn': 4432, 'bernard': 4433, 'policeman': 4434, 'ace': 4435, 'carlito': 4436, 'kidman': 4437, 'uncut': 4438, 'grin': 4439, 'rosemari': 4440, 'diari': 4441, 'artsi': 4442, 'setup': 4443, 'poe': 4444, 'unexplain': 4445, 'bean': 4446, 'puppi': 4447, 'tyler': 4448, 'hk': 4449, 'mytholog': 4450, 'out': 4451, 'steadi': 4452, 'facil': 4453, 'moder': 4454, 'brood': 4455, 'buzz': 4456, 'obstacl': 4457, 'enabl': 4458, 'reliabl': 4459, 'dont': 4460, 'youngest': 4461, 'characteris': 4462, 'kitti': 4463, '1979': 4464, 'graini': 4465, 'spiral': 4466, 'hopelessli': 4467, 'egg': 4468, 'cruelti': 4469, 'bye': 4470, 'vader': 4471, 'exterior': 4472, 'hain': 4473, 'oblig': 4474, 'underworld': 4475, 'bronson': 4476, 'gina': 4477, 'christin': 4478, 'narrow': 4479, 'hammi': 4480, 'kline': 4481, 'disastr': 4482, 'decept': 4483, 'fuel': 4484, 'niec': 4485, 'athlet': 4486, 'sweat': 4487, 'brendan': 4488, 'acquaint': 4489, 'bewar': 4490, 'preming': 4491, 'weather': 4492, 'gillian': 4493, 'patricia': 4494, 'effici': 4495, 'despic': 4496, '1969': 4497, 'spontan': 4498, 'baffl': 4499, 'heap': 4500, 'bounc': 4501, 'clueless': 4502, 'martha': 4503, '19': 4504, 'astound': 4505, 'uh': 4506, 'dandi': 4507, 'scar': 4508, 'analyz': 4509, 'renaiss': 4510, 'goof': 4511, 'tick': 4512, 'rome': 4513, 'hepburn': 4514, 'suprem': 4515, 'sleepwalk': 4516, 'fontain': 4517, 'loi': 4518, 'taboo': 4519, '73': 4520, 'lester': 4521, 'mayhem': 4522, 'loath': 4523, 'viewpoint': 4524, 'circu': 4525, 'housewif': 4526, 'biker': 4527, 'injur': 4528, 'shatter': 4529, 'dilemma': 4530, 'headach': 4531, 'outlaw': 4532, 'insipid': 4533, 'enlist': 4534, 'harmless': 4535, 'preachi': 4536, 'mermaid': 4537, 'trigger': 4538, 'candl': 4539, 'sooner': 4540, 'angst': 4541, 'virtu': 4542, 'gere': 4543, 'hostag': 4544, 'ariel': 4545, 'fluff': 4546, 'boston': 4547, 'claustrophob': 4548, 'corbett': 4549, 'overlong': 4550, 'hooker': 4551, 'stair': 4552, 'sox': 4553, 'dismal': 4554, 'ebert': 4555, 'whore': 4556, 'cassavet': 4557, 'spade': 4558, 'redund': 4559, 'bent': 4560, 'dish': 4561, 'hokey': 4562, 'guin': 4563, 'slimi': 4564, 'phenomenon': 4565, 'scorses': 4566, 'salt': 4567, 'zoom': 4568, 'stimul': 4569, 'surgeri': 4570, 'camcord': 4571, 'amor': 4572, 'macho': 4573, 'intric': 4574, 'glorifi': 4575, 'filth': 4576, 'idol': 4577, 'foolish': 4578, 'immatur': 4579, 'tripl': 4580, 'oldest': 4581, 'steer': 4582, 'contempt': 4583, 'gabl': 4584, 'cohen': 4585, 'perman': 4586, 'muscl': 4587, 'cush': 4588, 'obligatori': 4589, 'naschi': 4590, 'schlock': 4591, 'nolt': 4592, 'spree': 4593, 'preced': 4594, 'messi': 4595, 'transplant': 4596, 'cow': 4597, 'gasp': 4598, 'proport': 4599, 'spinal': 4600, 'frantic': 4601, 'fascist': 4602, 'rhyme': 4603, 'remad': 4604, 'zane': 4605, 'conquer': 4606, 'antagonist': 4607, 'mutual': 4608, 'corman': 4609, '1976': 4610, 'assert': 4611, 'flirt': 4612, 'dwarf': 4613, 'down': 4614, 'margin': 4615, 'beard': 4616, '1981': 4617, 'flag': 4618, 'joker': 4619, 'faint': 4620, 'harold': 4621, 'flashi': 4622, 'shred': 4623, 'shield': 4624, 'trivia': 4625, 'mount': 4626, 'radiat': 4627, 'alvin': 4628, 'widescreen': 4629, 'keen': 4630, 'strongest': 4631, 'astronaut': 4632, 'bachelor': 4633, 'aborigin': 4634, '1945': 4635, 'danish': 4636, 'brush': 4637, 'wield': 4638, 'claud': 4639, 'someday': 4640, 'off': 4641, 'ritchi': 4642, 'sensual': 4643, '95': 4644, 'interestingli': 4645, 'resum': 4646, 'info': 4647, 'mobil': 4648, 'scandal': 4649, 'inflict': 4650, 'fishburn': 4651, 'bitten': 4652, 'strive': 4653, 'triangl': 4654, 'instruct': 4655, 'archiv': 4656, 'repris': 4657, 'barn': 4658, 'persuad': 4659, 'carey': 4660, 'flock': 4661, 'discern': 4662, 'deer': 4663, 'neurot': 4664, 'departur': 4665, 'hara': 4666, 'www': 4667, 'boob': 4668, 'divin': 4669, 'vaniti': 4670, 'mol': 4671, '28': 4672, 'raj': 4673, 'timberlak': 4674, 'europa': 4675, 'casino': 4676, 'pickford': 4677, 'bate': 4678, 'artwork': 4679, 'earnest': 4680, 'biblic': 4681, 'hug': 4682, 'frontier': 4683, 'melissa': 4684, 'jade': 4685, 'cb': 4686, 'cher': 4687, 'carlo': 4688, 'recit': 4689, 'cliffhang': 4690, 'axe': 4691, 'loretta': 4692, 'kathryn': 4693, 'neill': 4694, 'pacif': 4695, 'anton': 4696, 'proclaim': 4697, 'rot': 4698, 'luka': 4699, 'dame': 4700, 'prophet': 4701, 'helm': 4702, 'clad': 4703, 'ish': 4704, 'pixar': 4705, 'vibrant': 4706, 'fragil': 4707, 'miracul': 4708, 'harrison': 4709, 'hilar': 4710, 'banter': 4711, 'dim': 4712, 'heartwarm': 4713, 'cycl': 4714, 'wendigo': 4715, 'traffic': 4716, 'hapless': 4717, 'mobster': 4718, 'dylan': 4719, 'parson': 4720, 'colin': 4721, 'undermin': 4722, 'senior': 4723, 'submit': 4724, 'isra': 4725, 'legitim': 4726, 'flavor': 4727, 'milo': 4728, 'bondag': 4729, 'eli': 4730, 'antholog': 4731, 'seedi': 4732, 'jo': 4733, 'vile': 4734, 'feast': 4735, 'razor': 4736, 'marlon': 4737, 'northern': 4738, 'jordan': 4739, 'illus': 4740, 'cerebr': 4741, 'token': 4742, 'lui': 4743, 'orphan': 4744, 'akin': 4745, 'winchest': 4746, 'alexandr': 4747, 'breakfast': 4748, 'blatantli': 4749, 'venom': 4750, 'pc': 4751, 'redneck': 4752, 'foil': 4753, 'wardrob': 4754, 'mason': 4755, 'nope': 4756, 'aris': 4757, 'articl': 4758, 'holocaust': 4759, 'http': 4760, 'trier': 4761, 'mathieu': 4762, 'vanessa': 4763, 'misfortun': 4764, 'shepherd': 4765, 'lucil': 4766, 'estrang': 4767, 'toronto': 4768, 'bikini': 4769, 'rooki': 4770, 'sicken': 4771, 'electron': 4772, 'static': 4773, 'choke': 4774, 'uma': 4775, 'wrestler': 4776, 'styliz': 4777, 'linear': 4778, 'ideolog': 4779, 'tack': 4780, 'peer': 4781, 'howl': 4782, 'dudley': 4783, 'fifth': 4784, 'disregard': 4785, 'audrey': 4786, 'huston': 4787, 'magician': 4788, 'knightley': 4789, 'ceremoni': 4790, 'charlton': 4791, 'boyer': 4792, 'clinic': 4793, 'comprehend': 4794, 'gunga': 4795, 'gilbert': 4796, 'turd': 4797, 'swept': 4798, 'psych': 4799, 'abund': 4800, 'outdat': 4801, 'glare': 4802, 'deem': 4803, 'frog': 4804, 'shorter': 4805, 'cartoonish': 4806, 'retriev': 4807, 'nightclub': 4808, 'smack': 4809, 'leather': 4810, 'feminin': 4811, 'affleck': 4812, 'oppon': 4813, 'highway': 4814, 'newer': 4815, 'cuban': 4816, 'monument': 4817, 'conrad': 4818, 'evolut': 4819, 'toe': 4820, 'chip': 4821, 'lavish': 4822, 'moe': 4823, 'braveheart': 4824, 'corn': 4825, 'energet': 4826, 'deliver': 4827, '1991': 4828, 'whack': 4829, 'collector': 4830, 'bastard': 4831, '4th': 4832, 'durat': 4833, '1994': 4834, 'snatch': 4835, 'boo': 4836, 'btw': 4837, 'mitch': 4838, 'einstein': 4839, 'plate': 4840, 'summar': 4841, 'uniformli': 4842, 'phenomen': 4843, 'bogu': 4844, 'spawn': 4845, 'lighter': 4846, 'sleaz': 4847, 'potter': 4848, 'breakdown': 4849, 'goldsworthi': 4850, 'client': 4851, 'cemeteri': 4852, 'senat': 4853, 'tara': 4854, 'lifeless': 4855, 'greet': 4856, 'salman': 4857, 'spine': 4858, 'compris': 4859, 'kent': 4860, 'cecil': 4861, 'healthi': 4862, '1974': 4863, 'belli': 4864, 'replay': 4865, 'appl': 4866, 'gilliam': 4867, 'jam': 4868, 'spectacl': 4869, 'capot': 4870, 'kazan': 4871, 'eleven': 4872, 'occup': 4873, 'liu': 4874, 'undead': 4875, 'mcqueen': 4876, 'historian': 4877, '1977': 4878, 'pronounc': 4879, 'trauma': 4880, 'clara': 4881, 'outright': 4882, 'wtf': 4883, 'armstrong': 4884, 'judd': 4885, 'firmli': 4886, 'alleg': 4887, 'sorrow': 4888, 'lex': 4889, 'embark': 4890, 'luxuri': 4891, 'creek': 4892, 'evelyn': 4893, 'bulk': 4894, 'ol': 4895, 'inaccuraci': 4896, 'fluid': 4897, 'nina': 4898, 'jedi': 4899, 'jule': 4900, 'randolph': 4901, 'signal': 4902, 'bori': 4903, 'neatli': 4904, 'jare': 4905, 'undertak': 4906, 'ie': 4907, 'constitut': 4908, 'basket': 4909, 'cape': 4910, 'truman': 4911, 'inaccur': 4912, 'id': 4913, 'comb': 4914, 'vain': 4915, 'sacrif': 4916, 'palm': 4917, 'fruit': 4918, 'bsg': 4919, 'lanc': 4920, 'curtain': 4921, '1985': 4922, 'aussi': 4923, 'miniseri': 4924, 'walt': 4925, 'unattract': 4926, 'spray': 4927, 'meal': 4928, 'decapit': 4929, 'pepper': 4930, 'poker': 4931, 'antonio': 4932, 'carmen': 4933, 'rosario': 4934, 'lauren': 4935, 'roar': 4936, 'vignett': 4937, 'subtli': 4938, 'unsuspect': 4939, 'ash': 4940, 'abound': 4941, 'pioneer': 4942, 'blur': 4943, 'genet': 4944, 'miami': 4945, 'mum': 4946, 'galaxi': 4947, 'goldblum': 4948, 'forgiven': 4949, 'comprehens': 4950, 'kiddi': 4951, 'conan': 4952, 'relentless': 4953, 'knee': 4954, 'inclus': 4955, 'porter': 4956, 'propheci': 4957, 'paula': 4958, 'groan': 4959, 'bait': 4960, 'congratul': 4961, 'sidewalk': 4962, 'tokyo': 4963, 'jill': 4964, 'growth': 4965, 'scarfac': 4966, 'bach': 4967, 'victorian': 4968, 'ingrid': 4969, 'casper': 4970, 'monti': 4971, 'bravo': 4972, 'cypher': 4973, 'asset': 4974, 'turtl': 4975, 'frontal': 4976, 'epitom': 4977, 'vastli': 4978, 'spill': 4979, 'mice': 4980, 'drone': 4981, 'sophi': 4982, 'sparkl': 4983, 'scariest': 4984, 'orchestr': 4985, 'handicap': 4986, 'detach': 4987, 'hackman': 4988, 'reincarn': 4989, 'dubiou': 4990, '21st': 4991, 'optimist': 4992, 'substanti': 4993, 'rapidli': 4994, 'motorcycl': 4995, 'evan': 4996, 'omin': 4997, 'ghetto': 4998, 'weari': 4999}\n"
     ]
    }
   ],
   "source": [
    "word_dict = build_dict(train_X)\n",
    "print(word_dict)"
   ]
  },
  {
   "cell_type": "markdown",
   "metadata": {},
   "source": [
    "**Question:** What are the five most frequently appearing (tokenized) words in the training set? Does it makes sense that these words appear frequently in the training set?"
   ]
  },
  {
   "cell_type": "markdown",
   "metadata": {},
   "source": [
    "**Answer:** The 5 most frequently appearing takenized words in the training set are:  \n",
    "- movi\n",
    "- film\n",
    "- one\n",
    "- like\n",
    "- time\n",
    "\n",
    "This makes sense, since all these words are related to movie reviews. "
   ]
  },
  {
   "cell_type": "code",
   "execution_count": 79,
   "metadata": {},
   "outputs": [
    {
     "name": "stdout",
     "output_type": "stream",
     "text": [
      "['movi', 'film', 'one', 'like', 'time']\n"
     ]
    }
   ],
   "source": [
    "# TODO: Use this space to determine the five most frequently appearing words in the training set.\n",
    "most_frequent_words = list(word_dict.keys())[:5]\n",
    "print(most_frequent_words)"
   ]
  },
  {
   "cell_type": "markdown",
   "metadata": {},
   "source": [
    "### Save `word_dict`\n",
    "\n",
    "Later on when we construct an endpoint which processes a submitted review we will need to make use of the `word_dict` which we have created. As such, we will save it to a file now for future use."
   ]
  },
  {
   "cell_type": "code",
   "execution_count": 80,
   "metadata": {},
   "outputs": [],
   "source": [
    "data_dir = '../data/pytorch' # The folder we will use for storing data\n",
    "if not os.path.exists(data_dir): # Make sure that the folder exists\n",
    "    os.makedirs(data_dir)"
   ]
  },
  {
   "cell_type": "code",
   "execution_count": 81,
   "metadata": {},
   "outputs": [],
   "source": [
    "with open(os.path.join(data_dir, 'word_dict.pkl'), \"wb\") as f:\n",
    "    pickle.dump(word_dict, f)"
   ]
  },
  {
   "cell_type": "markdown",
   "metadata": {},
   "source": [
    "### Transform the reviews\n",
    "\n",
    "Now that we have our word dictionary which allows us to transform the words appearing in the reviews into integers, it is time to make use of it and convert our reviews to their integer sequence representation, making sure to pad or truncate to a fixed length, which in our case is `500`."
   ]
  },
  {
   "cell_type": "code",
   "execution_count": 82,
   "metadata": {},
   "outputs": [],
   "source": [
    "def convert_and_pad(word_dict, sentence, pad=500):\n",
    "    NOWORD = 0 # We will use 0 to represent the 'no word' category\n",
    "    INFREQ = 1 # and we use 1 to represent the infrequent words, i.e., words not appearing in word_dict\n",
    "    \n",
    "    working_sentence = [NOWORD] * pad\n",
    "    \n",
    "    for word_index, word in enumerate(sentence[:pad]):\n",
    "        if word in word_dict:\n",
    "            working_sentence[word_index] = word_dict[word]\n",
    "        else:\n",
    "            working_sentence[word_index] = INFREQ\n",
    "            \n",
    "    return working_sentence, min(len(sentence), pad)\n",
    "\n",
    "def convert_and_pad_data(word_dict, data, pad=500):\n",
    "    result = []\n",
    "    lengths = []\n",
    "    \n",
    "    for sentence in data:\n",
    "        converted, leng = convert_and_pad(word_dict, sentence, pad)\n",
    "        result.append(converted)\n",
    "        lengths.append(leng)\n",
    "        \n",
    "    return np.array(result), np.array(lengths)"
   ]
  },
  {
   "cell_type": "code",
   "execution_count": 83,
   "metadata": {},
   "outputs": [],
   "source": [
    "train_X, train_X_len = convert_and_pad_data(word_dict, train_X)\n",
    "test_X, test_X_len = convert_and_pad_data(word_dict, test_X)"
   ]
  },
  {
   "cell_type": "markdown",
   "metadata": {},
   "source": [
    "As a quick check to make sure that things are working as intended, check to see what one of the reviews in the training set looks like after having been processeed. Does this look reasonable? What is the length of a review in the training set?"
   ]
  },
  {
   "cell_type": "code",
   "execution_count": 94,
   "metadata": {},
   "outputs": [
    {
     "name": "stdout",
     "output_type": "stream",
     "text": [
      "[   2  281   38  141  189   70   58   11  238  318   85  144  266    2\n",
      "  146  943  543   50  526   20   32    7 3581    1  169  281  228    1\n",
      "    1   24   31 1237    1   33   29   69 3581   33  709   78  299  797\n",
      "    4    7   35    2  146 2022  408    1   33    1   29   69   66  191\n",
      "  202    2  669  238  318   85  161   15   39   24 1538  394   57  160\n",
      "    0    0    0    0    0    0    0    0    0    0    0    0    0    0\n",
      "    0    0    0    0    0    0    0    0    0    0    0    0    0    0\n",
      "    0    0    0    0    0    0    0    0    0    0    0    0    0    0\n",
      "    0    0    0    0    0    0    0    0    0    0    0    0    0    0\n",
      "    0    0    0    0    0    0    0    0    0    0    0    0    0    0\n",
      "    0    0    0    0    0    0    0    0    0    0    0    0    0    0\n",
      "    0    0    0    0    0    0    0    0    0    0    0    0    0    0\n",
      "    0    0    0    0    0    0    0    0    0    0    0    0    0    0\n",
      "    0    0    0    0    0    0    0    0    0    0    0    0    0    0\n",
      "    0    0    0    0    0    0    0    0    0    0    0    0    0    0\n",
      "    0    0    0    0    0    0    0    0    0    0    0    0    0    0\n",
      "    0    0    0    0    0    0    0    0    0    0    0    0    0    0\n",
      "    0    0    0    0    0    0    0    0    0    0    0    0    0    0\n",
      "    0    0    0    0    0    0    0    0    0    0    0    0    0    0\n",
      "    0    0    0    0    0    0    0    0    0    0    0    0    0    0\n",
      "    0    0    0    0    0    0    0    0    0    0    0    0    0    0\n",
      "    0    0    0    0    0    0    0    0    0    0    0    0    0    0\n",
      "    0    0    0    0    0    0    0    0    0    0    0    0    0    0\n",
      "    0    0    0    0    0    0    0    0    0    0    0    0    0    0\n",
      "    0    0    0    0    0    0    0    0    0    0    0    0    0    0\n",
      "    0    0    0    0    0    0    0    0    0    0    0    0    0    0\n",
      "    0    0    0    0    0    0    0    0    0    0    0    0    0    0\n",
      "    0    0    0    0    0    0    0    0    0    0    0    0    0    0\n",
      "    0    0    0    0    0    0    0    0    0    0    0    0    0    0\n",
      "    0    0    0    0    0    0    0    0    0    0    0    0    0    0\n",
      "    0    0    0    0    0    0    0    0    0    0    0    0    0    0\n",
      "    0    0    0    0    0    0    0    0    0    0    0    0    0    0\n",
      "    0    0    0    0    0    0    0    0    0    0    0    0    0    0\n",
      "    0    0    0    0    0    0    0    0    0    0    0    0    0    0\n",
      "    0    0    0    0    0    0    0    0    0    0    0    0    0    0\n",
      "    0    0    0    0    0    0    0    0    0    0]\n",
      "500\n",
      "[ 65 140 136 ...  94  91  41]\n"
     ]
    }
   ],
   "source": [
    "# Use this cell to examine one of the processed reviews to make sure everything is working as intended.\n",
    "print(train_X[100])\n",
    "print(len(train_X[100]))\n",
    "print(train_X_len)"
   ]
  },
  {
   "cell_type": "markdown",
   "metadata": {},
   "source": [
    "**Question:** In the cells above we use the `preprocess_data` and `convert_and_pad_data` methods to process both the training and testing set. Why or why not might this be a problem?"
   ]
  },
  {
   "cell_type": "markdown",
   "metadata": {},
   "source": [
    "**Answer:** I don't blieve this will be a problem because both functions aid in processing data. The processing data must occur in both the training and testing phases.\n",
    "\n",
    "`preprocess_data` applies `review_to_words` to each of the reviews in the training and testing datasets, and also caches the results. Incase we can't complete the notebook in the current session, we can come back without needing to process the data a second time.  \n",
    "`review_to_words` tokenizes the data by removing all HTML tags, converting all letters to lowercase, splitting the data points into individual words, and removes all stopwords.  \n",
    "`convert_and_pad_data` helps to maintain a constant data length"
   ]
  },
  {
   "cell_type": "markdown",
   "metadata": {},
   "source": [
    "## Step 3: Upload the data to S3\n",
    "\n",
    "As in the XGBoost notebook, we will need to upload the training dataset to S3 in order for our training code to access it. For now we will save it locally and we will upload to S3 later on.\n",
    "\n",
    "### Save the processed training dataset locally\n",
    "\n",
    "It is important to note the format of the data that we are saving as we will need to know it when we write the training code. In our case, each row of the dataset has the form `label`, `length`, `review[500]` where `review[500]` is a sequence of `500` integers representing the words in the review."
   ]
  },
  {
   "cell_type": "code",
   "execution_count": 95,
   "metadata": {},
   "outputs": [],
   "source": [
    "import pandas as pd\n",
    "    \n",
    "pd.concat([pd.DataFrame(train_y), pd.DataFrame(train_X_len), pd.DataFrame(train_X)], axis=1) \\\n",
    "        .to_csv(os.path.join(data_dir, 'train.csv'), header=False, index=False)"
   ]
  },
  {
   "cell_type": "markdown",
   "metadata": {},
   "source": [
    "### Uploading the training data\n",
    "\n",
    "\n",
    "Next, we need to upload the training data to the SageMaker default S3 bucket so that we can provide access to it while training our model."
   ]
  },
  {
   "cell_type": "code",
   "execution_count": 96,
   "metadata": {},
   "outputs": [],
   "source": [
    "import sagemaker\n",
    "\n",
    "sagemaker_session = sagemaker.Session()\n",
    "\n",
    "bucket = sagemaker_session.default_bucket()\n",
    "prefix = 'sagemaker/sentiment_rnn'\n",
    "\n",
    "role = sagemaker.get_execution_role()"
   ]
  },
  {
   "cell_type": "code",
   "execution_count": 97,
   "metadata": {},
   "outputs": [],
   "source": [
    "input_data = sagemaker_session.upload_data(path=data_dir, bucket=bucket, key_prefix=prefix)"
   ]
  },
  {
   "cell_type": "markdown",
   "metadata": {},
   "source": [
    "**NOTE:** The cell above uploads the entire contents of our data directory. This includes the `word_dict.pkl` file. This is fortunate as we will need this later on when we create an endpoint that accepts an arbitrary review. For now, we will just take note of the fact that it resides in the data directory (and so also in the S3 training bucket) and that we will need to make sure it gets saved in the model directory."
   ]
  },
  {
   "cell_type": "markdown",
   "metadata": {},
   "source": [
    "## Step 4: Build and Train the PyTorch Model\n",
    "\n",
    "In the XGBoost notebook we discussed what a model is in the SageMaker framework. In particular, a model comprises three objects\n",
    "\n",
    " - Model Artifacts,\n",
    " - Training Code, and\n",
    " - Inference Code,\n",
    " \n",
    "each of which interact with one another. In the XGBoost example we used training and inference code that was provided by Amazon. Here we will still be using containers provided by Amazon with the added benefit of being able to include our own custom code.\n",
    "\n",
    "We will start by implementing our own neural network in PyTorch along with a training script. For the purposes of this project we have provided the necessary model object in the `model.py` file, inside of the `train` folder. You can see the provided implementation by running the cell below."
   ]
  },
  {
   "cell_type": "code",
   "execution_count": 98,
   "metadata": {},
   "outputs": [
    {
     "name": "stdout",
     "output_type": "stream",
     "text": [
      "\u001b[34mimport\u001b[39;49;00m \u001b[04m\u001b[36mtorch.nn\u001b[39;49;00m \u001b[34mas\u001b[39;49;00m \u001b[04m\u001b[36mnn\u001b[39;49;00m\r\n",
      "\r\n",
      "\u001b[34mclass\u001b[39;49;00m \u001b[04m\u001b[32mLSTMClassifier\u001b[39;49;00m(nn.Module):\r\n",
      "    \u001b[33m\"\"\"\u001b[39;49;00m\r\n",
      "\u001b[33m    This is the simple RNN model we will be using to perform Sentiment Analysis.\u001b[39;49;00m\r\n",
      "\u001b[33m    \"\"\"\u001b[39;49;00m\r\n",
      "\r\n",
      "    \u001b[34mdef\u001b[39;49;00m \u001b[32m__init__\u001b[39;49;00m(\u001b[36mself\u001b[39;49;00m, embedding_dim, hidden_dim, vocab_size):\r\n",
      "        \u001b[33m\"\"\"\u001b[39;49;00m\r\n",
      "\u001b[33m        Initialize the model by settingg up the various layers.\u001b[39;49;00m\r\n",
      "\u001b[33m        \"\"\"\u001b[39;49;00m\r\n",
      "        \u001b[36msuper\u001b[39;49;00m(LSTMClassifier, \u001b[36mself\u001b[39;49;00m).\u001b[32m__init__\u001b[39;49;00m()\r\n",
      "\r\n",
      "        \u001b[36mself\u001b[39;49;00m.embedding = nn.Embedding(vocab_size, embedding_dim, padding_idx=\u001b[34m0\u001b[39;49;00m)\r\n",
      "        \u001b[36mself\u001b[39;49;00m.lstm = nn.LSTM(embedding_dim, hidden_dim)\r\n",
      "        \u001b[36mself\u001b[39;49;00m.dense = nn.Linear(in_features=hidden_dim, out_features=\u001b[34m1\u001b[39;49;00m)\r\n",
      "        \u001b[36mself\u001b[39;49;00m.sig = nn.Sigmoid()\r\n",
      "        \r\n",
      "        \u001b[36mself\u001b[39;49;00m.word_dict = \u001b[36mNone\u001b[39;49;00m\r\n",
      "\r\n",
      "    \u001b[34mdef\u001b[39;49;00m \u001b[32mforward\u001b[39;49;00m(\u001b[36mself\u001b[39;49;00m, x):\r\n",
      "        \u001b[33m\"\"\"\u001b[39;49;00m\r\n",
      "\u001b[33m        Perform a forward pass of our model on some input.\u001b[39;49;00m\r\n",
      "\u001b[33m        \"\"\"\u001b[39;49;00m\r\n",
      "        x = x.t()\r\n",
      "        lengths = x[\u001b[34m0\u001b[39;49;00m,:]\r\n",
      "        reviews = x[\u001b[34m1\u001b[39;49;00m:,:]\r\n",
      "        embeds = \u001b[36mself\u001b[39;49;00m.embedding(reviews)\r\n",
      "        lstm_out, _ = \u001b[36mself\u001b[39;49;00m.lstm(embeds)\r\n",
      "        out = \u001b[36mself\u001b[39;49;00m.dense(lstm_out)\r\n",
      "        out = out[lengths - \u001b[34m1\u001b[39;49;00m, \u001b[36mrange\u001b[39;49;00m(\u001b[36mlen\u001b[39;49;00m(lengths))]\r\n",
      "        \u001b[34mreturn\u001b[39;49;00m \u001b[36mself\u001b[39;49;00m.sig(out.squeeze())\r\n"
     ]
    }
   ],
   "source": [
    "!pygmentize train/model.py"
   ]
  },
  {
   "cell_type": "markdown",
   "metadata": {},
   "source": [
    "The important takeaway from the implementation provided is that there are three parameters that we may wish to tweak to improve the performance of our model. These are the embedding dimension, the hidden dimension and the size of the vocabulary. We will likely want to make these parameters configurable in the training script so that if we wish to modify them we do not need to modify the script itself. We will see how to do this later on. To start we will write some of the training code in the notebook so that we can more easily diagnose any issues that arise.\n",
    "\n",
    "First we will load a small portion of the training data set to use as a sample. It would be very time consuming to try and train the model completely in the notebook as we do not have access to a gpu and the compute instance that we are using is not particularly powerful. However, we can work on a small bit of the data to get a feel for how our training script is behaving."
   ]
  },
  {
   "cell_type": "code",
   "execution_count": 99,
   "metadata": {},
   "outputs": [],
   "source": [
    "import torch\n",
    "import torch.utils.data\n",
    "\n",
    "# Read in only the first 250 rows\n",
    "train_sample = pd.read_csv(os.path.join(data_dir, 'train.csv'), header=None, names=None, nrows=250)\n",
    "\n",
    "# Turn the input pandas dataframe into tensors\n",
    "train_sample_y = torch.from_numpy(train_sample[[0]].values).float().squeeze()\n",
    "train_sample_X = torch.from_numpy(train_sample.drop([0], axis=1).values).long()\n",
    "\n",
    "# Build the dataset\n",
    "train_sample_ds = torch.utils.data.TensorDataset(train_sample_X, train_sample_y)\n",
    "# Build the dataloader\n",
    "train_sample_dl = torch.utils.data.DataLoader(train_sample_ds, batch_size=50)"
   ]
  },
  {
   "cell_type": "markdown",
   "metadata": {},
   "source": [
    "### (TODO) Writing the training method\n",
    "\n",
    "Next we need to write the training code itself. This should be very similar to training methods that you have written before to train PyTorch models. We will leave any difficult aspects such as model saving / loading and parameter loading until a little later."
   ]
  },
  {
   "cell_type": "code",
   "execution_count": 105,
   "metadata": {},
   "outputs": [],
   "source": [
    "def train(model, train_loader, epochs, optimizer, loss_fn, device):\n",
    "    for epoch in range(1, epochs + 1):\n",
    "        model.train()\n",
    "        total_loss = 0\n",
    "        \n",
    "        for batch in train_loader:         \n",
    "            batch_X, batch_y = batch\n",
    "            \n",
    "            batch_X = batch_X.to(device) # Move inputs to device\n",
    "            batch_y = batch_y.to(device) # Move labels to device\n",
    "            \n",
    "            # TODO: Complete this train method to train the model provided.\n",
    "            optimizer.zero_grad() # Zero gradients \n",
    "            output = model.forward(batch_X) # Feedforward\n",
    "            loss = loss_fn(output, batch_y) # Calcualte loss \n",
    "            loss.backward() # Back propagation\n",
    "            optimizer.step() # Update weights\n",
    "            \n",
    "            total_loss += loss.data.item()\n",
    "        print(\"Epoch: {}, BCELoss: {}\".format(epoch, total_loss / len(train_loader)))"
   ]
  },
  {
   "cell_type": "markdown",
   "metadata": {},
   "source": [
    "Supposing we have the training method above, we will test that it is working by writing a bit of code in the notebook that executes our training method on the small sample training set that we loaded earlier. The reason for doing this in the notebook is so that we have an opportunity to fix any errors that arise early when they are easier to diagnose."
   ]
  },
  {
   "cell_type": "code",
   "execution_count": 106,
   "metadata": {},
   "outputs": [
    {
     "name": "stdout",
     "output_type": "stream",
     "text": [
      "Epoch: 1, BCELoss: 0.6921149730682373\n",
      "Epoch: 2, BCELoss: 0.683724319934845\n",
      "Epoch: 3, BCELoss: 0.6764644742012024\n",
      "Epoch: 4, BCELoss: 0.6682475328445434\n",
      "Epoch: 5, BCELoss: 0.658060348033905\n"
     ]
    }
   ],
   "source": [
    "import torch.optim as optim\n",
    "from train.model import LSTMClassifier\n",
    "\n",
    "device = torch.device(\"cuda\" if torch.cuda.is_available() else \"cpu\")\n",
    "model = LSTMClassifier(32, 100, 5000).to(device)\n",
    "optimizer = optim.Adam(model.parameters())\n",
    "loss_fn = torch.nn.BCELoss()\n",
    "\n",
    "train(model, train_sample_dl, 5, optimizer, loss_fn, device)"
   ]
  },
  {
   "cell_type": "markdown",
   "metadata": {},
   "source": [
    "In order to construct a PyTorch model using SageMaker we must provide SageMaker with a training script. We may optionally include a directory which will be copied to the container and from which our training code will be run. When the training container is executed it will check the uploaded directory (if there is one) for a `requirements.txt` file and install any required Python libraries, after which the training script will be run."
   ]
  },
  {
   "cell_type": "markdown",
   "metadata": {},
   "source": [
    "### (TODO) Training the model\n",
    "\n",
    "When a PyTorch model is constructed in SageMaker, an entry point must be specified. This is the Python file which will be executed when the model is trained. Inside of the `train` directory is a file called `train.py` which has been provided and which contains most of the necessary code to train our model. The only thing that is missing is the implementation of the `train()` method which you wrote earlier in this notebook.\n",
    "\n",
    "**TODO**: Copy the `train()` method written above and paste it into the `train/train.py` file where required.\n",
    "\n",
    "The way that SageMaker passes hyperparameters to the training script is by way of arguments. These arguments can then be parsed and used in the training script. To see how this is done take a look at the provided `train/train.py` file."
   ]
  },
  {
   "cell_type": "code",
   "execution_count": 125,
   "metadata": {},
   "outputs": [],
   "source": [
    "from sagemaker.pytorch import PyTorch\n",
    "\n",
    "estimator = PyTorch(entry_point=\"train.py\",\n",
    "                    source_dir=\"train\",\n",
    "                    role=role,\n",
    "                    framework_version='0.4.0',\n",
    "                    train_instance_count=1,\n",
    "                    train_instance_type='ml.m5.4xlarge',\n",
    "                    hyperparameters={\n",
    "                        'epochs': 10,\n",
    "                        'hidden_dim': 200,\n",
    "                    })"
   ]
  },
  {
   "cell_type": "code",
   "execution_count": 126,
   "metadata": {},
   "outputs": [
    {
     "name": "stdout",
     "output_type": "stream",
     "text": [
      "2020-03-20 18:05:07 Starting - Starting the training job...\n",
      "2020-03-20 18:05:11 Starting - Launching requested ML instances...\n",
      "2020-03-20 18:06:04 Starting - Preparing the instances for training......\n",
      "2020-03-20 18:07:02 Downloading - Downloading input data...\n",
      "2020-03-20 18:07:22 Training - Training image download completed. Training in progress.\u001b[34mbash: cannot set terminal process group (-1): Inappropriate ioctl for device\u001b[0m\n",
      "\u001b[34mbash: no job control in this shell\u001b[0m\n",
      "\u001b[34m2020-03-20 18:07:22,754 sagemaker-containers INFO     Imported framework sagemaker_pytorch_container.training\u001b[0m\n",
      "\u001b[34m2020-03-20 18:07:22,756 sagemaker-containers INFO     No GPUs detected (normal if no gpus installed)\u001b[0m\n",
      "\u001b[34m2020-03-20 18:07:22,767 sagemaker_pytorch_container.training INFO     Block until all host DNS lookups succeed.\u001b[0m\n",
      "\u001b[34m2020-03-20 18:07:24,187 sagemaker_pytorch_container.training INFO     Invoking user training script.\u001b[0m\n",
      "\u001b[34m2020-03-20 18:07:24,424 sagemaker-containers INFO     Module train does not provide a setup.py. \u001b[0m\n",
      "\u001b[34mGenerating setup.py\u001b[0m\n",
      "\u001b[34m2020-03-20 18:07:24,424 sagemaker-containers INFO     Generating setup.cfg\u001b[0m\n",
      "\u001b[34m2020-03-20 18:07:24,424 sagemaker-containers INFO     Generating MANIFEST.in\u001b[0m\n",
      "\u001b[34m2020-03-20 18:07:24,424 sagemaker-containers INFO     Installing module with the following command:\u001b[0m\n",
      "\u001b[34m/usr/bin/python -m pip install -U . -r requirements.txt\u001b[0m\n",
      "\u001b[34mProcessing /opt/ml/code\u001b[0m\n",
      "\u001b[34mCollecting pandas (from -r requirements.txt (line 1))\n",
      "  Downloading https://files.pythonhosted.org/packages/74/24/0cdbf8907e1e3bc5a8da03345c23cbed7044330bb8f73bb12e711a640a00/pandas-0.24.2-cp35-cp35m-manylinux1_x86_64.whl (10.0MB)\u001b[0m\n",
      "\u001b[34mCollecting numpy (from -r requirements.txt (line 2))\n",
      "  Downloading https://files.pythonhosted.org/packages/ff/18/c0b937e2f84095ae230196899e56d1d7d76c8e8424fb235ed7e5bb6d68af/numpy-1.18.2-cp35-cp35m-manylinux1_x86_64.whl (20.0MB)\u001b[0m\n",
      "\u001b[34mCollecting nltk (from -r requirements.txt (line 3))\n",
      "  Downloading https://files.pythonhosted.org/packages/f6/1d/d925cfb4f324ede997f6d47bea4d9babba51b49e87a767c170b77005889d/nltk-3.4.5.zip (1.5MB)\u001b[0m\n",
      "\u001b[34mCollecting beautifulsoup4 (from -r requirements.txt (line 4))\n",
      "  Downloading https://files.pythonhosted.org/packages/cb/a1/c698cf319e9cfed6b17376281bd0efc6bfc8465698f54170ef60a485ab5d/beautifulsoup4-4.8.2-py3-none-any.whl (106kB)\u001b[0m\n",
      "\u001b[34mCollecting html5lib (from -r requirements.txt (line 5))\n",
      "  Downloading https://files.pythonhosted.org/packages/a5/62/bbd2be0e7943ec8504b517e62bab011b4946e1258842bc159e5dfde15b96/html5lib-1.0.1-py2.py3-none-any.whl (117kB)\u001b[0m\n",
      "\u001b[34mCollecting pytz>=2011k (from pandas->-r requirements.txt (line 1))\n",
      "  Downloading https://files.pythonhosted.org/packages/e7/f9/f0b53f88060247251bf481fa6ea62cd0d25bf1b11a87888e53ce5b7c8ad2/pytz-2019.3-py2.py3-none-any.whl (509kB)\u001b[0m\n",
      "\u001b[34mRequirement already satisfied, skipping upgrade: python-dateutil>=2.5.0 in /usr/local/lib/python3.5/dist-packages (from pandas->-r requirements.txt (line 1)) (2.7.5)\u001b[0m\n",
      "\u001b[34mRequirement already satisfied, skipping upgrade: six in /usr/local/lib/python3.5/dist-packages (from nltk->-r requirements.txt (line 3)) (1.11.0)\u001b[0m\n",
      "\u001b[34mCollecting soupsieve>=1.2 (from beautifulsoup4->-r requirements.txt (line 4))\n",
      "  Downloading https://files.pythonhosted.org/packages/05/cf/ea245e52f55823f19992447b008bcbb7f78efc5960d77f6c34b5b45b36dd/soupsieve-2.0-py2.py3-none-any.whl\u001b[0m\n",
      "\u001b[34mCollecting webencodings (from html5lib->-r requirements.txt (line 5))\n",
      "  Downloading https://files.pythonhosted.org/packages/f4/24/2a3e3df732393fed8b3ebf2ec078f05546de641fe1b667ee316ec1dcf3b7/webencodings-0.5.1-py2.py3-none-any.whl\u001b[0m\n",
      "\u001b[34mBuilding wheels for collected packages: nltk, train\n",
      "  Running setup.py bdist_wheel for nltk: started\u001b[0m\n",
      "\u001b[34m  Running setup.py bdist_wheel for nltk: finished with status 'done'\n",
      "  Stored in directory: /root/.cache/pip/wheels/96/86/f6/68ab24c23f207c0077381a5e3904b2815136b879538a24b483\n",
      "  Running setup.py bdist_wheel for train: started\n",
      "  Running setup.py bdist_wheel for train: finished with status 'done'\n",
      "  Stored in directory: /tmp/pip-ephem-wheel-cache-fttzkg3c/wheels/35/24/16/37574d11bf9bde50616c67372a334f94fa8356bc7164af8ca3\u001b[0m\n",
      "\u001b[34mSuccessfully built nltk train\u001b[0m\n",
      "\u001b[34mInstalling collected packages: numpy, pytz, pandas, nltk, soupsieve, beautifulsoup4, webencodings, html5lib, train\n",
      "  Found existing installation: numpy 1.15.4\n",
      "    Uninstalling numpy-1.15.4:\u001b[0m\n",
      "\u001b[34m      Successfully uninstalled numpy-1.15.4\u001b[0m\n",
      "\u001b[34mSuccessfully installed beautifulsoup4-4.8.2 html5lib-1.0.1 nltk-3.4.5 numpy-1.18.2 pandas-0.24.2 pytz-2019.3 soupsieve-2.0 train-1.0.0 webencodings-0.5.1\u001b[0m\n",
      "\u001b[34mYou are using pip version 18.1, however version 20.0.2 is available.\u001b[0m\n",
      "\u001b[34mYou should consider upgrading via the 'pip install --upgrade pip' command.\u001b[0m\n",
      "\u001b[34m2020-03-20 18:07:35,078 sagemaker-containers INFO     No GPUs detected (normal if no gpus installed)\u001b[0m\n",
      "\u001b[34m2020-03-20 18:07:35,090 sagemaker-containers INFO     Invoking user script\n",
      "\u001b[0m\n",
      "\u001b[34mTraining Env:\n",
      "\u001b[0m\n",
      "\u001b[34m{\n",
      "    \"resource_config\": {\n",
      "        \"network_interface_name\": \"eth0\",\n",
      "        \"current_host\": \"algo-1\",\n",
      "        \"hosts\": [\n",
      "            \"algo-1\"\n",
      "        ]\n",
      "    },\n",
      "    \"module_name\": \"train\",\n",
      "    \"input_dir\": \"/opt/ml/input\",\n",
      "    \"additional_framework_parameters\": {},\n",
      "    \"input_data_config\": {\n",
      "        \"training\": {\n",
      "            \"S3DistributionType\": \"FullyReplicated\",\n",
      "            \"TrainingInputMode\": \"File\",\n",
      "            \"RecordWrapperType\": \"None\"\n",
      "        }\n",
      "    },\n",
      "    \"hosts\": [\n",
      "        \"algo-1\"\n",
      "    ],\n",
      "    \"channel_input_dirs\": {\n",
      "        \"training\": \"/opt/ml/input/data/training\"\n",
      "    },\n",
      "    \"output_intermediate_dir\": \"/opt/ml/output/intermediate\",\n",
      "    \"log_level\": 20,\n",
      "    \"num_gpus\": 0,\n",
      "    \"current_host\": \"algo-1\",\n",
      "    \"num_cpus\": 16,\n",
      "    \"job_name\": \"sagemaker-pytorch-2020-03-20-18-05-07-609\",\n",
      "    \"input_config_dir\": \"/opt/ml/input/config\",\n",
      "    \"framework_module\": \"sagemaker_pytorch_container.training:main\",\n",
      "    \"network_interface_name\": \"eth0\",\n",
      "    \"output_dir\": \"/opt/ml/output\",\n",
      "    \"module_dir\": \"s3://sagemaker-ca-central-1-932663560021/sagemaker-pytorch-2020-03-20-18-05-07-609/source/sourcedir.tar.gz\",\n",
      "    \"user_entry_point\": \"train.py\",\n",
      "    \"hyperparameters\": {\n",
      "        \"epochs\": 10,\n",
      "        \"hidden_dim\": 200\n",
      "    },\n",
      "    \"model_dir\": \"/opt/ml/model\",\n",
      "    \"output_data_dir\": \"/opt/ml/output/data\"\u001b[0m\n",
      "\u001b[34m}\n",
      "\u001b[0m\n",
      "\u001b[34mEnvironment variables:\n",
      "\u001b[0m\n",
      "\u001b[34mSM_INPUT_DIR=/opt/ml/input\u001b[0m\n",
      "\u001b[34mSM_TRAINING_ENV={\"additional_framework_parameters\":{},\"channel_input_dirs\":{\"training\":\"/opt/ml/input/data/training\"},\"current_host\":\"algo-1\",\"framework_module\":\"sagemaker_pytorch_container.training:main\",\"hosts\":[\"algo-1\"],\"hyperparameters\":{\"epochs\":10,\"hidden_dim\":200},\"input_config_dir\":\"/opt/ml/input/config\",\"input_data_config\":{\"training\":{\"RecordWrapperType\":\"None\",\"S3DistributionType\":\"FullyReplicated\",\"TrainingInputMode\":\"File\"}},\"input_dir\":\"/opt/ml/input\",\"job_name\":\"sagemaker-pytorch-2020-03-20-18-05-07-609\",\"log_level\":20,\"model_dir\":\"/opt/ml/model\",\"module_dir\":\"s3://sagemaker-ca-central-1-932663560021/sagemaker-pytorch-2020-03-20-18-05-07-609/source/sourcedir.tar.gz\",\"module_name\":\"train\",\"network_interface_name\":\"eth0\",\"num_cpus\":16,\"num_gpus\":0,\"output_data_dir\":\"/opt/ml/output/data\",\"output_dir\":\"/opt/ml/output\",\"output_intermediate_dir\":\"/opt/ml/output/intermediate\",\"resource_config\":{\"current_host\":\"algo-1\",\"hosts\":[\"algo-1\"],\"network_interface_name\":\"eth0\"},\"user_entry_point\":\"train.py\"}\u001b[0m\n",
      "\u001b[34mSM_FRAMEWORK_MODULE=sagemaker_pytorch_container.training:main\u001b[0m\n",
      "\u001b[34mSM_HP_HIDDEN_DIM=200\u001b[0m\n",
      "\u001b[34mSM_HPS={\"epochs\":10,\"hidden_dim\":200}\u001b[0m\n",
      "\u001b[34mSM_USER_ENTRY_POINT=train.py\u001b[0m\n",
      "\u001b[34mSM_NUM_GPUS=0\u001b[0m\n",
      "\u001b[34mSM_OUTPUT_DIR=/opt/ml/output\u001b[0m\n",
      "\u001b[34mSM_FRAMEWORK_PARAMS={}\u001b[0m\n",
      "\u001b[34mSM_OUTPUT_DATA_DIR=/opt/ml/output/data\u001b[0m\n",
      "\u001b[34mSM_CHANNELS=[\"training\"]\u001b[0m\n",
      "\u001b[34mSM_RESOURCE_CONFIG={\"current_host\":\"algo-1\",\"hosts\":[\"algo-1\"],\"network_interface_name\":\"eth0\"}\u001b[0m\n",
      "\u001b[34mSM_LOG_LEVEL=20\u001b[0m\n",
      "\u001b[34mSM_INPUT_CONFIG_DIR=/opt/ml/input/config\u001b[0m\n",
      "\u001b[34mSM_NETWORK_INTERFACE_NAME=eth0\u001b[0m\n",
      "\u001b[34mSM_OUTPUT_INTERMEDIATE_DIR=/opt/ml/output/intermediate\u001b[0m\n",
      "\u001b[34mPYTHONPATH=/usr/local/bin:/usr/lib/python35.zip:/usr/lib/python3.5:/usr/lib/python3.5/plat-x86_64-linux-gnu:/usr/lib/python3.5/lib-dynload:/usr/local/lib/python3.5/dist-packages:/usr/lib/python3/dist-packages\u001b[0m\n",
      "\u001b[34mSM_NUM_CPUS=16\u001b[0m\n",
      "\u001b[34mSM_INPUT_DATA_CONFIG={\"training\":{\"RecordWrapperType\":\"None\",\"S3DistributionType\":\"FullyReplicated\",\"TrainingInputMode\":\"File\"}}\u001b[0m\n",
      "\u001b[34mSM_CHANNEL_TRAINING=/opt/ml/input/data/training\u001b[0m\n",
      "\u001b[34mSM_USER_ARGS=[\"--epochs\",\"10\",\"--hidden_dim\",\"200\"]\u001b[0m\n",
      "\u001b[34mSM_MODULE_DIR=s3://sagemaker-ca-central-1-932663560021/sagemaker-pytorch-2020-03-20-18-05-07-609/source/sourcedir.tar.gz\u001b[0m\n",
      "\u001b[34mSM_MODULE_NAME=train\u001b[0m\n",
      "\u001b[34mSM_HOSTS=[\"algo-1\"]\u001b[0m\n",
      "\u001b[34mSM_HP_EPOCHS=10\u001b[0m\n",
      "\u001b[34mSM_MODEL_DIR=/opt/ml/model\u001b[0m\n",
      "\u001b[34mSM_CURRENT_HOST=algo-1\n",
      "\u001b[0m\n",
      "\u001b[34mInvoking script with the following command:\n",
      "\u001b[0m\n",
      "\u001b[34m/usr/bin/python -m train --epochs 10 --hidden_dim 200\n",
      "\n",
      "\u001b[0m\n",
      "\u001b[34mUsing device cpu.\u001b[0m\n",
      "\u001b[34mGet train data loader.\u001b[0m\n",
      "\u001b[34mModel loaded with embedding_dim 32, hidden_dim 200, vocab_size 5000.\u001b[0m\n"
     ]
    },
    {
     "name": "stdout",
     "output_type": "stream",
     "text": [
      "\u001b[34mEpoch: 1, BCELoss: 0.6671850742125998\u001b[0m\n",
      "\u001b[34mEpoch: 2, BCELoss: 0.5956128361273785\u001b[0m\n",
      "\u001b[34mEpoch: 3, BCELoss: 0.5734163151711834\u001b[0m\n",
      "\u001b[34mEpoch: 4, BCELoss: 0.48772270825444436\u001b[0m\n",
      "\u001b[34mEpoch: 5, BCELoss: 0.43531576954588597\u001b[0m\n",
      "\u001b[34mEpoch: 6, BCELoss: 0.37778329545137834\u001b[0m\n",
      "\u001b[34mEpoch: 7, BCELoss: 0.3472582795182053\u001b[0m\n",
      "\u001b[34mEpoch: 8, BCELoss: 0.3165429429132111\u001b[0m\n",
      "\u001b[34mEpoch: 9, BCELoss: 0.29534415110033385\u001b[0m\n",
      "\u001b[34mEpoch: 10, BCELoss: 0.28597942298772383\u001b[0m\n",
      "\u001b[34m2020-03-20 18:42:37,579 sagemaker-containers INFO     Reporting training SUCCESS\u001b[0m\n",
      "\n",
      "2020-03-20 18:42:45 Uploading - Uploading generated training model\n",
      "2020-03-20 18:42:45 Completed - Training job completed\n",
      "Training seconds: 2143\n",
      "Billable seconds: 2143\n"
     ]
    }
   ],
   "source": [
    "estimator.fit({'training': input_data})"
   ]
  },
  {
   "cell_type": "markdown",
   "metadata": {},
   "source": [
    "## Step 5: Testing the model\n",
    "\n",
    "As mentioned at the top of this notebook, we will be testing this model by first deploying it and then sending the testing data to the deployed endpoint. We will do this so that we can make sure that the deployed model is working correctly.\n",
    "\n",
    "## Step 6: Deploy the model for testing\n",
    "\n",
    "Now that we have trained our model, we would like to test it to see how it performs. Currently our model takes input of the form `review_length, review[500]` where `review[500]` is a sequence of `500` integers which describe the words present in the review, encoded using `word_dict`. Fortunately for us, SageMaker provides built-in inference code for models with simple inputs such as this.\n",
    "\n",
    "There is one thing that we need to provide, however, and that is a function which loads the saved model. This function must be called `model_fn()` and takes as its only parameter a path to the directory where the model artifacts are stored. This function must also be present in the python file which we specified as the entry point. In our case the model loading function has been provided and so no changes need to be made.\n",
    "\n",
    "**NOTE**: When the built-in inference code is run it must import the `model_fn()` method from the `train.py` file. This is why the training code is wrapped in a main guard ( ie, `if __name__ == '__main__':` )\n",
    "\n",
    "Since we don't need to change anything in the code that was uploaded during training, we can simply deploy the current model as-is.\n",
    "\n",
    "**NOTE:** When deploying a model you are asking SageMaker to launch an compute instance that will wait for data to be sent to it. As a result, this compute instance will continue to run until *you* shut it down. This is important to know since the cost of a deployed endpoint depends on how long it has been running for.\n",
    "\n",
    "In other words **If you are no longer using a deployed endpoint, shut it down!**\n",
    "\n",
    "**TODO:** Deploy the trained model."
   ]
  },
  {
   "cell_type": "code",
   "execution_count": 128,
   "metadata": {},
   "outputs": [
    {
     "name": "stdout",
     "output_type": "stream",
     "text": [
      "-------------!"
     ]
    }
   ],
   "source": [
    "# TODO: Deploy the trained model\n",
    "estimator_predictor = estimator.deploy(initial_instance_count=1, instance_type='ml.m5.4xlarge')"
   ]
  },
  {
   "cell_type": "markdown",
   "metadata": {},
   "source": [
    "## Step 7 - Use the model for testing\n",
    "\n",
    "Once deployed, we can read in the test data and send it off to our deployed model to get some results. Once we collect all of the results we can determine how accurate our model is."
   ]
  },
  {
   "cell_type": "code",
   "execution_count": 129,
   "metadata": {},
   "outputs": [],
   "source": [
    "test_X = pd.concat([pd.DataFrame(test_X_len), pd.DataFrame(test_X)], axis=1)"
   ]
  },
  {
   "cell_type": "code",
   "execution_count": 133,
   "metadata": {},
   "outputs": [],
   "source": [
    "# We split the data into chunks and send each chunk seperately, accumulating the results.\n",
    "def predict(data, rows=512):\n",
    "    split_array = np.array_split(data, int(data.shape[0] / float(rows) + 1))\n",
    "    predictions = np.array([])\n",
    "    for array in split_array:\n",
    "        predictions = np.append(predictions, estimator_predictor.predict(array))\n",
    "    \n",
    "    return predictions"
   ]
  },
  {
   "cell_type": "code",
   "execution_count": 134,
   "metadata": {},
   "outputs": [],
   "source": [
    "predictions = predict(test_X.values)\n",
    "predictions = [round(num) for num in predictions]"
   ]
  },
  {
   "cell_type": "code",
   "execution_count": 135,
   "metadata": {},
   "outputs": [
    {
     "data": {
      "text/plain": [
       "0.84972"
      ]
     },
     "execution_count": 135,
     "metadata": {},
     "output_type": "execute_result"
    }
   ],
   "source": [
    "from sklearn.metrics import accuracy_score\n",
    "accuracy_score(test_y, predictions)"
   ]
  },
  {
   "cell_type": "markdown",
   "metadata": {},
   "source": [
    "**Question:** How does this model compare to the XGBoost model you created earlier? Why might these two models perform differently on this dataset? Which do *you* think is better for sentiment analysis?"
   ]
  },
  {
   "cell_type": "markdown",
   "metadata": {},
   "source": [
    "**Answer:** Compared to the XGBoost model I created in the practice code, their accuracies are about the same. This LSTM model has an accuracy of ~85%, and the XGBoost model had an accuracy of ~86%. "
   ]
  },
  {
   "cell_type": "markdown",
   "metadata": {},
   "source": [
    "### (TODO) More testing\n",
    "\n",
    "We now have a trained model which has been deployed and which we can send processed reviews to and which returns the predicted sentiment. However, ultimately we would like to be able to send our model an unprocessed review. That is, we would like to send the review itself as a string. For example, suppose we wish to send the following review to our model."
   ]
  },
  {
   "cell_type": "code",
   "execution_count": 153,
   "metadata": {},
   "outputs": [],
   "source": [
    "test_review = 'The simplest pleasures in life are the best, and this film is one of them. Combining a rather basic storyline of love and adventure this movie transcends the usual weekend fair with wit and unmitigated charm.'"
   ]
  },
  {
   "cell_type": "markdown",
   "metadata": {},
   "source": [
    "The question we now need to answer is, how do we send this review to our model?\n",
    "\n",
    "Recall in the first section of this notebook we did a bunch of data processing to the IMDb dataset. In particular, we did two specific things to the provided reviews.\n",
    " - Removed any html tags and stemmed the input\n",
    " - Encoded the review as a sequence of integers using `word_dict`\n",
    " \n",
    "In order process the review we will need to repeat these two steps.\n",
    "\n",
    "**TODO**: Using the `review_to_words` and `convert_and_pad` methods from section one, convert `test_review` into a numpy array `test_data` suitable to send to our model. Remember that our model expects input of the form `review_length, review[500]`."
   ]
  },
  {
   "cell_type": "code",
   "execution_count": 206,
   "metadata": {},
   "outputs": [
    {
     "name": "stdout",
     "output_type": "stream",
     "text": [
      "[[20, 1, 1374, 50, 53, 3, 4, 878, 173, 392, 682, 29, 724, 2, 4418, 275, 2079, 1060, 760, 1, 581, 0, 0, 0, 0, 0, 0, 0, 0, 0, 0, 0, 0, 0, 0, 0, 0, 0, 0, 0, 0, 0, 0, 0, 0, 0, 0, 0, 0, 0, 0, 0, 0, 0, 0, 0, 0, 0, 0, 0, 0, 0, 0, 0, 0, 0, 0, 0, 0, 0, 0, 0, 0, 0, 0, 0, 0, 0, 0, 0, 0, 0, 0, 0, 0, 0, 0, 0, 0, 0, 0, 0, 0, 0, 0, 0, 0, 0, 0, 0, 0, 0, 0, 0, 0, 0, 0, 0, 0, 0, 0, 0, 0, 0, 0, 0, 0, 0, 0, 0, 0, 0, 0, 0, 0, 0, 0, 0, 0, 0, 0, 0, 0, 0, 0, 0, 0, 0, 0, 0, 0, 0, 0, 0, 0, 0, 0, 0, 0, 0, 0, 0, 0, 0, 0, 0, 0, 0, 0, 0, 0, 0, 0, 0, 0, 0, 0, 0, 0, 0, 0, 0, 0, 0, 0, 0, 0, 0, 0, 0, 0, 0, 0, 0, 0, 0, 0, 0, 0, 0, 0, 0, 0, 0, 0, 0, 0, 0, 0, 0, 0, 0, 0, 0, 0, 0, 0, 0, 0, 0, 0, 0, 0, 0, 0, 0, 0, 0, 0, 0, 0, 0, 0, 0, 0, 0, 0, 0, 0, 0, 0, 0, 0, 0, 0, 0, 0, 0, 0, 0, 0, 0, 0, 0, 0, 0, 0, 0, 0, 0, 0, 0, 0, 0, 0, 0, 0, 0, 0, 0, 0, 0, 0, 0, 0, 0, 0, 0, 0, 0, 0, 0, 0, 0, 0, 0, 0, 0, 0, 0, 0, 0, 0, 0, 0, 0, 0, 0, 0, 0, 0, 0, 0, 0, 0, 0, 0, 0, 0, 0, 0, 0, 0, 0, 0, 0, 0, 0, 0, 0, 0, 0, 0, 0, 0, 0, 0, 0, 0, 0, 0, 0, 0, 0, 0, 0, 0, 0, 0, 0, 0, 0, 0, 0, 0, 0, 0, 0, 0, 0, 0, 0, 0, 0, 0, 0, 0, 0, 0, 0, 0, 0, 0, 0, 0, 0, 0, 0, 0, 0, 0, 0, 0, 0, 0, 0, 0, 0, 0, 0, 0, 0, 0, 0, 0, 0, 0, 0, 0, 0, 0, 0, 0, 0, 0, 0, 0, 0, 0, 0, 0, 0, 0, 0, 0, 0, 0, 0, 0, 0, 0, 0, 0, 0, 0, 0, 0, 0, 0, 0, 0, 0, 0, 0, 0, 0, 0, 0, 0, 0, 0, 0, 0, 0, 0, 0, 0, 0, 0, 0, 0, 0, 0, 0, 0, 0, 0, 0, 0, 0, 0, 0, 0, 0, 0, 0, 0, 0, 0, 0, 0, 0, 0, 0, 0, 0, 0, 0, 0, 0, 0, 0, 0, 0, 0, 0, 0, 0, 0, 0, 0, 0, 0, 0, 0, 0, 0, 0, 0, 0, 0, 0, 0, 0, 0, 0, 0, 0, 0, 0, 0, 0, 0, 0, 0, 0, 0, 0, 0, 0, 0]]\n"
     ]
    }
   ],
   "source": [
    "# TODO: Convert test_review into a form usable by the model and save the results in test_data\n",
    "test_data = review_to_words(test_review)\n",
    "test_data, num_words = convert_and_pad(word_dict, test_data)\n",
    "test_data = [[num_words] + test_data]\n",
    "print(test_data)"
   ]
  },
  {
   "cell_type": "markdown",
   "metadata": {},
   "source": [
    "Now that we have processed the review, we can send the resulting array to our model to predict the sentiment of the review."
   ]
  },
  {
   "cell_type": "code",
   "execution_count": 201,
   "metadata": {},
   "outputs": [
    {
     "data": {
      "text/plain": [
       "array(0.8825889, dtype=float32)"
      ]
     },
     "execution_count": 201,
     "metadata": {},
     "output_type": "execute_result"
    }
   ],
   "source": [
    "estimator_predictor.predict(test_data)"
   ]
  },
  {
   "cell_type": "markdown",
   "metadata": {},
   "source": [
    "Since the return value of our model is close to `1`, we can be certain that the review we submitted is positive."
   ]
  },
  {
   "cell_type": "markdown",
   "metadata": {},
   "source": [
    "### Delete the endpoint\n",
    "\n",
    "Of course, just like in the XGBoost notebook, once we've deployed an endpoint it continues to run until we tell it to shut down. Since we are done using our endpoint for now, we can delete it."
   ]
  },
  {
   "cell_type": "code",
   "execution_count": 202,
   "metadata": {},
   "outputs": [],
   "source": [
    "estimator.delete_endpoint()"
   ]
  },
  {
   "cell_type": "markdown",
   "metadata": {},
   "source": [
    "## Step 6 (again) - Deploy the model for the web app\n",
    "\n",
    "Now that we know that our model is working, it's time to create some custom inference code so that we can send the model a review which has not been processed and have it determine the sentiment of the review.\n",
    "\n",
    "As we saw above, by default the estimator which we created, when deployed, will use the entry script and directory which we provided when creating the model. However, since we now wish to accept a string as input and our model expects a processed review, we need to write some custom inference code.\n",
    "\n",
    "We will store the code that we write in the `serve` directory. Provided in this directory is the `model.py` file that we used to construct our model, a `utils.py` file which contains the `review_to_words` and `convert_and_pad` pre-processing functions which we used during the initial data processing, and `predict.py`, the file which will contain our custom inference code. Note also that `requirements.txt` is present which will tell SageMaker what Python libraries are required by our custom inference code.\n",
    "\n",
    "When deploying a PyTorch model in SageMaker, you are expected to provide four functions which the SageMaker inference container will use.\n",
    " - `model_fn`: This function is the same function that we used in the training script and it tells SageMaker how to load our model.\n",
    " - `input_fn`: This function receives the raw serialized input that has been sent to the model's endpoint and its job is to de-serialize and make the input available for the inference code.\n",
    " - `output_fn`: This function takes the output of the inference code and its job is to serialize this output and return it to the caller of the model's endpoint.\n",
    " - `predict_fn`: The heart of the inference script, this is where the actual prediction is done and is the function which you will need to complete.\n",
    "\n",
    "For the simple website that we are constructing during this project, the `input_fn` and `output_fn` methods are relatively straightforward. We only require being able to accept a string as input and we expect to return a single value as output. You might imagine though that in a more complex application the input or output may be image data or some other binary data which would require some effort to serialize.\n",
    "\n",
    "### (TODO) Writing inference code\n",
    "\n",
    "Before writing our custom inference code, we will begin by taking a look at the code which has been provided."
   ]
  },
  {
   "cell_type": "code",
   "execution_count": 207,
   "metadata": {},
   "outputs": [
    {
     "name": "stdout",
     "output_type": "stream",
     "text": [
      "\u001b[34mimport\u001b[39;49;00m \u001b[04m\u001b[36margparse\u001b[39;49;00m\r\n",
      "\u001b[34mimport\u001b[39;49;00m \u001b[04m\u001b[36mjson\u001b[39;49;00m\r\n",
      "\u001b[34mimport\u001b[39;49;00m \u001b[04m\u001b[36mos\u001b[39;49;00m\r\n",
      "\u001b[34mimport\u001b[39;49;00m \u001b[04m\u001b[36mpickle\u001b[39;49;00m\r\n",
      "\u001b[34mimport\u001b[39;49;00m \u001b[04m\u001b[36msys\u001b[39;49;00m\r\n",
      "\u001b[34mimport\u001b[39;49;00m \u001b[04m\u001b[36msagemaker_containers\u001b[39;49;00m\r\n",
      "\u001b[34mimport\u001b[39;49;00m \u001b[04m\u001b[36mpandas\u001b[39;49;00m \u001b[34mas\u001b[39;49;00m \u001b[04m\u001b[36mpd\u001b[39;49;00m\r\n",
      "\u001b[34mimport\u001b[39;49;00m \u001b[04m\u001b[36mnumpy\u001b[39;49;00m \u001b[34mas\u001b[39;49;00m \u001b[04m\u001b[36mnp\u001b[39;49;00m\r\n",
      "\u001b[34mimport\u001b[39;49;00m \u001b[04m\u001b[36mtorch\u001b[39;49;00m\r\n",
      "\u001b[34mimport\u001b[39;49;00m \u001b[04m\u001b[36mtorch.nn\u001b[39;49;00m \u001b[34mas\u001b[39;49;00m \u001b[04m\u001b[36mnn\u001b[39;49;00m\r\n",
      "\u001b[34mimport\u001b[39;49;00m \u001b[04m\u001b[36mtorch.optim\u001b[39;49;00m \u001b[34mas\u001b[39;49;00m \u001b[04m\u001b[36moptim\u001b[39;49;00m\r\n",
      "\u001b[34mimport\u001b[39;49;00m \u001b[04m\u001b[36mtorch.utils.data\u001b[39;49;00m\r\n",
      "\r\n",
      "\u001b[34mfrom\u001b[39;49;00m \u001b[04m\u001b[36mmodel\u001b[39;49;00m \u001b[34mimport\u001b[39;49;00m LSTMClassifier\r\n",
      "\r\n",
      "\u001b[34mfrom\u001b[39;49;00m \u001b[04m\u001b[36mutils\u001b[39;49;00m \u001b[34mimport\u001b[39;49;00m review_to_words, convert_and_pad\r\n",
      "\r\n",
      "\u001b[34mdef\u001b[39;49;00m \u001b[32mmodel_fn\u001b[39;49;00m(model_dir):\r\n",
      "    \u001b[33m\"\"\"Load the PyTorch model from the `model_dir` directory.\"\"\"\u001b[39;49;00m\r\n",
      "    \u001b[34mprint\u001b[39;49;00m(\u001b[33m\"\u001b[39;49;00m\u001b[33mLoading model.\u001b[39;49;00m\u001b[33m\"\u001b[39;49;00m)\r\n",
      "\r\n",
      "    \u001b[37m# First, load the parameters used to create the model.\u001b[39;49;00m\r\n",
      "    model_info = {}\r\n",
      "    model_info_path = os.path.join(model_dir, \u001b[33m'\u001b[39;49;00m\u001b[33mmodel_info.pth\u001b[39;49;00m\u001b[33m'\u001b[39;49;00m)\r\n",
      "    \u001b[34mwith\u001b[39;49;00m \u001b[36mopen\u001b[39;49;00m(model_info_path, \u001b[33m'\u001b[39;49;00m\u001b[33mrb\u001b[39;49;00m\u001b[33m'\u001b[39;49;00m) \u001b[34mas\u001b[39;49;00m f:\r\n",
      "        model_info = torch.load(f)\r\n",
      "\r\n",
      "    \u001b[34mprint\u001b[39;49;00m(\u001b[33m\"\u001b[39;49;00m\u001b[33mmodel_info: {}\u001b[39;49;00m\u001b[33m\"\u001b[39;49;00m.format(model_info))\r\n",
      "\r\n",
      "    \u001b[37m# Determine the device and construct the model.\u001b[39;49;00m\r\n",
      "    device = torch.device(\u001b[33m\"\u001b[39;49;00m\u001b[33mcuda\u001b[39;49;00m\u001b[33m\"\u001b[39;49;00m \u001b[34mif\u001b[39;49;00m torch.cuda.is_available() \u001b[34melse\u001b[39;49;00m \u001b[33m\"\u001b[39;49;00m\u001b[33mcpu\u001b[39;49;00m\u001b[33m\"\u001b[39;49;00m)\r\n",
      "    model = LSTMClassifier(model_info[\u001b[33m'\u001b[39;49;00m\u001b[33membedding_dim\u001b[39;49;00m\u001b[33m'\u001b[39;49;00m], model_info[\u001b[33m'\u001b[39;49;00m\u001b[33mhidden_dim\u001b[39;49;00m\u001b[33m'\u001b[39;49;00m], model_info[\u001b[33m'\u001b[39;49;00m\u001b[33mvocab_size\u001b[39;49;00m\u001b[33m'\u001b[39;49;00m])\r\n",
      "\r\n",
      "    \u001b[37m# Load the store model parameters.\u001b[39;49;00m\r\n",
      "    model_path = os.path.join(model_dir, \u001b[33m'\u001b[39;49;00m\u001b[33mmodel.pth\u001b[39;49;00m\u001b[33m'\u001b[39;49;00m)\r\n",
      "    \u001b[34mwith\u001b[39;49;00m \u001b[36mopen\u001b[39;49;00m(model_path, \u001b[33m'\u001b[39;49;00m\u001b[33mrb\u001b[39;49;00m\u001b[33m'\u001b[39;49;00m) \u001b[34mas\u001b[39;49;00m f:\r\n",
      "        model.load_state_dict(torch.load(f))\r\n",
      "\r\n",
      "    \u001b[37m# Load the saved word_dict.\u001b[39;49;00m\r\n",
      "    word_dict_path = os.path.join(model_dir, \u001b[33m'\u001b[39;49;00m\u001b[33mword_dict.pkl\u001b[39;49;00m\u001b[33m'\u001b[39;49;00m)\r\n",
      "    \u001b[34mwith\u001b[39;49;00m \u001b[36mopen\u001b[39;49;00m(word_dict_path, \u001b[33m'\u001b[39;49;00m\u001b[33mrb\u001b[39;49;00m\u001b[33m'\u001b[39;49;00m) \u001b[34mas\u001b[39;49;00m f:\r\n",
      "        model.word_dict = pickle.load(f)\r\n",
      "\r\n",
      "    model.to(device).eval()\r\n",
      "\r\n",
      "    \u001b[34mprint\u001b[39;49;00m(\u001b[33m\"\u001b[39;49;00m\u001b[33mDone loading model.\u001b[39;49;00m\u001b[33m\"\u001b[39;49;00m)\r\n",
      "    \u001b[34mreturn\u001b[39;49;00m model\r\n",
      "\r\n",
      "\u001b[34mdef\u001b[39;49;00m \u001b[32minput_fn\u001b[39;49;00m(serialized_input_data, content_type):\r\n",
      "    \u001b[34mprint\u001b[39;49;00m(\u001b[33m'\u001b[39;49;00m\u001b[33mDeserializing the input data.\u001b[39;49;00m\u001b[33m'\u001b[39;49;00m)\r\n",
      "    \u001b[34mif\u001b[39;49;00m content_type == \u001b[33m'\u001b[39;49;00m\u001b[33mtext/plain\u001b[39;49;00m\u001b[33m'\u001b[39;49;00m:\r\n",
      "        data = serialized_input_data.decode(\u001b[33m'\u001b[39;49;00m\u001b[33mutf-8\u001b[39;49;00m\u001b[33m'\u001b[39;49;00m)\r\n",
      "        \u001b[34mreturn\u001b[39;49;00m data\r\n",
      "    \u001b[34mraise\u001b[39;49;00m \u001b[36mException\u001b[39;49;00m(\u001b[33m'\u001b[39;49;00m\u001b[33mRequested unsupported ContentType in content_type: \u001b[39;49;00m\u001b[33m'\u001b[39;49;00m + content_type)\r\n",
      "\r\n",
      "\u001b[34mdef\u001b[39;49;00m \u001b[32moutput_fn\u001b[39;49;00m(prediction_output, accept):\r\n",
      "    \u001b[34mprint\u001b[39;49;00m(\u001b[33m'\u001b[39;49;00m\u001b[33mSerializing the generated output.\u001b[39;49;00m\u001b[33m'\u001b[39;49;00m)\r\n",
      "    \u001b[34mreturn\u001b[39;49;00m \u001b[36mstr\u001b[39;49;00m(prediction_output)\r\n",
      "\r\n",
      "\u001b[34mdef\u001b[39;49;00m \u001b[32mpredict_fn\u001b[39;49;00m(input_data, model):\r\n",
      "    \u001b[34mprint\u001b[39;49;00m(\u001b[33m'\u001b[39;49;00m\u001b[33mInferring sentiment of input data.\u001b[39;49;00m\u001b[33m'\u001b[39;49;00m)\r\n",
      "\r\n",
      "    device = torch.device(\u001b[33m\"\u001b[39;49;00m\u001b[33mcuda\u001b[39;49;00m\u001b[33m\"\u001b[39;49;00m \u001b[34mif\u001b[39;49;00m torch.cuda.is_available() \u001b[34melse\u001b[39;49;00m \u001b[33m\"\u001b[39;49;00m\u001b[33mcpu\u001b[39;49;00m\u001b[33m\"\u001b[39;49;00m)\r\n",
      "    \r\n",
      "    \u001b[34mif\u001b[39;49;00m model.word_dict \u001b[35mis\u001b[39;49;00m \u001b[36mNone\u001b[39;49;00m:\r\n",
      "        \u001b[34mraise\u001b[39;49;00m \u001b[36mException\u001b[39;49;00m(\u001b[33m'\u001b[39;49;00m\u001b[33mModel has not been loaded properly, no word_dict.\u001b[39;49;00m\u001b[33m'\u001b[39;49;00m)\r\n",
      "    \r\n",
      "    \u001b[37m# TODO: Process input_data so that it is ready to be sent to our model.\u001b[39;49;00m\r\n",
      "    \u001b[37m#       You should produce two variables:\u001b[39;49;00m\r\n",
      "    \u001b[37m#         data_X   - A sequence of length 500 which represents the converted review\u001b[39;49;00m\r\n",
      "    \u001b[37m#         data_len - The length of the review\u001b[39;49;00m\r\n",
      "\r\n",
      "    data_X = \u001b[36mNone\u001b[39;49;00m\r\n",
      "    data_len = \u001b[36mNone\u001b[39;49;00m\r\n",
      "\r\n",
      "    \u001b[37m# Using data_X and data_len we construct an appropriate input tensor. Remember\u001b[39;49;00m\r\n",
      "    \u001b[37m# that our model expects input data of the form 'len, review[500]'.\u001b[39;49;00m\r\n",
      "    data_pack = np.hstack((data_len, data_X))\r\n",
      "    data_pack = data_pack.reshape(\u001b[34m1\u001b[39;49;00m, -\u001b[34m1\u001b[39;49;00m)\r\n",
      "    \r\n",
      "    data = torch.from_numpy(data_pack)\r\n",
      "    data = data.to(device)\r\n",
      "\r\n",
      "    \u001b[37m# Make sure to put the model into evaluation mode\u001b[39;49;00m\r\n",
      "    model.eval()\r\n",
      "\r\n",
      "    \u001b[37m# TODO: Compute the result of applying the model to the input data. The variable `result` should\u001b[39;49;00m\r\n",
      "    \u001b[37m#       be a numpy array which contains a single integer which is either 1 or 0\u001b[39;49;00m\r\n",
      "\r\n",
      "    result = \u001b[36mNone\u001b[39;49;00m\r\n",
      "\r\n",
      "    \u001b[34mreturn\u001b[39;49;00m result\r\n"
     ]
    }
   ],
   "source": [
    "!pygmentize serve/predict.py"
   ]
  },
  {
   "cell_type": "markdown",
   "metadata": {},
   "source": [
    "As mentioned earlier, the `model_fn` method is the same as the one provided in the training code and the `input_fn` and `output_fn` methods are very simple and your task will be to complete the `predict_fn` method. Make sure that you save the completed file as `predict.py` in the `serve` directory.\n",
    "\n",
    "**TODO**: Complete the `predict_fn()` method in the `serve/predict.py` file."
   ]
  },
  {
   "cell_type": "markdown",
   "metadata": {},
   "source": [
    "### Deploying the model\n",
    "\n",
    "Now that the custom inference code has been written, we will create and deploy our model. To begin with, we need to construct a new PyTorchModel object which points to the model artifacts created during training and also points to the inference code that we wish to use. Then we can call the deploy method to launch the deployment container.\n",
    "\n",
    "**NOTE**: The default behaviour for a deployed PyTorch model is to assume that any input passed to the predictor is a `numpy` array. In our case we want to send a string so we need to construct a simple wrapper around the `RealTimePredictor` class to accomodate simple strings. In a more complicated situation you may want to provide a serialization object, for example if you wanted to sent image data."
   ]
  },
  {
   "cell_type": "code",
   "execution_count": 217,
   "metadata": {},
   "outputs": [
    {
     "name": "stdout",
     "output_type": "stream",
     "text": [
      "-----------!"
     ]
    }
   ],
   "source": [
    "from sagemaker.predictor import RealTimePredictor\n",
    "from sagemaker.pytorch import PyTorchModel\n",
    "\n",
    "class StringPredictor(RealTimePredictor):\n",
    "    def __init__(self, endpoint_name, sagemaker_session):\n",
    "        super(StringPredictor, self).__init__(endpoint_name, sagemaker_session, content_type='text/plain')\n",
    "\n",
    "model = PyTorchModel(model_data=estimator.model_data,\n",
    "                     role = role,\n",
    "                     framework_version='0.4.0',\n",
    "                     entry_point='predict.py',\n",
    "                     source_dir='serve',\n",
    "                     predictor_cls=StringPredictor)\n",
    "predictor = model.deploy(initial_instance_count=1, instance_type='ml.m5.4xlarge')"
   ]
  },
  {
   "cell_type": "markdown",
   "metadata": {},
   "source": [
    "### Testing the model\n",
    "\n",
    "Now that we have deployed our model with the custom inference code, we should test to see if everything is working. Here we test our model by loading the first `250` positive and negative reviews and send them to the endpoint, then collect the results. The reason for only sending some of the data is that the amount of time it takes for our model to process the input and then perform inference is quite long and so testing the entire data set would be prohibitive."
   ]
  },
  {
   "cell_type": "code",
   "execution_count": 218,
   "metadata": {},
   "outputs": [],
   "source": [
    "import glob\n",
    "\n",
    "def test_reviews(data_dir='../data/aclImdb', stop=250):\n",
    "    \n",
    "    results = []\n",
    "    ground = []\n",
    "    \n",
    "    # We make sure to test both positive and negative reviews    \n",
    "    for sentiment in ['pos', 'neg']:\n",
    "        \n",
    "        path = os.path.join(data_dir, 'test', sentiment, '*.txt')\n",
    "        files = glob.glob(path)\n",
    "        \n",
    "        files_read = 0\n",
    "        \n",
    "        print('Starting ', sentiment, ' files')\n",
    "        \n",
    "        # Iterate through the files and send them to the predictor\n",
    "        for f in files:\n",
    "            with open(f) as review:\n",
    "                \n",
    "                # First, we store the ground truth (was the review positive or negative)\n",
    "                if sentiment == 'pos':\n",
    "                    ground.append(1)\n",
    "                else:\n",
    "                    ground.append(0)\n",
    "                    \n",
    "                # Read in the review and convert to 'utf-8' for transmission via HTTP\n",
    "                review_input = review.read().encode('utf-8')\n",
    "                \n",
    "                # Send the review to the predictor and store the results\n",
    "                results.append(int(predictor.predict(review_input)))\n",
    "                \n",
    "            # Sending reviews to our endpoint one at a time takes a while so we\n",
    "            # only send a small number of reviews\n",
    "            files_read += 1\n",
    "            if files_read == stop:\n",
    "                break\n",
    "            \n",
    "    return ground, results"
   ]
  },
  {
   "cell_type": "code",
   "execution_count": 219,
   "metadata": {},
   "outputs": [
    {
     "name": "stdout",
     "output_type": "stream",
     "text": [
      "Starting  pos  files\n",
      "Starting  neg  files\n"
     ]
    }
   ],
   "source": [
    "ground, results = test_reviews()"
   ]
  },
  {
   "cell_type": "code",
   "execution_count": 220,
   "metadata": {},
   "outputs": [
    {
     "data": {
      "text/plain": [
       "0.854"
      ]
     },
     "execution_count": 220,
     "metadata": {},
     "output_type": "execute_result"
    }
   ],
   "source": [
    "from sklearn.metrics import accuracy_score\n",
    "accuracy_score(ground, results)"
   ]
  },
  {
   "cell_type": "markdown",
   "metadata": {},
   "source": [
    "As an additional test, we can try sending the `test_review` that we looked at earlier."
   ]
  },
  {
   "cell_type": "code",
   "execution_count": 221,
   "metadata": {},
   "outputs": [
    {
     "data": {
      "text/plain": [
       "b'1'"
      ]
     },
     "execution_count": 221,
     "metadata": {},
     "output_type": "execute_result"
    }
   ],
   "source": [
    "predictor.predict(test_review)"
   ]
  },
  {
   "cell_type": "markdown",
   "metadata": {},
   "source": [
    "Now that we know our endpoint is working as expected, we can set up the web page that will interact with it. If you don't have time to finish the project now, make sure to skip down to the end of this notebook and shut down your endpoint. You can deploy it again when you come back."
   ]
  },
  {
   "cell_type": "markdown",
   "metadata": {},
   "source": [
    "## Step 7 (again): Use the model for the web app\n",
    "\n",
    "> **TODO:** This entire section and the next contain tasks for you to complete, mostly using the AWS console.\n",
    "\n",
    "So far we have been accessing our model endpoint by constructing a predictor object which uses the endpoint and then just using the predictor object to perform inference. What if we wanted to create a web app which accessed our model? The way things are set up currently makes that not possible since in order to access a SageMaker endpoint the app would first have to authenticate with AWS using an IAM role which included access to SageMaker endpoints. However, there is an easier way! We just need to use some additional AWS services.\n",
    "\n",
    "<img src=\"Web App Diagram.svg\">\n",
    "\n",
    "The diagram above gives an overview of how the various services will work together. On the far right is the model which we trained above and which is deployed using SageMaker. On the far left is our web app that collects a user's movie review, sends it off and expects a positive or negative sentiment in return.\n",
    "\n",
    "In the middle is where some of the magic happens. We will construct a Lambda function, which you can think of as a straightforward Python function that can be executed whenever a specified event occurs. We will give this function permission to send and recieve data from a SageMaker endpoint.\n",
    "\n",
    "Lastly, the method we will use to execute the Lambda function is a new endpoint that we will create using API Gateway. This endpoint will be a url that listens for data to be sent to it. Once it gets some data it will pass that data on to the Lambda function and then return whatever the Lambda function returns. Essentially it will act as an interface that lets our web app communicate with the Lambda function.\n",
    "\n",
    "### Setting up a Lambda function\n",
    "\n",
    "The first thing we are going to do is set up a Lambda function. This Lambda function will be executed whenever our public API has data sent to it. When it is executed it will receive the data, perform any sort of processing that is required, send the data (the review) to the SageMaker endpoint we've created and then return the result.\n",
    "\n",
    "#### Part A: Create an IAM Role for the Lambda function\n",
    "\n",
    "Since we want the Lambda function to call a SageMaker endpoint, we need to make sure that it has permission to do so. To do this, we will construct a role that we can later give the Lambda function.\n",
    "\n",
    "Using the AWS Console, navigate to the **IAM** page and click on **Roles**. Then, click on **Create role**. Make sure that the **AWS service** is the type of trusted entity selected and choose **Lambda** as the service that will use this role, then click **Next: Permissions**.\n",
    "\n",
    "In the search box type `sagemaker` and select the check box next to the **AmazonSageMakerFullAccess** policy. Then, click on **Next: Review**.\n",
    "\n",
    "Lastly, give this role a name. Make sure you use a name that you will remember later on, for example `LambdaSageMakerRole`. Then, click on **Create role**.\n",
    "\n",
    "#### Part B: Create a Lambda function\n",
    "\n",
    "Now it is time to actually create the Lambda function.\n",
    "\n",
    "Using the AWS Console, navigate to the AWS Lambda page and click on **Create a function**. When you get to the next page, make sure that **Author from scratch** is selected. Now, name your Lambda function, using a name that you will remember later on, for example `sentiment_analysis_func`. Make sure that the **Python 3.6** runtime is selected and then choose the role that you created in the previous part. Then, click on **Create Function**.\n",
    "\n",
    "On the next page you will see some information about the Lambda function you've just created. If you scroll down you should see an editor in which you can write the code that will be executed when your Lambda function is triggered. In our example, we will use the code below. \n",
    "\n",
    "```python\n",
    "# We need to use the low-level library to interact with SageMaker since the SageMaker API\n",
    "# is not available natively through Lambda.\n",
    "import boto3\n",
    "\n",
    "def lambda_handler(event, context):\n",
    "\n",
    "    # The SageMaker runtime is what allows us to invoke the endpoint that we've created.\n",
    "    runtime = boto3.Session().client('sagemaker-runtime')\n",
    "\n",
    "    # Now we use the SageMaker runtime to invoke our endpoint, sending the review we were given\n",
    "    response = runtime.invoke_endpoint(EndpointName = '**ENDPOINT NAME HERE**',    # The name of the endpoint we created\n",
    "                                       ContentType = 'text/plain',                 # The data format that is expected\n",
    "                                       Body = event['body'])                       # The actual review\n",
    "\n",
    "    # The response is an HTTP response whose body contains the result of our inference\n",
    "    result = response['Body'].read().decode('utf-8')\n",
    "\n",
    "    return {\n",
    "        'statusCode' : 200,\n",
    "        'headers' : { 'Content-Type' : 'text/plain', 'Access-Control-Allow-Origin' : '*' },\n",
    "        'body' : result\n",
    "    }\n",
    "```\n",
    "\n",
    "Once you have copy and pasted the code above into the Lambda code editor, replace the `**ENDPOINT NAME HERE**` portion with the name of the endpoint that we deployed earlier. You can determine the name of the endpoint using the code cell below."
   ]
  },
  {
   "cell_type": "code",
   "execution_count": 222,
   "metadata": {},
   "outputs": [
    {
     "data": {
      "text/plain": [
       "'sagemaker-pytorch-2020-03-20-21-49-51-624'"
      ]
     },
     "execution_count": 222,
     "metadata": {},
     "output_type": "execute_result"
    }
   ],
   "source": [
    "predictor.endpoint"
   ]
  },
  {
   "cell_type": "markdown",
   "metadata": {},
   "source": [
    "Once you have added the endpoint name to the Lambda function, click on **Save**. Your Lambda function is now up and running. Next we need to create a way for our web app to execute the Lambda function.\n",
    "\n",
    "### Setting up API Gateway\n",
    "\n",
    "Now that our Lambda function is set up, it is time to create a new API using API Gateway that will trigger the Lambda function we have just created.\n",
    "\n",
    "Using AWS Console, navigate to **Amazon API Gateway** and then click on **Get started**.\n",
    "\n",
    "On the next page, make sure that **New API** is selected and give the new api a name, for example, `sentiment_analysis_api`. Then, click on **Create API**.\n",
    "\n",
    "Now we have created an API, however it doesn't currently do anything. What we want it to do is to trigger the Lambda function that we created earlier.\n",
    "\n",
    "Select the **Actions** dropdown menu and click **Create Method**. A new blank method will be created, select its dropdown menu and select **POST**, then click on the check mark beside it.\n",
    "\n",
    "For the integration point, make sure that **Lambda Function** is selected and click on the **Use Lambda Proxy integration**. This option makes sure that the data that is sent to the API is then sent directly to the Lambda function with no processing. It also means that the return value must be a proper response object as it will also not be processed by API Gateway.\n",
    "\n",
    "Type the name of the Lambda function you created earlier into the **Lambda Function** text entry box and then click on **Save**. Click on **OK** in the pop-up box that then appears, giving permission to API Gateway to invoke the Lambda function you created.\n",
    "\n",
    "The last step in creating the API Gateway is to select the **Actions** dropdown and click on **Deploy API**. You will need to create a new Deployment stage and name it anything you like, for example `prod`.\n",
    "\n",
    "You have now successfully set up a public API to access your SageMaker model. Make sure to copy or write down the URL provided to invoke your newly created public API as this will be needed in the next step. This URL can be found at the top of the page, highlighted in blue next to the text **Invoke URL**."
   ]
  },
  {
   "cell_type": "markdown",
   "metadata": {},
   "source": [
    "## Step 4: Deploying our web app\n",
    "\n",
    "Now that we have a publicly available API, we can start using it in a web app. For our purposes, we have provided a simple static html file which can make use of the public api you created earlier.\n",
    "\n",
    "In the `website` folder there should be a file called `index.html`. Download the file to your computer and open that file up in a text editor of your choice. There should be a line which contains **\\*\\*REPLACE WITH PUBLIC API URL\\*\\***. Replace this string with the url that you wrote down in the last step and then save the file.\n",
    "\n",
    "Now, if you open `index.html` on your local computer, your browser will behave as a local web server and you can use the provided site to interact with your SageMaker model.\n",
    "\n",
    "If you'd like to go further, you can host this html file anywhere you'd like, for example using github or hosting a static site on Amazon's S3. Once you have done this you can share the link with anyone you'd like and have them play with it too!\n",
    "\n",
    "> **Important Note** In order for the web app to communicate with the SageMaker endpoint, the endpoint has to actually be deployed and running. This means that you are paying for it. Make sure that the endpoint is running when you want to use the web app but that you shut it down when you don't need it, otherwise you will end up with a surprisingly large AWS bill.\n",
    "\n",
    "**TODO:** Make sure that you include the edited `index.html` file in your project submission."
   ]
  },
  {
   "cell_type": "markdown",
   "metadata": {},
   "source": [
    "Now that your web app is working, trying playing around with it and see how well it works.\n",
    "\n",
    "**Question**: Give an example of a review that you entered into your web app. What was the predicted sentiment of your example review?"
   ]
  },
  {
   "cell_type": "markdown",
   "metadata": {},
   "source": [
    "**Answer:**  \n",
    "Test review #1: \"This movie is great\"  \n",
    "Output: Your review was POSITIVE!\"\n",
    "\n",
    "Test review #2: \"This movie is not great\"  \n",
    "Output: Your review was POSITIVE!\"\n",
    "\n",
    "Test review #3: \"This movie is not not great\"  \n",
    "Output: Your review was POSITIVE!\""
   ]
  },
  {
   "cell_type": "markdown",
   "metadata": {},
   "source": [
    "### Delete the endpoint\n",
    "\n",
    "Remember to always shut down your endpoint if you are no longer using it. You are charged for the length of time that the endpoint is running so if you forget and leave it on you could end up with an unexpectedly large bill."
   ]
  },
  {
   "cell_type": "code",
   "execution_count": 223,
   "metadata": {},
   "outputs": [],
   "source": [
    "predictor.delete_endpoint()"
   ]
  },
  {
   "cell_type": "code",
   "execution_count": null,
   "metadata": {},
   "outputs": [],
   "source": []
  }
 ],
 "metadata": {
  "kernelspec": {
   "display_name": "conda_pytorch_p36",
   "language": "python",
   "name": "conda_pytorch_p36"
  },
  "language_info": {
   "codemirror_mode": {
    "name": "ipython",
    "version": 3
   },
   "file_extension": ".py",
   "mimetype": "text/x-python",
   "name": "python",
   "nbconvert_exporter": "python",
   "pygments_lexer": "ipython3",
   "version": "3.6.5"
  }
 },
 "nbformat": 4,
 "nbformat_minor": 2
}
